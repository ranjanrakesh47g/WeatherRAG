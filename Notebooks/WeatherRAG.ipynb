{
 "cells": [
  {
   "cell_type": "markdown",
   "id": "93298850-dc7c-42cc-bee3-ff4019c8f240",
   "metadata": {},
   "source": [
    "## Indexing"
   ]
  },
  {
   "cell_type": "code",
   "execution_count": 1,
   "id": "895cdbd5-15a1-419e-8c3d-040631926465",
   "metadata": {},
   "outputs": [
    {
     "name": "stdout",
     "output_type": "stream",
     "text": [
      "/home/rakesh/Downloads/Evertz/WeatherRAG\n"
     ]
    },
    {
     "name": "stderr",
     "output_type": "stream",
     "text": [
      "/home/rakesh/Downloads/Evertz/WeatherRAG/venv/lib/python3.12/site-packages/IPython/core/magics/osm.py:417: UserWarning: This is now an optional IPython functionality, setting dhist requires you to install the `pickleshare` library.\n",
      "  self.shell.db['dhist'] = compress_dhist(dhist)[-100:]\n"
     ]
    }
   ],
   "source": [
    "cd /home/rakesh/Downloads/Evertz/WeatherRAG"
   ]
  },
  {
   "cell_type": "code",
   "execution_count": 2,
   "id": "4f619a33-eeb1-4a37-a016-d36bfd11cc26",
   "metadata": {},
   "outputs": [
    {
     "name": "stderr",
     "output_type": "stream",
     "text": [
      "/home/rakesh/Downloads/Evertz/WeatherRAG/venv/lib/python3.12/site-packages/tqdm/auto.py:21: TqdmWarning: IProgress not found. Please update jupyter and ipywidgets. See https://ipywidgets.readthedocs.io/en/stable/user_install.html\n",
      "  from .autonotebook import tqdm as notebook_tqdm\n",
      "/home/rakesh/Downloads/Evertz/WeatherRAG/venv/lib/python3.12/site-packages/IPython/core/interactiveshell.py:3577: LangChainDeprecationWarning: As of langchain-core 0.3.0, LangChain uses pydantic v2 internally. The langchain_core.pydantic_v1 module was a compatibility shim for pydantic v1, and should no longer be used. Please update the code to import from Pydantic directly.\n",
      "\n",
      "For example, replace imports like: `from langchain_core.pydantic_v1 import BaseModel`\n",
      "with: `from pydantic import BaseModel`\n",
      "or the v1 compatibility namespace if you are working in a code base that has not been fully upgraded to pydantic 2 yet. \tfrom pydantic.v1 import BaseModel\n",
      "\n",
      "  exec(code_obj, self.user_global_ns, self.user_ns)\n"
     ]
    }
   ],
   "source": [
    "import pandas as pd\n",
    "import torch\n",
    "import time\n",
    "import os\n",
    "from api_keys import GROQ_API_KEY, TAVILY_API_KEY\n",
    "from transformers import AutoTokenizer, AutoModel\n",
    "from langchain_core.documents import Document\n",
    "from langchain_elasticsearch import ElasticsearchStore\n",
    "from langchain_groq import ChatGroq\n",
    "from langchain.chains.query_constructor.base import AttributeInfo\n",
    "from langchain.retrievers.self_query.base import SelfQueryRetriever\n",
    "from langchain_core.prompts import ChatPromptTemplate, MessagesPlaceholder\n",
    "from langchain_core.runnables import RunnablePassthrough, RunnableParallel\n",
    "from langchain_core.output_parsers import StrOutputParser\n",
    "from langchain_core.messages import HumanMessage\n",
    "from langchain.chains import create_history_aware_retriever, create_retrieval_chain\n",
    "from langchain.chains.combine_documents import create_stuff_documents_chain\n",
    "from langchain_core.pydantic_v1 import BaseModel, Field\n",
    "from langchain_community.tools import TavilySearchResults\n",
    "from typing import List\n",
    "from typing_extensions import TypedDict\n",
    "from langgraph.graph import END, StateGraph, START\n",
    "from IPython.display import Image, display\n",
    "from langchain_core.runnables.graph import CurveStyle, MermaidDrawMethod, NodeStyles"
   ]
  },
  {
   "cell_type": "code",
   "execution_count": 3,
   "id": "109d4fdf-8986-4a44-afb4-d280776541cc",
   "metadata": {},
   "outputs": [],
   "source": [
    "os.environ[\"GROQ_API_KEY\"] = GROQ_API_KEY\n",
    "os.environ[\"TAVILY_API_KEY\"] = TAVILY_API_KEY"
   ]
  },
  {
   "cell_type": "code",
   "execution_count": null,
   "id": "3b1646c9-4c32-4c7c-874e-918fbbc01b08",
   "metadata": {},
   "outputs": [],
   "source": []
  },
  {
   "cell_type": "code",
   "execution_count": null,
   "id": "8aa43dbe-f0d8-41e8-aaa2-1b45007a92b3",
   "metadata": {},
   "outputs": [],
   "source": []
  },
  {
   "cell_type": "code",
   "execution_count": null,
   "id": "f6c57fb9-c544-450f-a3ba-1d8d1b63e022",
   "metadata": {},
   "outputs": [],
   "source": []
  },
  {
   "cell_type": "code",
   "execution_count": 4,
   "id": "c560ce3f-6faf-4782-94a3-719b6fdd9414",
   "metadata": {
    "scrolled": true
   },
   "outputs": [
    {
     "data": {
      "text/html": [
       "<div>\n",
       "<style scoped>\n",
       "    .dataframe tbody tr th:only-of-type {\n",
       "        vertical-align: middle;\n",
       "    }\n",
       "\n",
       "    .dataframe tbody tr th {\n",
       "        vertical-align: top;\n",
       "    }\n",
       "\n",
       "    .dataframe thead th {\n",
       "        text-align: right;\n",
       "    }\n",
       "</style>\n",
       "<table border=\"1\" class=\"dataframe\">\n",
       "  <thead>\n",
       "    <tr style=\"text-align: right;\">\n",
       "      <th></th>\n",
       "      <th>city</th>\n",
       "      <th>temperature</th>\n",
       "      <th>weather</th>\n",
       "      <th>climate</th>\n",
       "    </tr>\n",
       "  </thead>\n",
       "  <tbody>\n",
       "    <tr>\n",
       "      <th>0</th>\n",
       "      <td>New York</td>\n",
       "      <td>22</td>\n",
       "      <td>sunny</td>\n",
       "      <td>temperate</td>\n",
       "    </tr>\n",
       "    <tr>\n",
       "      <th>1</th>\n",
       "      <td>Los Angeles</td>\n",
       "      <td>25</td>\n",
       "      <td>partly cloudy</td>\n",
       "      <td>mediterranean</td>\n",
       "    </tr>\n",
       "    <tr>\n",
       "      <th>2</th>\n",
       "      <td>Chicago</td>\n",
       "      <td>18</td>\n",
       "      <td>cloudy</td>\n",
       "      <td>continental</td>\n",
       "    </tr>\n",
       "    <tr>\n",
       "      <th>3</th>\n",
       "      <td>Houston</td>\n",
       "      <td>30</td>\n",
       "      <td>thunderstorms</td>\n",
       "      <td>humid subtropical</td>\n",
       "    </tr>\n",
       "    <tr>\n",
       "      <th>4</th>\n",
       "      <td>Phoenix</td>\n",
       "      <td>35</td>\n",
       "      <td>sunny</td>\n",
       "      <td>desert</td>\n",
       "    </tr>\n",
       "    <tr>\n",
       "      <th>5</th>\n",
       "      <td>Toronto</td>\n",
       "      <td>20</td>\n",
       "      <td>partly cloudy</td>\n",
       "      <td>continental</td>\n",
       "    </tr>\n",
       "    <tr>\n",
       "      <th>6</th>\n",
       "      <td>Warsaw</td>\n",
       "      <td>16</td>\n",
       "      <td>overcast</td>\n",
       "      <td>temperate</td>\n",
       "    </tr>\n",
       "    <tr>\n",
       "      <th>7</th>\n",
       "      <td>Bangalore</td>\n",
       "      <td>28</td>\n",
       "      <td>rainy</td>\n",
       "      <td>tropical savanna</td>\n",
       "    </tr>\n",
       "    <tr>\n",
       "      <th>8</th>\n",
       "      <td>London</td>\n",
       "      <td>18</td>\n",
       "      <td>drizzle</td>\n",
       "      <td>temperate maritime</td>\n",
       "    </tr>\n",
       "    <tr>\n",
       "      <th>9</th>\n",
       "      <td>Paris</td>\n",
       "      <td>21</td>\n",
       "      <td>partly sunny</td>\n",
       "      <td>temperate</td>\n",
       "    </tr>\n",
       "    <tr>\n",
       "      <th>10</th>\n",
       "      <td>Tokyo</td>\n",
       "      <td>26</td>\n",
       "      <td>clear</td>\n",
       "      <td>humid subtropical</td>\n",
       "    </tr>\n",
       "    <tr>\n",
       "      <th>11</th>\n",
       "      <td>Sydney</td>\n",
       "      <td>22</td>\n",
       "      <td>windy</td>\n",
       "      <td>humid subtropical</td>\n",
       "    </tr>\n",
       "    <tr>\n",
       "      <th>12</th>\n",
       "      <td>Cape Town</td>\n",
       "      <td>19</td>\n",
       "      <td>partly cloudy</td>\n",
       "      <td>mediterranean</td>\n",
       "    </tr>\n",
       "    <tr>\n",
       "      <th>13</th>\n",
       "      <td>Moscow</td>\n",
       "      <td>15</td>\n",
       "      <td>cloudy</td>\n",
       "      <td>continental</td>\n",
       "    </tr>\n",
       "    <tr>\n",
       "      <th>14</th>\n",
       "      <td>Rio de Janeiro</td>\n",
       "      <td>29</td>\n",
       "      <td>scattered showers</td>\n",
       "      <td>tropical</td>\n",
       "    </tr>\n",
       "    <tr>\n",
       "      <th>15</th>\n",
       "      <td>Beijing</td>\n",
       "      <td>24</td>\n",
       "      <td>smoggy</td>\n",
       "      <td>continental</td>\n",
       "    </tr>\n",
       "    <tr>\n",
       "      <th>16</th>\n",
       "      <td>Mumbai</td>\n",
       "      <td>30</td>\n",
       "      <td>humid</td>\n",
       "      <td>tropical monsoon</td>\n",
       "    </tr>\n",
       "    <tr>\n",
       "      <th>17</th>\n",
       "      <td>Cairo</td>\n",
       "      <td>32</td>\n",
       "      <td>sunny</td>\n",
       "      <td>desert</td>\n",
       "    </tr>\n",
       "    <tr>\n",
       "      <th>18</th>\n",
       "      <td>Buenos Aires</td>\n",
       "      <td>23</td>\n",
       "      <td>clear</td>\n",
       "      <td>humid subtropical</td>\n",
       "    </tr>\n",
       "    <tr>\n",
       "      <th>19</th>\n",
       "      <td>Johannesburg</td>\n",
       "      <td>20</td>\n",
       "      <td>partly sunny</td>\n",
       "      <td>subtropical highland</td>\n",
       "    </tr>\n",
       "  </tbody>\n",
       "</table>\n",
       "</div>"
      ],
      "text/plain": [
       "              city  temperature            weather               climate\n",
       "0         New York           22              sunny             temperate\n",
       "1      Los Angeles           25      partly cloudy         mediterranean\n",
       "2          Chicago           18             cloudy           continental\n",
       "3          Houston           30      thunderstorms     humid subtropical\n",
       "4          Phoenix           35              sunny                desert\n",
       "5          Toronto           20      partly cloudy           continental\n",
       "6           Warsaw           16           overcast             temperate\n",
       "7        Bangalore           28              rainy      tropical savanna\n",
       "8           London           18            drizzle    temperate maritime\n",
       "9            Paris           21       partly sunny             temperate\n",
       "10           Tokyo           26              clear     humid subtropical\n",
       "11          Sydney           22              windy     humid subtropical\n",
       "12       Cape Town           19      partly cloudy         mediterranean\n",
       "13          Moscow           15             cloudy           continental\n",
       "14  Rio de Janeiro           29  scattered showers              tropical\n",
       "15         Beijing           24             smoggy           continental\n",
       "16          Mumbai           30              humid      tropical monsoon\n",
       "17           Cairo           32              sunny                desert\n",
       "18    Buenos Aires           23              clear     humid subtropical\n",
       "19    Johannesburg           20       partly sunny  subtropical highland"
      ]
     },
     "execution_count": 4,
     "metadata": {},
     "output_type": "execute_result"
    }
   ],
   "source": [
    "data = pd.read_excel('data/data.xlsx')\n",
    "data"
   ]
  },
  {
   "cell_type": "code",
   "execution_count": 5,
   "id": "16612b61-97a7-4d16-b5f6-08d8ee4f0b2d",
   "metadata": {
    "scrolled": true
   },
   "outputs": [
    {
     "data": {
      "text/html": [
       "<div>\n",
       "<style scoped>\n",
       "    .dataframe tbody tr th:only-of-type {\n",
       "        vertical-align: middle;\n",
       "    }\n",
       "\n",
       "    .dataframe tbody tr th {\n",
       "        vertical-align: top;\n",
       "    }\n",
       "\n",
       "    .dataframe thead th {\n",
       "        text-align: right;\n",
       "    }\n",
       "</style>\n",
       "<table border=\"1\" class=\"dataframe\">\n",
       "  <thead>\n",
       "    <tr style=\"text-align: right;\">\n",
       "      <th></th>\n",
       "      <th>city</th>\n",
       "      <th>temperature</th>\n",
       "      <th>weather</th>\n",
       "      <th>climate</th>\n",
       "      <th>weather_climate_desc</th>\n",
       "    </tr>\n",
       "  </thead>\n",
       "  <tbody>\n",
       "    <tr>\n",
       "      <th>0</th>\n",
       "      <td>New York</td>\n",
       "      <td>22</td>\n",
       "      <td>sunny</td>\n",
       "      <td>temperate</td>\n",
       "      <td>Weather is sunny and Climate is temperate</td>\n",
       "    </tr>\n",
       "    <tr>\n",
       "      <th>1</th>\n",
       "      <td>Los Angeles</td>\n",
       "      <td>25</td>\n",
       "      <td>partly cloudy</td>\n",
       "      <td>mediterranean</td>\n",
       "      <td>Weather is partly cloudy and Climate is medite...</td>\n",
       "    </tr>\n",
       "    <tr>\n",
       "      <th>2</th>\n",
       "      <td>Chicago</td>\n",
       "      <td>18</td>\n",
       "      <td>cloudy</td>\n",
       "      <td>continental</td>\n",
       "      <td>Weather is cloudy and Climate is continental</td>\n",
       "    </tr>\n",
       "    <tr>\n",
       "      <th>3</th>\n",
       "      <td>Houston</td>\n",
       "      <td>30</td>\n",
       "      <td>thunderstorms</td>\n",
       "      <td>humid subtropical</td>\n",
       "      <td>Weather is thunderstorms and Climate is humid ...</td>\n",
       "    </tr>\n",
       "    <tr>\n",
       "      <th>4</th>\n",
       "      <td>Phoenix</td>\n",
       "      <td>35</td>\n",
       "      <td>sunny</td>\n",
       "      <td>desert</td>\n",
       "      <td>Weather is sunny and Climate is desert</td>\n",
       "    </tr>\n",
       "    <tr>\n",
       "      <th>5</th>\n",
       "      <td>Toronto</td>\n",
       "      <td>20</td>\n",
       "      <td>partly cloudy</td>\n",
       "      <td>continental</td>\n",
       "      <td>Weather is partly cloudy and Climate is contin...</td>\n",
       "    </tr>\n",
       "    <tr>\n",
       "      <th>6</th>\n",
       "      <td>Warsaw</td>\n",
       "      <td>16</td>\n",
       "      <td>overcast</td>\n",
       "      <td>temperate</td>\n",
       "      <td>Weather is overcast and Climate is temperate</td>\n",
       "    </tr>\n",
       "    <tr>\n",
       "      <th>7</th>\n",
       "      <td>Bangalore</td>\n",
       "      <td>28</td>\n",
       "      <td>rainy</td>\n",
       "      <td>tropical savanna</td>\n",
       "      <td>Weather is rainy and Climate is tropical savanna</td>\n",
       "    </tr>\n",
       "    <tr>\n",
       "      <th>8</th>\n",
       "      <td>London</td>\n",
       "      <td>18</td>\n",
       "      <td>drizzle</td>\n",
       "      <td>temperate maritime</td>\n",
       "      <td>Weather is drizzle and Climate is temperate ma...</td>\n",
       "    </tr>\n",
       "    <tr>\n",
       "      <th>9</th>\n",
       "      <td>Paris</td>\n",
       "      <td>21</td>\n",
       "      <td>partly sunny</td>\n",
       "      <td>temperate</td>\n",
       "      <td>Weather is partly sunny and Climate is temperate</td>\n",
       "    </tr>\n",
       "    <tr>\n",
       "      <th>10</th>\n",
       "      <td>Tokyo</td>\n",
       "      <td>26</td>\n",
       "      <td>clear</td>\n",
       "      <td>humid subtropical</td>\n",
       "      <td>Weather is clear and Climate is humid subtropical</td>\n",
       "    </tr>\n",
       "    <tr>\n",
       "      <th>11</th>\n",
       "      <td>Sydney</td>\n",
       "      <td>22</td>\n",
       "      <td>windy</td>\n",
       "      <td>humid subtropical</td>\n",
       "      <td>Weather is windy and Climate is humid subtropical</td>\n",
       "    </tr>\n",
       "    <tr>\n",
       "      <th>12</th>\n",
       "      <td>Cape Town</td>\n",
       "      <td>19</td>\n",
       "      <td>partly cloudy</td>\n",
       "      <td>mediterranean</td>\n",
       "      <td>Weather is partly cloudy and Climate is medite...</td>\n",
       "    </tr>\n",
       "    <tr>\n",
       "      <th>13</th>\n",
       "      <td>Moscow</td>\n",
       "      <td>15</td>\n",
       "      <td>cloudy</td>\n",
       "      <td>continental</td>\n",
       "      <td>Weather is cloudy and Climate is continental</td>\n",
       "    </tr>\n",
       "    <tr>\n",
       "      <th>14</th>\n",
       "      <td>Rio de Janeiro</td>\n",
       "      <td>29</td>\n",
       "      <td>scattered showers</td>\n",
       "      <td>tropical</td>\n",
       "      <td>Weather is scattered showers and Climate is tr...</td>\n",
       "    </tr>\n",
       "    <tr>\n",
       "      <th>15</th>\n",
       "      <td>Beijing</td>\n",
       "      <td>24</td>\n",
       "      <td>smoggy</td>\n",
       "      <td>continental</td>\n",
       "      <td>Weather is smoggy and Climate is continental</td>\n",
       "    </tr>\n",
       "    <tr>\n",
       "      <th>16</th>\n",
       "      <td>Mumbai</td>\n",
       "      <td>30</td>\n",
       "      <td>humid</td>\n",
       "      <td>tropical monsoon</td>\n",
       "      <td>Weather is humid and Climate is tropical monsoon</td>\n",
       "    </tr>\n",
       "    <tr>\n",
       "      <th>17</th>\n",
       "      <td>Cairo</td>\n",
       "      <td>32</td>\n",
       "      <td>sunny</td>\n",
       "      <td>desert</td>\n",
       "      <td>Weather is sunny and Climate is desert</td>\n",
       "    </tr>\n",
       "    <tr>\n",
       "      <th>18</th>\n",
       "      <td>Buenos Aires</td>\n",
       "      <td>23</td>\n",
       "      <td>clear</td>\n",
       "      <td>humid subtropical</td>\n",
       "      <td>Weather is clear and Climate is humid subtropical</td>\n",
       "    </tr>\n",
       "    <tr>\n",
       "      <th>19</th>\n",
       "      <td>Johannesburg</td>\n",
       "      <td>20</td>\n",
       "      <td>partly sunny</td>\n",
       "      <td>subtropical highland</td>\n",
       "      <td>Weather is partly sunny and Climate is subtrop...</td>\n",
       "    </tr>\n",
       "  </tbody>\n",
       "</table>\n",
       "</div>"
      ],
      "text/plain": [
       "              city  temperature            weather               climate  \\\n",
       "0         New York           22              sunny             temperate   \n",
       "1      Los Angeles           25      partly cloudy         mediterranean   \n",
       "2          Chicago           18             cloudy           continental   \n",
       "3          Houston           30      thunderstorms     humid subtropical   \n",
       "4          Phoenix           35              sunny                desert   \n",
       "5          Toronto           20      partly cloudy           continental   \n",
       "6           Warsaw           16           overcast             temperate   \n",
       "7        Bangalore           28              rainy      tropical savanna   \n",
       "8           London           18            drizzle    temperate maritime   \n",
       "9            Paris           21       partly sunny             temperate   \n",
       "10           Tokyo           26              clear     humid subtropical   \n",
       "11          Sydney           22              windy     humid subtropical   \n",
       "12       Cape Town           19      partly cloudy         mediterranean   \n",
       "13          Moscow           15             cloudy           continental   \n",
       "14  Rio de Janeiro           29  scattered showers              tropical   \n",
       "15         Beijing           24             smoggy           continental   \n",
       "16          Mumbai           30              humid      tropical monsoon   \n",
       "17           Cairo           32              sunny                desert   \n",
       "18    Buenos Aires           23              clear     humid subtropical   \n",
       "19    Johannesburg           20       partly sunny  subtropical highland   \n",
       "\n",
       "                                 weather_climate_desc  \n",
       "0           Weather is sunny and Climate is temperate  \n",
       "1   Weather is partly cloudy and Climate is medite...  \n",
       "2        Weather is cloudy and Climate is continental  \n",
       "3   Weather is thunderstorms and Climate is humid ...  \n",
       "4              Weather is sunny and Climate is desert  \n",
       "5   Weather is partly cloudy and Climate is contin...  \n",
       "6        Weather is overcast and Climate is temperate  \n",
       "7    Weather is rainy and Climate is tropical savanna  \n",
       "8   Weather is drizzle and Climate is temperate ma...  \n",
       "9    Weather is partly sunny and Climate is temperate  \n",
       "10  Weather is clear and Climate is humid subtropical  \n",
       "11  Weather is windy and Climate is humid subtropical  \n",
       "12  Weather is partly cloudy and Climate is medite...  \n",
       "13       Weather is cloudy and Climate is continental  \n",
       "14  Weather is scattered showers and Climate is tr...  \n",
       "15       Weather is smoggy and Climate is continental  \n",
       "16   Weather is humid and Climate is tropical monsoon  \n",
       "17             Weather is sunny and Climate is desert  \n",
       "18  Weather is clear and Climate is humid subtropical  \n",
       "19  Weather is partly sunny and Climate is subtrop...  "
      ]
     },
     "execution_count": 5,
     "metadata": {},
     "output_type": "execute_result"
    }
   ],
   "source": [
    "data['weather_climate_desc'] = data.apply(lambda row: f\"Weather is {row['weather']} and Climate is {row['climate']}\", axis=1)\n",
    "data"
   ]
  },
  {
   "cell_type": "code",
   "execution_count": null,
   "id": "b30023e6-c46f-4432-9eb9-6c062c741e33",
   "metadata": {},
   "outputs": [],
   "source": []
  },
  {
   "cell_type": "code",
   "execution_count": null,
   "id": "25118723-28b4-445f-980c-80dc97ed6d18",
   "metadata": {},
   "outputs": [],
   "source": []
  },
  {
   "cell_type": "code",
   "execution_count": null,
   "id": "db0572dd-14ad-4595-b726-4a8ed1f2a40f",
   "metadata": {},
   "outputs": [],
   "source": []
  },
  {
   "cell_type": "code",
   "execution_count": 6,
   "id": "912bddaa-2e07-45ec-866d-2eb86230f1e8",
   "metadata": {},
   "outputs": [],
   "source": [
    "docs = []\n",
    "for i, row in data.iterrows():\n",
    "    doc = Document(page_content=row['weather_climate_desc'], metadata={'city': row['city'], 'temperature': row['temperature'],\n",
    "                                                                       'weather': row['weather'], 'climate': row['climate']})\n",
    "    docs.append(doc)"
   ]
  },
  {
   "cell_type": "code",
   "execution_count": 7,
   "id": "27c35e60-7f55-4341-8077-fb83101eff9d",
   "metadata": {},
   "outputs": [
    {
     "data": {
      "text/plain": [
       "[Document(metadata={'city': 'New York', 'temperature': 22, 'weather': 'sunny', 'climate': 'temperate'}, page_content='Weather is sunny and Climate is temperate'),\n",
       " Document(metadata={'city': 'Los Angeles', 'temperature': 25, 'weather': 'partly cloudy', 'climate': 'mediterranean'}, page_content='Weather is partly cloudy and Climate is mediterranean'),\n",
       " Document(metadata={'city': 'Chicago', 'temperature': 18, 'weather': 'cloudy', 'climate': 'continental'}, page_content='Weather is cloudy and Climate is continental'),\n",
       " Document(metadata={'city': 'Houston', 'temperature': 30, 'weather': 'thunderstorms', 'climate': 'humid subtropical'}, page_content='Weather is thunderstorms and Climate is humid subtropical'),\n",
       " Document(metadata={'city': 'Phoenix', 'temperature': 35, 'weather': 'sunny', 'climate': 'desert'}, page_content='Weather is sunny and Climate is desert'),\n",
       " Document(metadata={'city': 'Toronto', 'temperature': 20, 'weather': 'partly cloudy', 'climate': 'continental'}, page_content='Weather is partly cloudy and Climate is continental'),\n",
       " Document(metadata={'city': 'Warsaw', 'temperature': 16, 'weather': 'overcast', 'climate': 'temperate'}, page_content='Weather is overcast and Climate is temperate'),\n",
       " Document(metadata={'city': 'Bangalore', 'temperature': 28, 'weather': 'rainy', 'climate': 'tropical savanna'}, page_content='Weather is rainy and Climate is tropical savanna'),\n",
       " Document(metadata={'city': 'London', 'temperature': 18, 'weather': 'drizzle', 'climate': 'temperate maritime'}, page_content='Weather is drizzle and Climate is temperate maritime'),\n",
       " Document(metadata={'city': 'Paris', 'temperature': 21, 'weather': 'partly sunny', 'climate': 'temperate'}, page_content='Weather is partly sunny and Climate is temperate'),\n",
       " Document(metadata={'city': 'Tokyo', 'temperature': 26, 'weather': 'clear', 'climate': 'humid subtropical'}, page_content='Weather is clear and Climate is humid subtropical'),\n",
       " Document(metadata={'city': 'Sydney', 'temperature': 22, 'weather': 'windy', 'climate': 'humid subtropical'}, page_content='Weather is windy and Climate is humid subtropical'),\n",
       " Document(metadata={'city': 'Cape Town', 'temperature': 19, 'weather': 'partly cloudy', 'climate': 'mediterranean'}, page_content='Weather is partly cloudy and Climate is mediterranean'),\n",
       " Document(metadata={'city': 'Moscow', 'temperature': 15, 'weather': 'cloudy', 'climate': 'continental'}, page_content='Weather is cloudy and Climate is continental'),\n",
       " Document(metadata={'city': 'Rio de Janeiro', 'temperature': 29, 'weather': 'scattered showers', 'climate': 'tropical'}, page_content='Weather is scattered showers and Climate is tropical'),\n",
       " Document(metadata={'city': 'Beijing', 'temperature': 24, 'weather': 'smoggy', 'climate': 'continental'}, page_content='Weather is smoggy and Climate is continental'),\n",
       " Document(metadata={'city': 'Mumbai', 'temperature': 30, 'weather': 'humid', 'climate': 'tropical monsoon'}, page_content='Weather is humid and Climate is tropical monsoon'),\n",
       " Document(metadata={'city': 'Cairo', 'temperature': 32, 'weather': 'sunny', 'climate': 'desert'}, page_content='Weather is sunny and Climate is desert'),\n",
       " Document(metadata={'city': 'Buenos Aires', 'temperature': 23, 'weather': 'clear', 'climate': 'humid subtropical'}, page_content='Weather is clear and Climate is humid subtropical'),\n",
       " Document(metadata={'city': 'Johannesburg', 'temperature': 20, 'weather': 'partly sunny', 'climate': 'subtropical highland'}, page_content='Weather is partly sunny and Climate is subtropical highland')]"
      ]
     },
     "execution_count": 7,
     "metadata": {},
     "output_type": "execute_result"
    }
   ],
   "source": [
    "docs"
   ]
  },
  {
   "cell_type": "code",
   "execution_count": null,
   "id": "1b6068f7-9425-4720-bf93-fa8287e3d31c",
   "metadata": {},
   "outputs": [],
   "source": []
  },
  {
   "cell_type": "code",
   "execution_count": null,
   "id": "9e1f6513-bb7f-4ca1-93c5-c48562a96426",
   "metadata": {},
   "outputs": [],
   "source": []
  },
  {
   "cell_type": "code",
   "execution_count": null,
   "id": "c7605c72-4586-4355-9036-118a453df7c0",
   "metadata": {},
   "outputs": [],
   "source": []
  },
  {
   "cell_type": "code",
   "execution_count": 8,
   "id": "528468fe-82cd-48a3-bb52-01c22f1203b1",
   "metadata": {},
   "outputs": [],
   "source": [
    "class CustomEmbeddingModel:\n",
    "    \n",
    "    def __init__(self, model_name='sentence-transformers/all-MiniLM-L6-v2'):\n",
    "        self.tokenizer = AutoTokenizer.from_pretrained(model_name)\n",
    "        self.model = AutoModel.from_pretrained(model_name)\n",
    "\n",
    "    def embed_text(self, text):\n",
    "        inputs = self.tokenizer(text, return_tensors='pt', padding=True, truncation=True)\n",
    "        with torch.no_grad():\n",
    "            outputs = self.model(**inputs)\n",
    "        return outputs.last_hidden_state.mean(dim=1).squeeze().tolist()\n",
    "    \n",
    "    def embed_query(self, query):\n",
    "        return self.embed_text(query)\n",
    "\n",
    "    def embed_documents(self, documents):\n",
    "        return [self.embed_text(doc) for doc in documents]\n",
    "    \n",
    "embedding_model = CustomEmbeddingModel()"
   ]
  },
  {
   "cell_type": "code",
   "execution_count": 8,
   "id": "d511600a-8e09-48df-80b5-9acbb45f47cf",
   "metadata": {},
   "outputs": [
    {
     "name": "stdout",
     "output_type": "stream",
     "text": [
      "CPU times: user 769 ms, sys: 16.1 ms, total: 785 ms\n",
      "Wall time: 305 ms\n"
     ]
    },
    {
     "data": {
      "text/plain": [
       "<langchain_elasticsearch.vectorstores.ElasticsearchStore at 0x7a2ab9c99c40>"
      ]
     },
     "execution_count": 8,
     "metadata": {},
     "output_type": "execute_result"
    }
   ],
   "source": [
    "%%time\n",
    "\n",
    "ElasticsearchStore.from_documents(docs, embedding_model,\n",
    "                                  index_name=\"weather_rag\", es_url=\"http://localhost:9200\")"
   ]
  },
  {
   "cell_type": "code",
   "execution_count": null,
   "id": "11893a4d-31e0-4102-81f2-30d2d530ab47",
   "metadata": {},
   "outputs": [],
   "source": []
  },
  {
   "cell_type": "code",
   "execution_count": null,
   "id": "98a1d4e1-a406-4fce-aa2b-98600024aa3d",
   "metadata": {},
   "outputs": [],
   "source": []
  },
  {
   "cell_type": "code",
   "execution_count": null,
   "id": "52c2e951-e609-4eec-b2c1-65de4623127d",
   "metadata": {},
   "outputs": [],
   "source": []
  },
  {
   "cell_type": "code",
   "execution_count": null,
   "id": "0547f08b-2d40-491c-8660-42010a7facc3",
   "metadata": {},
   "outputs": [],
   "source": []
  },
  {
   "cell_type": "code",
   "execution_count": null,
   "id": "e5c17a09-cd5e-4354-b54a-bb4b35693330",
   "metadata": {},
   "outputs": [],
   "source": []
  },
  {
   "cell_type": "markdown",
   "id": "3606eee9-330c-4e25-a2dc-09b864c9084e",
   "metadata": {},
   "source": [
    "## Retrieval"
   ]
  },
  {
   "cell_type": "code",
   "execution_count": 9,
   "id": "42c47ca0-0c24-4e95-8ec2-761c5509d0ab",
   "metadata": {
    "scrolled": true
   },
   "outputs": [],
   "source": [
    "llm = ChatGroq(model=\"llama-3.1-70b-versatile\", temperature=0)"
   ]
  },
  {
   "cell_type": "code",
   "execution_count": 10,
   "id": "b1016fb3-dca5-4313-bf8f-33882e34437f",
   "metadata": {},
   "outputs": [],
   "source": [
    "doc_content_info = \"Weather and climate of the city\"\n",
    "\n",
    "metadata_field_info = [\n",
    "    AttributeInfo(name=\"city\", description=\"The name of the city\", type=\"string\"),\n",
    "    AttributeInfo(name=\"temperature\", description=\"The temperature of the city\", type=\"integer\"),\n",
    "    AttributeInfo(name=\"weather\", description=\"The weather of the city\", type=\"string\"),\n",
    "    AttributeInfo(name=\"climate\", description=\"The climate of the city\", type=\"string\")\n",
    "]"
   ]
  },
  {
   "cell_type": "code",
   "execution_count": 11,
   "id": "9d24e9fe-0eda-40f5-b812-cc20d03d42e3",
   "metadata": {},
   "outputs": [],
   "source": [
    "vectorstore = ElasticsearchStore.from_documents([], embedding_model,\n",
    "                                                index_name=\"weather_rag\", es_url=\"http://localhost:9200\")"
   ]
  },
  {
   "cell_type": "code",
   "execution_count": 12,
   "id": "6df884a5-d035-4dfc-bb35-25cefc5b414a",
   "metadata": {
    "scrolled": true
   },
   "outputs": [],
   "source": [
    "retriever = SelfQueryRetriever.from_llm(llm, vectorstore, doc_content_info,\n",
    "                                        metadata_field_info, verbose=True)"
   ]
  },
  {
   "cell_type": "code",
   "execution_count": 13,
   "id": "26cc8316-1e47-4a17-ac7d-ec80989ff745",
   "metadata": {},
   "outputs": [
    {
     "name": "stdout",
     "output_type": "stream",
     "text": [
      "CPU times: user 128 ms, sys: 21 ms, total: 149 ms\n",
      "Wall time: 1.25 s\n"
     ]
    },
    {
     "data": {
      "text/plain": [
       "[Document(metadata={'city': 'London', 'temperature': 18, 'weather': 'drizzle', 'climate': 'temperate maritime'}, page_content='Weather is drizzle and Climate is temperate maritime')]"
      ]
     },
     "execution_count": 13,
     "metadata": {},
     "output_type": "execute_result"
    }
   ],
   "source": [
    "%%time\n",
    "response = retriever.invoke(\"What's the temperature in London?\")\n",
    "response"
   ]
  },
  {
   "cell_type": "code",
   "execution_count": 14,
   "id": "a3d3234d-d819-42be-9b0f-2c964c4d77b6",
   "metadata": {
    "scrolled": true
   },
   "outputs": [
    {
     "name": "stdout",
     "output_type": "stream",
     "text": [
      "\n",
      "New York\n",
      "[Document(metadata={'city': 'New York', 'temperature': 22, 'weather': 'sunny', 'climate': 'temperate'}, page_content='Weather is sunny and Climate is temperate')]\n",
      "Time taken: 0.85 sec\n",
      "\n",
      "Los Angeles\n",
      "[Document(metadata={'city': 'Los Angeles', 'temperature': 25, 'weather': 'partly cloudy', 'climate': 'mediterranean'}, page_content='Weather is partly cloudy and Climate is mediterranean')]\n",
      "Time taken: 0.75 sec\n",
      "\n",
      "Chicago\n",
      "[Document(metadata={'city': 'Chicago', 'temperature': 18, 'weather': 'cloudy', 'climate': 'continental'}, page_content='Weather is cloudy and Climate is continental')]\n",
      "Time taken: 0.93 sec\n",
      "\n",
      "Houston\n",
      "[Document(metadata={'city': 'Houston', 'temperature': 30, 'weather': 'thunderstorms', 'climate': 'humid subtropical'}, page_content='Weather is thunderstorms and Climate is humid subtropical')]\n",
      "Time taken: 1.02 sec\n",
      "\n",
      "Phoenix\n",
      "[Document(metadata={'city': 'Phoenix', 'temperature': 35, 'weather': 'sunny', 'climate': 'desert'}, page_content='Weather is sunny and Climate is desert')]\n",
      "Time taken: 0.92 sec\n",
      "\n",
      "Toronto\n",
      "[Document(metadata={'city': 'Toronto', 'temperature': 20, 'weather': 'partly cloudy', 'climate': 'continental'}, page_content='Weather is partly cloudy and Climate is continental')]\n",
      "Time taken: 3.35 sec\n",
      "\n",
      "Warsaw\n",
      "[Document(metadata={'city': 'Warsaw', 'temperature': 16, 'weather': 'overcast', 'climate': 'temperate'}, page_content='Weather is overcast and Climate is temperate')]\n",
      "Time taken: 9.76 sec\n",
      "\n",
      "Bangalore\n",
      "[Document(metadata={'city': 'Bangalore', 'temperature': 28, 'weather': 'rainy', 'climate': 'tropical savanna'}, page_content='Weather is rainy and Climate is tropical savanna')]\n",
      "Time taken: 11.58 sec\n",
      "\n",
      "London\n",
      "[Document(metadata={'city': 'London', 'temperature': 18, 'weather': 'drizzle', 'climate': 'temperate maritime'}, page_content='Weather is drizzle and Climate is temperate maritime')]\n",
      "Time taken: 8.59 sec\n",
      "\n",
      "Paris\n",
      "[Document(metadata={'city': 'Paris', 'temperature': 21, 'weather': 'partly sunny', 'climate': 'temperate'}, page_content='Weather is partly sunny and Climate is temperate')]\n",
      "Time taken: 10.3 sec\n",
      "\n",
      "Tokyo\n",
      "[Document(metadata={'city': 'Tokyo', 'temperature': 26, 'weather': 'clear', 'climate': 'humid subtropical'}, page_content='Weather is clear and Climate is humid subtropical')]\n",
      "Time taken: 7.62 sec\n",
      "\n",
      "Sydney\n",
      "[Document(metadata={'city': 'Sydney', 'temperature': 22, 'weather': 'windy', 'climate': 'humid subtropical'}, page_content='Weather is windy and Climate is humid subtropical')]\n",
      "Time taken: 9.63 sec\n",
      "\n",
      "Cape Town\n",
      "[Document(metadata={'city': 'Cape Town', 'temperature': 19, 'weather': 'partly cloudy', 'climate': 'mediterranean'}, page_content='Weather is partly cloudy and Climate is mediterranean')]\n",
      "Time taken: 9.52 sec\n",
      "\n",
      "Moscow\n",
      "[Document(metadata={'city': 'Moscow', 'temperature': 15, 'weather': 'cloudy', 'climate': 'continental'}, page_content='Weather is cloudy and Climate is continental')]\n",
      "Time taken: 9.94 sec\n",
      "\n",
      "Rio de Janeiro\n",
      "[Document(metadata={'city': 'Rio de Janeiro', 'temperature': 29, 'weather': 'scattered showers', 'climate': 'tropical'}, page_content='Weather is scattered showers and Climate is tropical')]\n",
      "Time taken: 9.94 sec\n",
      "\n",
      "Beijing\n",
      "[Document(metadata={'city': 'Beijing', 'temperature': 24, 'weather': 'smoggy', 'climate': 'continental'}, page_content='Weather is smoggy and Climate is continental')]\n",
      "Time taken: 9.64 sec\n",
      "\n",
      "Mumbai\n",
      "[Document(metadata={'city': 'Mumbai', 'temperature': 30, 'weather': 'humid', 'climate': 'tropical monsoon'}, page_content='Weather is humid and Climate is tropical monsoon')]\n",
      "Time taken: 9.03 sec\n",
      "\n",
      "Cairo\n",
      "[Document(metadata={'city': 'Cairo', 'temperature': 32, 'weather': 'sunny', 'climate': 'desert'}, page_content='Weather is sunny and Climate is desert')]\n",
      "Time taken: 9.81 sec\n",
      "\n",
      "Buenos Aires\n",
      "[Document(metadata={'city': 'Buenos Aires', 'temperature': 23, 'weather': 'clear', 'climate': 'humid subtropical'}, page_content='Weather is clear and Climate is humid subtropical')]\n",
      "Time taken: 9.54 sec\n",
      "\n",
      "Johannesburg\n",
      "[Document(metadata={'city': 'Johannesburg', 'temperature': 20, 'weather': 'partly sunny', 'climate': 'subtropical highland'}, page_content='Weather is partly sunny and Climate is subtropical highland')]\n",
      "Time taken: 10.03 sec\n",
      "CPU times: user 3.41 s, sys: 39 ms, total: 3.45 s\n",
      "Wall time: 2min 22s\n"
     ]
    }
   ],
   "source": [
    "%%time\n",
    "\n",
    "for city in data['city']:\n",
    "    print()\n",
    "    print(city)\n",
    "    t1 = time.time()\n",
    "    q = f\"What's the temperature in {city}?\"\n",
    "    response = retriever.invoke(q)\n",
    "    t2 = time.time()\n",
    "    print(response)\n",
    "    print('Time taken:', round(t2-t1, 2), 'sec')"
   ]
  },
  {
   "cell_type": "code",
   "execution_count": 15,
   "id": "68513622-7b9b-490e-805f-c4518d6e6f13",
   "metadata": {},
   "outputs": [
    {
     "name": "stdout",
     "output_type": "stream",
     "text": [
      "CPU times: user 143 ms, sys: 2.58 ms, total: 145 ms\n",
      "Wall time: 8.9 s\n"
     ]
    },
    {
     "data": {
      "text/plain": [
       "[Document(metadata={'city': 'Johannesburg', 'temperature': 20, 'weather': 'partly sunny', 'climate': 'subtropical highland'}, page_content='Weather is partly sunny and Climate is subtropical highland')]"
      ]
     },
     "execution_count": 15,
     "metadata": {},
     "output_type": "execute_result"
    }
   ],
   "source": [
    "%%time\n",
    "response = retriever.invoke(\"What's the temperature in Johannesburg?\")\n",
    "response"
   ]
  },
  {
   "cell_type": "code",
   "execution_count": 16,
   "id": "fc9150f0-8628-48c5-bbed-89fad5e3b455",
   "metadata": {},
   "outputs": [
    {
     "name": "stdout",
     "output_type": "stream",
     "text": [
      "CPU times: user 119 ms, sys: 2.64 ms, total: 122 ms\n",
      "Wall time: 9.62 s\n"
     ]
    },
    {
     "data": {
      "text/plain": [
       "[]"
      ]
     },
     "execution_count": 16,
     "metadata": {},
     "output_type": "execute_result"
    }
   ],
   "source": [
    "%%time\n",
    "response = retriever.invoke(\"What's the temperature in Fort Worth?\")\n",
    "response"
   ]
  },
  {
   "cell_type": "code",
   "execution_count": null,
   "id": "37dbf838-2288-4b95-8988-3e5f4df2bd3d",
   "metadata": {},
   "outputs": [],
   "source": []
  },
  {
   "cell_type": "code",
   "execution_count": null,
   "id": "33bba4a9-a67e-4875-9a62-e14ef99b9dc6",
   "metadata": {},
   "outputs": [],
   "source": []
  },
  {
   "cell_type": "code",
   "execution_count": null,
   "id": "9e6bbc98-4ad5-4ca9-8464-a6443a505eb7",
   "metadata": {},
   "outputs": [],
   "source": []
  },
  {
   "cell_type": "code",
   "execution_count": 17,
   "id": "75ec87ee-a2db-4efc-b2c3-8f09876aacb5",
   "metadata": {},
   "outputs": [],
   "source": [
    "def format_docs(docs):\n",
    "    formatted_docs = []\n",
    "    for i, doc in enumerate(docs):\n",
    "        content = doc.page_content\n",
    "        if doc.metadata.get(\"temperature\"):\n",
    "            doc.metadata.update({\"temperature\": f\"{doc.metadata[\"temperature\"]}°C\"})\n",
    "        metadata = \"\\n\".join([f\"{key}: {value}\" for key, value in doc.metadata.items()])\n",
    "        formatted_docs.append(f\"Context {i+1}:-\\nContent: {content}\\nMetadata: {metadata}\")\n",
    "        \n",
    "    res = \"\\n\\n\".join(doc for doc in formatted_docs)\n",
    "    return res"
   ]
  },
  {
   "cell_type": "code",
   "execution_count": 18,
   "id": "45a697ff-e941-4d0e-ac6d-11e845ea191c",
   "metadata": {},
   "outputs": [],
   "source": [
    "# Data model\n",
    "class GradeDocuments(BaseModel):\n",
    "    \"\"\"Binary score for relevance check on retrieved documents.\"\"\"\n",
    "    binary_score: str = Field(description=\"Documents are relevant to the question - 'yes' or 'no'\")\n",
    "\n",
    "structured_llm_grader = llm.with_structured_output(GradeDocuments)"
   ]
  },
  {
   "cell_type": "code",
   "execution_count": 19,
   "id": "bddd6be8-e43f-4829-932c-d71068d9f27a",
   "metadata": {},
   "outputs": [],
   "source": [
    "grader_system_prompt = \"\"\"You are a grader assessing relevance of a retrieved document to a user question. \\n \n",
    "    If the document contains keyword(s) or semantic meaning related to the question, grade it as relevant. \\n\n",
    "    Give a binary score 'yes' or 'no' score to indicate whether the document is relevant to the question.\"\"\"\n",
    "\n",
    "grade_prompt = ChatPromptTemplate.from_messages(\n",
    "    [(\"system\", grader_system_prompt),\n",
    "     (\"human\", \"Retrieved document: \\n\\n {document} \\n\\n User question: {input}\")])\n",
    "\n",
    "retrieval_grader = grade_prompt | structured_llm_grader"
   ]
  },
  {
   "cell_type": "code",
   "execution_count": 20,
   "id": "87ee200c-3385-45f4-b2d9-0bb507c4a1a2",
   "metadata": {},
   "outputs": [
    {
     "name": "stderr",
     "output_type": "stream",
     "text": [
      "/tmp/ipykernel_48670/635362467.py:2: LangChainDeprecationWarning: The method `BaseRetriever.get_relevant_documents` was deprecated in langchain-core 0.1.46 and will be removed in 1.0. Use :meth:`~invoke` instead.\n",
      "  docs = retriever.get_relevant_documents(question)\n"
     ]
    },
    {
     "name": "stdout",
     "output_type": "stream",
     "text": [
      "binary_score='yes'\n"
     ]
    }
   ],
   "source": [
    "question = \"What's the temperature in Johannesburg?\"\n",
    "docs = retriever.get_relevant_documents(question)\n",
    "print(retrieval_grader.invoke({\"input\": question, \"document\": format_docs(docs)}))"
   ]
  },
  {
   "cell_type": "code",
   "execution_count": 21,
   "id": "49e15edd-7f07-4547-8ce1-13f6f9b67466",
   "metadata": {},
   "outputs": [
    {
     "name": "stdout",
     "output_type": "stream",
     "text": [
      "binary_score='no'\n"
     ]
    }
   ],
   "source": [
    "question = \"What's the temperature in Fort Worth?\"\n",
    "docs = retriever.get_relevant_documents(question)\n",
    "print(retrieval_grader.invoke({\"input\": question, \"document\": format_docs(docs)}))"
   ]
  },
  {
   "cell_type": "code",
   "execution_count": null,
   "id": "0c99cb5c-d972-424b-b4e7-8a92ec8cf1e7",
   "metadata": {},
   "outputs": [],
   "source": []
  },
  {
   "cell_type": "code",
   "execution_count": null,
   "id": "b8a9bc18-aeca-4ab7-b802-b1b46a7060c7",
   "metadata": {},
   "outputs": [],
   "source": []
  },
  {
   "cell_type": "code",
   "execution_count": null,
   "id": "bff03a62-66b0-4775-ab1f-46fe0182fc63",
   "metadata": {},
   "outputs": [],
   "source": []
  },
  {
   "cell_type": "code",
   "execution_count": 22,
   "id": "dc684a71-9552-454f-86d8-8e3d835e4dba",
   "metadata": {
    "scrolled": true
   },
   "outputs": [],
   "source": [
    "web_search_tool = TavilySearchResults(max_results=3, include_answer=True)"
   ]
  },
  {
   "cell_type": "code",
   "execution_count": 23,
   "id": "22d14d16-b145-41aa-a440-c9828ff72bd9",
   "metadata": {},
   "outputs": [
    {
     "name": "stdout",
     "output_type": "stream",
     "text": [
      "Current temperature in Fort Worth, Texas\n"
     ]
    }
   ],
   "source": [
    "rewrite_system_prompt = \"\"\"You are a question re-writer that converts an input question to a better version that is optimized \\n \n",
    "     for web search. Look at the input and try to reason about the underlying semantic intent / meaning. While outputting, just output the improved query\"\"\"\n",
    "\n",
    "rewrite_prompt = ChatPromptTemplate.from_messages(\n",
    "    [(\"system\", rewrite_system_prompt),\n",
    "     (\"human\", \"Here is the initial question: \\n\\n {input} \\n Formulate an improved question.\")])\n",
    "\n",
    "query_rewriter = rewrite_prompt | llm | StrOutputParser()\n",
    "\n",
    "question = \"What's the temperature in Fort Worth?\"\n",
    "question_modified = query_rewriter.invoke({\"input\": question})\n",
    "print(question_modified)"
   ]
  },
  {
   "cell_type": "code",
   "execution_count": 24,
   "id": "bcbc029b-60c1-474e-af7b-6cc2945a172c",
   "metadata": {},
   "outputs": [],
   "source": [
    "docs = web_search_tool.invoke({\"query\": question})\n",
    "web_results = \"\\n\".join([d[\"content\"] for d in docs])\n",
    "web_results = Document(page_content=web_results)\n",
    "# documents.append(web_results)"
   ]
  },
  {
   "cell_type": "code",
   "execution_count": 25,
   "id": "55ba2909-ce22-4648-b0a9-df7c8ddc70d2",
   "metadata": {},
   "outputs": [
    {
     "data": {
      "text/plain": [
       "Document(metadata={}, page_content=\"Today's and tonight's Fort Worth, TX weather forecast, weather conditions and Doppler radar from The Weather Channel and Weather.com\\nToday's and tonight's Fort Worth, TX weather forecast, weather conditions and Doppler radar from The Weather Channel and Weather.com\\nNOAA National Weather Service Fort Worth/Dallas, TX. Halloween evening will be nice, but rain will quickly return to the forecast late Friday through the weekend an into next week.\")"
      ]
     },
     "execution_count": 25,
     "metadata": {},
     "output_type": "execute_result"
    }
   ],
   "source": [
    "web_results"
   ]
  },
  {
   "cell_type": "code",
   "execution_count": null,
   "id": "000ec037-b53f-429e-96c1-de4d4d113787",
   "metadata": {},
   "outputs": [],
   "source": []
  },
  {
   "cell_type": "code",
   "execution_count": null,
   "id": "ff11e2c3-6f64-4e08-a67f-d9bd0f2657fc",
   "metadata": {},
   "outputs": [],
   "source": []
  },
  {
   "cell_type": "code",
   "execution_count": null,
   "id": "533f2e7d-be43-4026-9d40-373ed834bf46",
   "metadata": {},
   "outputs": [],
   "source": []
  },
  {
   "cell_type": "code",
   "execution_count": 56,
   "id": "d4804bdb-8830-4a56-afb1-86bd7bf15f80",
   "metadata": {},
   "outputs": [],
   "source": [
    "### Answer Grader\n",
    "# Data model\n",
    "class GradeAnswer(BaseModel):\n",
    "    \"\"\"Binary score to assess answer addresses question.\"\"\"\n",
    "    binary_score: str = Field(description=\"Answer addresses the question - 'yes' or 'no'\")\n",
    "\n",
    "structured_llm_grader = llm.with_structured_output(GradeAnswer)"
   ]
  },
  {
   "cell_type": "code",
   "execution_count": 59,
   "id": "6c05b22c-3327-43e8-a2a3-dd927fa9e304",
   "metadata": {},
   "outputs": [],
   "source": [
    "answer_grader_system_prompt = \"\"\"You are a grader assessing whether an answer addresses / resolves a question \\n \n",
    "     Give a binary score 'yes' or 'no'. Yes' means that the answer resolves the question.\"\"\"\n",
    "\n",
    "answer_prompt = ChatPromptTemplate.from_messages(\n",
    "    [(\"system\", answer_grader_system_prompt),\n",
    "     (\"human\", \"User question: \\n\\n {input} \\n\\n LLM generation: {generation}\")])\n",
    "\n",
    "answer_grader = answer_prompt | structured_llm_grader"
   ]
  },
  {
   "cell_type": "code",
   "execution_count": 60,
   "id": "93213675-4f53-4bdd-a387-41e45c2e1e01",
   "metadata": {},
   "outputs": [
    {
     "name": "stdout",
     "output_type": "stream",
     "text": [
      "binary_score='no'\n"
     ]
    }
   ],
   "source": [
    "question = \"What's the temperature in Fort Worth?\"\n",
    "generation = \"The current temperature in Fort Worth, Texas is not provided in the given context. However,\\\n",
    "it does provide the low and high temperatures for the day. The low temperature overnight is 61°F and the high temperature for Thursday is 76°F.\"\n",
    "print(answer_grader.invoke({\"input\": question, \"generation\": generation}))"
   ]
  },
  {
   "cell_type": "code",
   "execution_count": null,
   "id": "47cb40ee-b225-46a4-8c68-b9e16d1fa807",
   "metadata": {},
   "outputs": [],
   "source": []
  },
  {
   "cell_type": "code",
   "execution_count": null,
   "id": "3d1d005e-73f5-4956-b955-f149a6b673b4",
   "metadata": {},
   "outputs": [],
   "source": []
  },
  {
   "cell_type": "code",
   "execution_count": null,
   "id": "7c0c1e08-7ff3-442d-8b21-236e1c13985a",
   "metadata": {},
   "outputs": [],
   "source": []
  },
  {
   "cell_type": "code",
   "execution_count": 28,
   "id": "7ee3a781-4654-41ef-9b85-2a98e6d6f917",
   "metadata": {},
   "outputs": [],
   "source": [
    "contextualize_q_system_prompt = \"\"\"Given a chat history and the latest user question \\\n",
    "which might reference context in the chat history, formulate a standalone question \\\n",
    "which can be understood without the chat history. Do NOT answer the question, \\\n",
    "just reformulate it if needed and otherwise return it as is.\"\"\"\n",
    "\n",
    "contextualize_q_prompt = ChatPromptTemplate.from_messages([(\"system\", contextualize_q_system_prompt), \n",
    "                                                           MessagesPlaceholder(\"chat_history\"), (\"human\", \"{input}\")])\n",
    "\n",
    "history_aware_retriever = create_history_aware_retriever(llm, retriever, contextualize_q_prompt)"
   ]
  },
  {
   "cell_type": "code",
   "execution_count": 29,
   "id": "51a9b7fc-ba48-4fc2-bf2e-33ee8243ef1f",
   "metadata": {},
   "outputs": [
    {
     "data": {
      "text/plain": [
       "ChatPromptTemplate(input_variables=['chat_history', 'input'], input_types={'chat_history': list[typing.Annotated[typing.Union[typing.Annotated[langchain_core.messages.ai.AIMessage, Tag(tag='ai')], typing.Annotated[langchain_core.messages.human.HumanMessage, Tag(tag='human')], typing.Annotated[langchain_core.messages.chat.ChatMessage, Tag(tag='chat')], typing.Annotated[langchain_core.messages.system.SystemMessage, Tag(tag='system')], typing.Annotated[langchain_core.messages.function.FunctionMessage, Tag(tag='function')], typing.Annotated[langchain_core.messages.tool.ToolMessage, Tag(tag='tool')], typing.Annotated[langchain_core.messages.ai.AIMessageChunk, Tag(tag='AIMessageChunk')], typing.Annotated[langchain_core.messages.human.HumanMessageChunk, Tag(tag='HumanMessageChunk')], typing.Annotated[langchain_core.messages.chat.ChatMessageChunk, Tag(tag='ChatMessageChunk')], typing.Annotated[langchain_core.messages.system.SystemMessageChunk, Tag(tag='SystemMessageChunk')], typing.Annotated[langchain_core.messages.function.FunctionMessageChunk, Tag(tag='FunctionMessageChunk')], typing.Annotated[langchain_core.messages.tool.ToolMessageChunk, Tag(tag='ToolMessageChunk')]], FieldInfo(annotation=NoneType, required=True, discriminator=Discriminator(discriminator=<function _get_type at 0x74fc9998cd60>, custom_error_type=None, custom_error_message=None, custom_error_context=None))]]}, partial_variables={}, messages=[SystemMessagePromptTemplate(prompt=PromptTemplate(input_variables=[], input_types={}, partial_variables={}, template='Given a chat history and the latest user question which might reference context in the chat history, formulate a standalone question which can be understood without the chat history. Do NOT answer the question, just reformulate it if needed and otherwise return it as is.'), additional_kwargs={}), MessagesPlaceholder(variable_name='chat_history'), HumanMessagePromptTemplate(prompt=PromptTemplate(input_variables=['input'], input_types={}, partial_variables={}, template='{input}'), additional_kwargs={})])"
      ]
     },
     "execution_count": 29,
     "metadata": {},
     "output_type": "execute_result"
    }
   ],
   "source": [
    "contextualize_q_prompt"
   ]
  },
  {
   "cell_type": "code",
   "execution_count": 30,
   "id": "b17594d9-0251-4ef7-8724-30f81f72ab21",
   "metadata": {},
   "outputs": [
    {
     "name": "stdout",
     "output_type": "stream",
     "text": [
      "CPU times: user 91.2 ms, sys: 1.35 ms, total: 92.5 ms\n",
      "Wall time: 1.29 s\n"
     ]
    },
    {
     "data": {
      "text/plain": [
       "[Document(metadata={'city': 'Johannesburg', 'temperature': 20, 'weather': 'partly sunny', 'climate': 'subtropical highland'}, page_content='Weather is partly sunny and Climate is subtropical highland')]"
      ]
     },
     "execution_count": 30,
     "metadata": {},
     "output_type": "execute_result"
    }
   ],
   "source": [
    "%%time\n",
    "\n",
    "history_aware_retriever.invoke({\"input\": \"What's the temperature in Johannesburg?\", \"chat_history\": []})"
   ]
  },
  {
   "cell_type": "code",
   "execution_count": null,
   "id": "e74663dc-3ef9-42fa-a0ba-3208bcc9dd33",
   "metadata": {},
   "outputs": [],
   "source": []
  },
  {
   "cell_type": "code",
   "execution_count": null,
   "id": "b2b33c15-d009-40f0-a07d-f4fd5856465b",
   "metadata": {},
   "outputs": [],
   "source": []
  },
  {
   "cell_type": "code",
   "execution_count": null,
   "id": "b007017c-5fa6-4a6d-92e1-aa340d01cf8e",
   "metadata": {},
   "outputs": [],
   "source": []
  },
  {
   "cell_type": "code",
   "execution_count": null,
   "id": "d9529169-581d-4c23-b39e-1d1d4ffa8dbc",
   "metadata": {},
   "outputs": [],
   "source": []
  },
  {
   "cell_type": "code",
   "execution_count": null,
   "id": "8826b633-e4fe-4180-9fe0-45b356ed5543",
   "metadata": {},
   "outputs": [],
   "source": []
  },
  {
   "cell_type": "markdown",
   "id": "7054bd71-a0e9-4158-9192-8143f5f191e8",
   "metadata": {},
   "source": [
    "## Generation"
   ]
  },
  {
   "cell_type": "code",
   "execution_count": 23,
   "id": "70c26b3c-d74e-4e88-8de9-a7d33f6c65c3",
   "metadata": {},
   "outputs": [
    {
     "name": "stdout",
     "output_type": "stream",
     "text": [
      "prompt=PromptTemplate(input_variables=['context', 'question'], input_types={}, partial_variables={}, template=\"Answer the question based only on the following context. Don't try to make up an answer.\\n{context}\\n\\nQuestion: {question}\\n\") additional_kwargs={}\n"
     ]
    }
   ],
   "source": [
    "template_1 = \"\"\"Use the following pieces of context to answer the question at the end. If you don't know the answer,\\\n",
    "just say that you don't know, don't try to make up an answer. Use three sentences maximum.\\\n",
    "Keep the answer as concise as possible. Always say \"thanks for asking!\" at the end of the answer. \n",
    "\n",
    "\n",
    "Question: {question}\n",
    "\n",
    "\n",
    "Context:\n",
    "\n",
    "{context}\n",
    "\n",
    "\n",
    "Answer: \"\"\"\n",
    "\n",
    "template = \"\"\"Answer the question based only on the following context. Don't try to make up an answer.\n",
    "{context}\n",
    "\n",
    "Question: {question}\n",
    "\"\"\"\n",
    "\n",
    "prompt = ChatPromptTemplate(messages=[template])\n",
    "print(prompt.messages[0])"
   ]
  },
  {
   "cell_type": "code",
   "execution_count": 24,
   "id": "3b2708fa-0fb9-45fc-87c4-81b6f03e5843",
   "metadata": {},
   "outputs": [],
   "source": [
    "def format_docs_1(docs):\n",
    "    res = \"\\n\\n\".join(doc.page_content for doc in docs)\n",
    "    return res\n",
    "\n",
    "def format_docs(docs):\n",
    "    formatted_docs = []\n",
    "    for i, doc in enumerate(docs):\n",
    "        content = doc.page_content\n",
    "        doc.metadata.update({\"temperature\": f\"{doc.metadata[\"temperature\"]}°C\"})\n",
    "        metadata = \"\\n\".join([f\"{key}: {value}\" for key, value in doc.metadata.items()])\n",
    "        formatted_docs.append(f\"Context {i+1}:-\\nContent: {content}\\nMetadata: {metadata}\")\n",
    "        \n",
    "    res = \"\\n\\n\".join(doc for doc in formatted_docs)\n",
    "    return res"
   ]
  },
  {
   "cell_type": "code",
   "execution_count": null,
   "id": "d595bcba-265d-457a-a074-c5bd1985eba1",
   "metadata": {},
   "outputs": [],
   "source": []
  },
  {
   "cell_type": "code",
   "execution_count": null,
   "id": "98ba8517-b5c7-405b-b7c8-71f33a64f763",
   "metadata": {},
   "outputs": [],
   "source": []
  },
  {
   "cell_type": "code",
   "execution_count": null,
   "id": "808b43ec-0ff7-4696-8878-3fe10463596b",
   "metadata": {},
   "outputs": [],
   "source": []
  },
  {
   "cell_type": "code",
   "execution_count": 25,
   "id": "ba03d581-c4c7-47e9-a104-a107e2eac785",
   "metadata": {},
   "outputs": [],
   "source": [
    "rag_chain = (\n",
    "    {\"context\": retriever | format_docs, \"question\": RunnablePassthrough()}\n",
    "    | prompt\n",
    "    | llm\n",
    "    | StrOutputParser()\n",
    ")"
   ]
  },
  {
   "cell_type": "code",
   "execution_count": 26,
   "id": "6874d804-90f0-4ac5-97ad-9ac88ed727d1",
   "metadata": {},
   "outputs": [
    {
     "name": "stdout",
     "output_type": "stream",
     "text": [
      "CPU times: user 78.3 ms, sys: 2.36 ms, total: 80.6 ms\n",
      "Wall time: 1.66 s\n"
     ]
    },
    {
     "data": {
      "text/plain": [
       "'The temperature in London is 18°C.'"
      ]
     },
     "execution_count": 26,
     "metadata": {},
     "output_type": "execute_result"
    }
   ],
   "source": [
    "%%time\n",
    "\n",
    "result = rag_chain.invoke(\"What's the temperature in London?\")\n",
    "result"
   ]
  },
  {
   "cell_type": "code",
   "execution_count": null,
   "id": "ebb771e2-055e-40d3-afea-3450c9fc6dd3",
   "metadata": {},
   "outputs": [],
   "source": []
  },
  {
   "cell_type": "code",
   "execution_count": null,
   "id": "92fecd4e-3ec5-415e-b8be-1c2ab488142d",
   "metadata": {},
   "outputs": [],
   "source": []
  },
  {
   "cell_type": "code",
   "execution_count": null,
   "id": "9d5c4ea6-fc6c-483b-a090-1f586c5bbb0d",
   "metadata": {},
   "outputs": [],
   "source": []
  },
  {
   "cell_type": "code",
   "execution_count": 27,
   "id": "0ce85c9e-1f8d-4641-a24f-04b41209f2e0",
   "metadata": {},
   "outputs": [],
   "source": [
    "rag_chain_from_docs = (\n",
    "    RunnablePassthrough.assign(context=(lambda x: format_docs(x[\"context\"])))\n",
    "    | prompt\n",
    "    | llm\n",
    "    | StrOutputParser()\n",
    ")\n",
    "\n",
    "rag_chain_with_source = RunnableParallel({\"context\": retriever,\n",
    "                                          \"question\": RunnablePassthrough()}\n",
    "                                        ).assign(answer=rag_chain_from_docs)"
   ]
  },
  {
   "cell_type": "code",
   "execution_count": 28,
   "id": "67905756-2f89-48db-940f-1563dd35856c",
   "metadata": {},
   "outputs": [
    {
     "name": "stdout",
     "output_type": "stream",
     "text": [
      "CPU times: user 66.5 ms, sys: 4.22 ms, total: 70.8 ms\n",
      "Wall time: 1.45 s\n"
     ]
    },
    {
     "data": {
      "text/plain": [
       "{'context': [Document(metadata={'city': 'London', 'temperature': '18°C', 'weather': 'drizzle', 'climate': 'temperate maritime'}, page_content='Weather is drizzle and Climate is temperate maritime')],\n",
       " 'question': \"What's the temperature in London?\",\n",
       " 'answer': 'The temperature in London is 18°C.'}"
      ]
     },
     "execution_count": 28,
     "metadata": {},
     "output_type": "execute_result"
    }
   ],
   "source": [
    "%%time\n",
    "\n",
    "result = rag_chain_with_source.invoke(\"What's the temperature in London?\")\n",
    "result"
   ]
  },
  {
   "cell_type": "code",
   "execution_count": 29,
   "id": "add63f2c-4db7-41d7-a773-1cc85292256e",
   "metadata": {},
   "outputs": [
    {
     "name": "stdout",
     "output_type": "stream",
     "text": [
      "CPU times: user 60 ms, sys: 2.11 ms, total: 62.1 ms\n",
      "Wall time: 1.71 s\n"
     ]
    },
    {
     "data": {
      "text/plain": [
       "{'context': [],\n",
       " 'question': \"What's the temperature in Fort Worth?\",\n",
       " 'answer': \"I don't have any information about the temperature in Fort Worth.\"}"
      ]
     },
     "execution_count": 29,
     "metadata": {},
     "output_type": "execute_result"
    }
   ],
   "source": [
    "%%time\n",
    "\n",
    "result = rag_chain_with_source.invoke(\"What's the temperature in Fort Worth?\")\n",
    "result"
   ]
  },
  {
   "cell_type": "code",
   "execution_count": 30,
   "id": "f9f3243d-0233-420d-bb05-5dc5c307d481",
   "metadata": {},
   "outputs": [
    {
     "name": "stdout",
     "output_type": "stream",
     "text": [
      "CPU times: user 58 ms, sys: 3.51 ms, total: 61.5 ms\n",
      "Wall time: 1.57 s\n"
     ]
    },
    {
     "data": {
      "text/plain": [
       "{'context': [Document(metadata={'city': 'Paris', 'temperature': '21°C', 'weather': 'partly sunny', 'climate': 'temperate'}, page_content='Weather is partly sunny and Climate is temperate'),\n",
       "  Document(metadata={'city': 'New York', 'temperature': '22°C', 'weather': 'sunny', 'climate': 'temperate'}, page_content='Weather is sunny and Climate is temperate'),\n",
       "  Document(metadata={'city': 'Warsaw', 'temperature': '16°C', 'weather': 'overcast', 'climate': 'temperate'}, page_content='Weather is overcast and Climate is temperate')],\n",
       " 'question': 'Which cities have temperate climate?',\n",
       " 'answer': 'Based on the given context, the cities with a temperate climate are:\\n\\n1. Paris\\n2. New York\\n3. Warsaw'}"
      ]
     },
     "execution_count": 30,
     "metadata": {},
     "output_type": "execute_result"
    }
   ],
   "source": [
    "%%time\n",
    "\n",
    "result = rag_chain_with_source.invoke(\"Which cities have temperate climate?\")\n",
    "result"
   ]
  },
  {
   "cell_type": "code",
   "execution_count": 31,
   "id": "d7330050-93aa-4ad1-bcfe-64d20ec6ec4c",
   "metadata": {},
   "outputs": [
    {
     "name": "stdout",
     "output_type": "stream",
     "text": [
      "Based on the given context, the cities with a temperate climate are:\n",
      "\n",
      "1. Paris\n",
      "2. New York\n",
      "3. Warsaw\n"
     ]
    }
   ],
   "source": [
    "print(result['answer'])"
   ]
  },
  {
   "cell_type": "code",
   "execution_count": 32,
   "id": "915fb8b8-dd5a-470c-aa8a-6db6a17bb31a",
   "metadata": {},
   "outputs": [
    {
     "name": "stdout",
     "output_type": "stream",
     "text": [
      "CPU times: user 63.4 ms, sys: 1.65 ms, total: 65 ms\n",
      "Wall time: 1.62 s\n"
     ]
    },
    {
     "data": {
      "text/plain": [
       "{'context': [Document(metadata={'city': 'Beijing', 'temperature': '24°C', 'weather': 'smoggy', 'climate': 'continental'}, page_content='Weather is smoggy and Climate is continental'),\n",
       "  Document(metadata={'city': 'Rio de Janeiro', 'temperature': '29°C', 'weather': 'scattered showers', 'climate': 'tropical'}, page_content='Weather is scattered showers and Climate is tropical'),\n",
       "  Document(metadata={'city': 'Johannesburg', 'temperature': '20°C', 'weather': 'partly sunny', 'climate': 'subtropical highland'}, page_content='Weather is partly sunny and Climate is subtropical highland'),\n",
       "  Document(metadata={'city': 'Bangalore', 'temperature': '28°C', 'weather': 'rainy', 'climate': 'tropical savanna'}, page_content='Weather is rainy and Climate is tropical savanna')],\n",
       " 'question': 'Where is it hottest?',\n",
       " 'answer': 'Based on the given context, it is hottest in Rio de Janeiro with a temperature of 29°C.'}"
      ]
     },
     "execution_count": 32,
     "metadata": {},
     "output_type": "execute_result"
    }
   ],
   "source": [
    "%%time\n",
    "\n",
    "result = rag_chain_with_source.invoke(\"Where is it hottest?\")\n",
    "result"
   ]
  },
  {
   "cell_type": "code",
   "execution_count": null,
   "id": "3401197e-1c8e-46e1-aef6-b1c128441a09",
   "metadata": {},
   "outputs": [],
   "source": []
  },
  {
   "cell_type": "code",
   "execution_count": null,
   "id": "8734121b-9061-4276-be88-3289ae674dab",
   "metadata": {},
   "outputs": [],
   "source": []
  },
  {
   "cell_type": "code",
   "execution_count": null,
   "id": "2f2d5a08-4909-482a-85b1-d89bf8b61798",
   "metadata": {},
   "outputs": [],
   "source": []
  },
  {
   "cell_type": "code",
   "execution_count": 33,
   "id": "dd78a85e-c594-4d87-9bc8-6aa07a1e8388",
   "metadata": {},
   "outputs": [
    {
     "name": "stdout",
     "output_type": "stream",
     "text": [
      "prompt=PromptTemplate(input_variables=['context', 'input'], input_types={}, partial_variables={}, template=\"Answer the question based only on the following context. Don't try to make up an answer.\\n{context}\\n\\nQuestion: {input}\\n\") additional_kwargs={}\n"
     ]
    }
   ],
   "source": [
    "template = \"\"\"Answer the question based only on the following context. Don't try to make up an answer.\n",
    "{context}\n",
    "\n",
    "Question: {input}\n",
    "\"\"\"\n",
    "\n",
    "prompt = ChatPromptTemplate(messages=[template])\n",
    "print(prompt.messages[0])"
   ]
  },
  {
   "cell_type": "code",
   "execution_count": 34,
   "id": "67e632fa-c0a0-4c6e-97d8-58f4924ea130",
   "metadata": {},
   "outputs": [],
   "source": [
    "rag_chain = (\n",
    "    {\"context\": history_aware_retriever | format_docs, \"input\": RunnablePassthrough()}\n",
    "    | prompt\n",
    "    | llm\n",
    "    | StrOutputParser()\n",
    ")"
   ]
  },
  {
   "cell_type": "code",
   "execution_count": 35,
   "id": "99594285-e808-4d80-955d-0f31d91bb018",
   "metadata": {},
   "outputs": [
    {
     "name": "stdout",
     "output_type": "stream",
     "text": [
      "CPU times: user 68.1 ms, sys: 1.18 ms, total: 69.3 ms\n",
      "Wall time: 1.75 s\n"
     ]
    },
    {
     "data": {
      "text/plain": [
       "'The temperature in London is 18°C.'"
      ]
     },
     "execution_count": 35,
     "metadata": {},
     "output_type": "execute_result"
    }
   ],
   "source": [
    "%%time\n",
    "\n",
    "result = rag_chain.invoke({\"input\": \"What's the temperature in London?\", \"chat_history\": []})\n",
    "result"
   ]
  },
  {
   "cell_type": "code",
   "execution_count": 36,
   "id": "094e9de5-5eec-4550-9594-2161704038c6",
   "metadata": {
    "scrolled": true
   },
   "outputs": [],
   "source": [
    "rag_chain = (\n",
    "    {\"context\": history_aware_retriever | format_docs, \"input\": RunnablePassthrough()}\n",
    "    | prompt\n",
    "    | llm\n",
    "    | StrOutputParser()\n",
    ")"
   ]
  },
  {
   "cell_type": "code",
   "execution_count": 37,
   "id": "ba29e6f1-e13a-4bc8-ad5d-657078db6ee1",
   "metadata": {},
   "outputs": [],
   "source": [
    "chat_history = []"
   ]
  },
  {
   "cell_type": "code",
   "execution_count": 38,
   "id": "49047d42-f70e-4448-951e-cf839e7d2730",
   "metadata": {},
   "outputs": [
    {
     "name": "stdout",
     "output_type": "stream",
     "text": [
      "CPU times: user 63.2 ms, sys: 2.97 ms, total: 66.2 ms\n",
      "Wall time: 1.64 s\n"
     ]
    },
    {
     "data": {
      "text/plain": [
       "'All three cities, Paris, New York, and Warsaw, have a temperate climate.'"
      ]
     },
     "execution_count": 38,
     "metadata": {},
     "output_type": "execute_result"
    }
   ],
   "source": [
    "%%time\n",
    "\n",
    "question = \"Which cities have temperate climate?\"\n",
    "result = rag_chain.invoke({\"input\": question, \"chat_history\": chat_history})\n",
    "chat_history += [question, result]\n",
    "result"
   ]
  },
  {
   "cell_type": "code",
   "execution_count": 39,
   "id": "abc28ce0-40db-435f-b4ef-330a3cca949a",
   "metadata": {},
   "outputs": [
    {
     "name": "stdout",
     "output_type": "stream",
     "text": [
      "CPU times: user 64.1 ms, sys: 2.66 ms, total: 66.7 ms\n",
      "Wall time: 2.29 s\n"
     ]
    },
    {
     "data": {
      "text/plain": [
       "'New York'"
      ]
     },
     "execution_count": 39,
     "metadata": {},
     "output_type": "execute_result"
    }
   ],
   "source": [
    "%%time\n",
    "\n",
    "question = \"Where is it hottest?\"\n",
    "result = rag_chain.invoke({\"input\": question, \"chat_history\": chat_history})\n",
    "chat_history += [question, result]\n",
    "result"
   ]
  },
  {
   "cell_type": "code",
   "execution_count": 40,
   "id": "79a634d1-7841-448e-8f8a-daed354e5722",
   "metadata": {},
   "outputs": [
    {
     "name": "stdout",
     "output_type": "stream",
     "text": [
      "CPU times: user 93.8 ms, sys: 2.78 ms, total: 96.5 ms\n",
      "Wall time: 2.77 s\n"
     ]
    },
    {
     "data": {
      "text/plain": [
       "'There is no information about rain in the given context.'"
      ]
     },
     "execution_count": 40,
     "metadata": {},
     "output_type": "execute_result"
    }
   ],
   "source": [
    "%%time\n",
    "\n",
    "question = \"Where is it raining?\"\n",
    "result = rag_chain.invoke({\"input\": question, \"chat_history\": chat_history})\n",
    "chat_history += [question, result]\n",
    "result"
   ]
  },
  {
   "cell_type": "code",
   "execution_count": 41,
   "id": "aefdbe45-8bfe-4479-871e-47064e4d27ec",
   "metadata": {},
   "outputs": [
    {
     "name": "stdout",
     "output_type": "stream",
     "text": [
      "CPU times: user 72.1 ms, sys: 4.28 ms, total: 76.4 ms\n",
      "Wall time: 2.43 s\n"
     ]
    },
    {
     "data": {
      "text/plain": [
       "'Phoenix and Cairo and New York'"
      ]
     },
     "execution_count": 41,
     "metadata": {},
     "output_type": "execute_result"
    }
   ],
   "source": [
    "%%time\n",
    "\n",
    "question = \"Where is the weather sunny?\"\n",
    "result = rag_chain.invoke({\"input\": question, \"chat_history\": chat_history})\n",
    "chat_history += [question, result]\n",
    "result"
   ]
  },
  {
   "cell_type": "code",
   "execution_count": 42,
   "id": "7de67971-f407-4b02-9400-a44827df9f66",
   "metadata": {},
   "outputs": [
    {
     "name": "stdout",
     "output_type": "stream",
     "text": [
      "CPU times: user 72.9 ms, sys: 2.88 ms, total: 75.8 ms\n",
      "Wall time: 3.86 s\n"
     ]
    },
    {
     "data": {
      "text/plain": [
       "'The weather in Mumbai is humid.'"
      ]
     },
     "execution_count": 42,
     "metadata": {},
     "output_type": "execute_result"
    }
   ],
   "source": [
    "%%time\n",
    "\n",
    "question = \"How about the weather in Mumbai?\"\n",
    "result = rag_chain.invoke({\"input\": question, \"chat_history\": chat_history})\n",
    "chat_history += [question, result]\n",
    "result"
   ]
  },
  {
   "cell_type": "code",
   "execution_count": null,
   "id": "4caf0bc1-5c83-4cd9-a4d4-84ae35a8e234",
   "metadata": {},
   "outputs": [],
   "source": []
  },
  {
   "cell_type": "code",
   "execution_count": null,
   "id": "fd7921b1-3dfd-4c67-bc93-77836b439c5e",
   "metadata": {},
   "outputs": [],
   "source": []
  },
  {
   "cell_type": "code",
   "execution_count": null,
   "id": "830ab967-4c39-43b2-9453-b1dc6ee7f1b0",
   "metadata": {},
   "outputs": [],
   "source": []
  },
  {
   "cell_type": "code",
   "execution_count": 24,
   "id": "6b0bb1f9-2eee-4102-a3d9-fd9741a271f2",
   "metadata": {},
   "outputs": [
    {
     "name": "stdout",
     "output_type": "stream",
     "text": [
      "prompt=PromptTemplate(input_variables=['context', 'input'], input_types={}, partial_variables={}, template=\"Answer the question based only on the following context. Don't try to make up an answer.\\n{context}\\n\\nQuestion: {input}\\n\") additional_kwargs={}\n"
     ]
    }
   ],
   "source": [
    "template = \"\"\"Answer the question based only on the following context. Don't try to make up an answer.\n",
    "{context}\n",
    "\n",
    "Question: {input}\n",
    "\"\"\"\n",
    "\n",
    "prompt = ChatPromptTemplate(messages=[template])\n",
    "print(prompt.messages[0])"
   ]
  },
  {
   "cell_type": "code",
   "execution_count": 27,
   "id": "f265b68f-283b-4881-aada-4b109d36f258",
   "metadata": {},
   "outputs": [],
   "source": [
    "def format_docs(docs):\n",
    "    formatted_docs = []\n",
    "    for i, doc in enumerate(docs):\n",
    "        content = doc.page_content\n",
    "        doc.metadata.update({\"temperature\": f\"{doc.metadata[\"temperature\"]}°C\"})\n",
    "        metadata = \"\\n\".join([f\"{key}: {value}\" for key, value in doc.metadata.items()])\n",
    "        formatted_docs.append(f\"Context {i+1}:-\\nContent: {content}\\nMetadata: {metadata}\")\n",
    "        \n",
    "    res = \"\\n\\n\".join(doc for doc in formatted_docs)\n",
    "    return res"
   ]
  },
  {
   "cell_type": "code",
   "execution_count": 28,
   "id": "f97db64c-919b-4dd9-8560-30f0c8343143",
   "metadata": {},
   "outputs": [],
   "source": [
    "rag_chain_from_docs = (\n",
    "    RunnablePassthrough.assign(context=(lambda x: format_docs(x[\"context\"])))\n",
    "    | prompt\n",
    "    | llm\n",
    "    | StrOutputParser()\n",
    ")\n",
    "\n",
    "rag_chain_with_source = RunnableParallel({\"context\": retriever,\n",
    "                                          \"input\": RunnablePassthrough()}\n",
    "                                        ).assign(answer=rag_chain_from_docs)"
   ]
  },
  {
   "cell_type": "code",
   "execution_count": 29,
   "id": "6efdca0b-4984-4416-88ef-4f3d92e1398d",
   "metadata": {},
   "outputs": [
    {
     "name": "stdout",
     "output_type": "stream",
     "text": [
      "CPU times: user 94.6 ms, sys: 5.01 ms, total: 99.6 ms\n",
      "Wall time: 1.84 s\n"
     ]
    },
    {
     "data": {
      "text/plain": [
       "{'context': [Document(metadata={'city': 'London', 'temperature': '18°C', 'weather': 'drizzle', 'climate': 'temperate maritime'}, page_content='Weather is drizzle and Climate is temperate maritime')],\n",
       " 'input': {'input': \"What's the temperature in London?\", 'chat_history': []},\n",
       " 'answer': 'The temperature in London is 18°C.'}"
      ]
     },
     "execution_count": 29,
     "metadata": {},
     "output_type": "execute_result"
    }
   ],
   "source": [
    "%%time\n",
    "\n",
    "result = rag_chain_with_source.invoke({\"input\": \"What's the temperature in London?\", \"chat_history\": []})\n",
    "result"
   ]
  },
  {
   "cell_type": "code",
   "execution_count": 30,
   "id": "afe541f8-2412-4f49-b830-ac7b0ea469c2",
   "metadata": {},
   "outputs": [
    {
     "name": "stdout",
     "output_type": "stream",
     "text": [
      "CPU times: user 91.2 ms, sys: 1.72 ms, total: 92.9 ms\n",
      "Wall time: 1.65 s\n"
     ]
    },
    {
     "data": {
      "text/plain": [
       "{'context': [],\n",
       " 'input': {'input': \"What's the temperature in Fort Worth?\",\n",
       "  'chat_history': []},\n",
       " 'answer': \"I don't have any information about the current temperature in Fort Worth.\"}"
      ]
     },
     "execution_count": 30,
     "metadata": {},
     "output_type": "execute_result"
    }
   ],
   "source": [
    "%%time\n",
    "\n",
    "result = rag_chain_with_source.invoke({\"input\": \"What's the temperature in Fort Worth?\", \"chat_history\": []})\n",
    "result"
   ]
  },
  {
   "cell_type": "code",
   "execution_count": 31,
   "id": "bd28a7e8-d322-4dd7-ad31-b25b6d0a8975",
   "metadata": {},
   "outputs": [],
   "source": [
    "chat_history = []"
   ]
  },
  {
   "cell_type": "code",
   "execution_count": 32,
   "id": "6944e767-05b6-44c2-8313-b3f338f467b0",
   "metadata": {},
   "outputs": [
    {
     "name": "stdout",
     "output_type": "stream",
     "text": [
      "CPU times: user 85.8 ms, sys: 3.83 ms, total: 89.6 ms\n",
      "Wall time: 1.67 s\n"
     ]
    },
    {
     "data": {
      "text/plain": [
       "{'context': [Document(metadata={'city': 'Paris', 'temperature': '21°C', 'weather': 'partly sunny', 'climate': 'temperate'}, page_content='Weather is partly sunny and Climate is temperate'),\n",
       "  Document(metadata={'city': 'New York', 'temperature': '22°C', 'weather': 'sunny', 'climate': 'temperate'}, page_content='Weather is sunny and Climate is temperate'),\n",
       "  Document(metadata={'city': 'Warsaw', 'temperature': '16°C', 'weather': 'overcast', 'climate': 'temperate'}, page_content='Weather is overcast and Climate is temperate')],\n",
       " 'input': {'input': 'Which cities have temperate climate?',\n",
       "  'chat_history': ['Which cities have temperate climate?',\n",
       "   'All three cities, Paris, New York, and Warsaw, have a temperate climate.']},\n",
       " 'answer': 'All three cities, Paris, New York, and Warsaw, have a temperate climate.'}"
      ]
     },
     "execution_count": 32,
     "metadata": {},
     "output_type": "execute_result"
    }
   ],
   "source": [
    "%%time\n",
    "\n",
    "question = \"Which cities have temperate climate?\"\n",
    "result = rag_chain_with_source.invoke({\"input\": question, \"chat_history\": chat_history})\n",
    "chat_history += [question, result['answer']]\n",
    "result"
   ]
  },
  {
   "cell_type": "code",
   "execution_count": 33,
   "id": "282561d6-4b4b-4e74-bff5-7dac0c736d74",
   "metadata": {},
   "outputs": [
    {
     "name": "stdout",
     "output_type": "stream",
     "text": [
      "CPU times: user 96.7 ms, sys: 5.82 ms, total: 103 ms\n",
      "Wall time: 1.45 s\n"
     ]
    },
    {
     "data": {
      "text/plain": [
       "{'context': [Document(metadata={'city': 'New York', 'temperature': '22°C', 'weather': 'sunny', 'climate': 'temperate'}, page_content='Weather is sunny and Climate is temperate'),\n",
       "  Document(metadata={'city': 'Paris', 'temperature': '21°C', 'weather': 'partly sunny', 'climate': 'temperate'}, page_content='Weather is partly sunny and Climate is temperate'),\n",
       "  Document(metadata={'city': 'Warsaw', 'temperature': '16°C', 'weather': 'overcast', 'climate': 'temperate'}, page_content='Weather is overcast and Climate is temperate')],\n",
       " 'input': {'input': 'Where is it hottest?',\n",
       "  'chat_history': ['Which cities have temperate climate?',\n",
       "   'All three cities, Paris, New York, and Warsaw, have a temperate climate.',\n",
       "   'Where is it hottest?',\n",
       "   'New York']},\n",
       " 'answer': 'New York'}"
      ]
     },
     "execution_count": 33,
     "metadata": {},
     "output_type": "execute_result"
    }
   ],
   "source": [
    "%%time\n",
    "\n",
    "question = \"Where is it hottest?\"\n",
    "result = rag_chain_with_source.invoke({\"input\": question, \"chat_history\": chat_history})\n",
    "chat_history += [question, result['answer']]\n",
    "result"
   ]
  },
  {
   "cell_type": "code",
   "execution_count": 34,
   "id": "22dd34db-3bf4-4206-ac14-ed739a4773bd",
   "metadata": {},
   "outputs": [
    {
     "name": "stdout",
     "output_type": "stream",
     "text": [
      "CPU times: user 88.9 ms, sys: 2.71 ms, total: 91.6 ms\n",
      "Wall time: 1.47 s\n"
     ]
    },
    {
     "data": {
      "text/plain": [
       "{'context': [Document(metadata={'city': 'Beijing', 'temperature': '24°C', 'weather': 'smoggy', 'climate': 'continental'}, page_content='Weather is smoggy and Climate is continental'),\n",
       "  Document(metadata={'city': 'Rio de Janeiro', 'temperature': '29°C', 'weather': 'scattered showers', 'climate': 'tropical'}, page_content='Weather is scattered showers and Climate is tropical'),\n",
       "  Document(metadata={'city': 'Johannesburg', 'temperature': '20°C', 'weather': 'partly sunny', 'climate': 'subtropical highland'}, page_content='Weather is partly sunny and Climate is subtropical highland'),\n",
       "  Document(metadata={'city': 'Bangalore', 'temperature': '28°C', 'weather': 'rainy', 'climate': 'tropical savanna'}, page_content='Weather is rainy and Climate is tropical savanna')],\n",
       " 'input': {'input': 'Where is it hottest?', 'chat_history': []},\n",
       " 'answer': 'Based on the given context, it is hottest in Rio de Janeiro with a temperature of 29°C.'}"
      ]
     },
     "execution_count": 34,
     "metadata": {},
     "output_type": "execute_result"
    }
   ],
   "source": [
    "%%time\n",
    "\n",
    "question = \"Where is it hottest?\"\n",
    "result = rag_chain_with_source.invoke({\"input\": question, \"chat_history\": []})\n",
    "result"
   ]
  },
  {
   "cell_type": "code",
   "execution_count": 35,
   "id": "3df20e4d-4c7d-4c0b-9906-b0eca4b7f209",
   "metadata": {},
   "outputs": [
    {
     "name": "stdout",
     "output_type": "stream",
     "text": [
      "CPU times: user 86.6 ms, sys: 3.58 ms, total: 90.2 ms\n",
      "Wall time: 1.5 s\n"
     ]
    },
    {
     "data": {
      "text/plain": [
       "{'context': [Document(metadata={'city': 'Warsaw', 'temperature': '16°C', 'weather': 'overcast', 'climate': 'temperate'}, page_content='Weather is overcast and Climate is temperate'),\n",
       "  Document(metadata={'city': 'Paris', 'temperature': '21°C', 'weather': 'partly sunny', 'climate': 'temperate'}, page_content='Weather is partly sunny and Climate is temperate'),\n",
       "  Document(metadata={'city': 'New York', 'temperature': '22°C', 'weather': 'sunny', 'climate': 'temperate'}, page_content='Weather is sunny and Climate is temperate')],\n",
       " 'input': {'input': 'Where is it raining?',\n",
       "  'chat_history': ['Which cities have temperate climate?',\n",
       "   'All three cities, Paris, New York, and Warsaw, have a temperate climate.',\n",
       "   'Where is it hottest?',\n",
       "   'New York',\n",
       "   'Where is it raining?',\n",
       "   'It is not mentioned in the given context that it is raining in any of the cities.']},\n",
       " 'answer': 'It is not mentioned in the given context that it is raining in any of the cities.'}"
      ]
     },
     "execution_count": 35,
     "metadata": {},
     "output_type": "execute_result"
    }
   ],
   "source": [
    "%%time\n",
    "\n",
    "question = \"Where is it raining?\"\n",
    "result = rag_chain_with_source.invoke({\"input\": question, \"chat_history\": chat_history})\n",
    "chat_history += [question, result['answer']]\n",
    "result"
   ]
  },
  {
   "cell_type": "code",
   "execution_count": 36,
   "id": "206f4d56-a53a-4467-9368-10e145e499af",
   "metadata": {},
   "outputs": [
    {
     "name": "stdout",
     "output_type": "stream",
     "text": [
      "CPU times: user 87.4 ms, sys: 6.98 ms, total: 94.3 ms\n",
      "Wall time: 1.98 s\n"
     ]
    },
    {
     "data": {
      "text/plain": [
       "{'context': [Document(metadata={'city': 'Phoenix', 'temperature': '35°C', 'weather': 'sunny', 'climate': 'desert'}, page_content='Weather is sunny and Climate is desert'),\n",
       "  Document(metadata={'city': 'Cairo', 'temperature': '32°C', 'weather': 'sunny', 'climate': 'desert'}, page_content='Weather is sunny and Climate is desert'),\n",
       "  Document(metadata={'city': 'New York', 'temperature': '22°C', 'weather': 'sunny', 'climate': 'temperate'}, page_content='Weather is sunny and Climate is temperate'),\n",
       "  Document(metadata={'city': 'Paris', 'temperature': '21°C', 'weather': 'partly sunny', 'climate': 'temperate'}, page_content='Weather is partly sunny and Climate is temperate')],\n",
       " 'input': {'input': 'Where is the weather sunny?',\n",
       "  'chat_history': ['Which cities have temperate climate?',\n",
       "   'All three cities, Paris, New York, and Warsaw, have a temperate climate.',\n",
       "   'Where is it hottest?',\n",
       "   'New York',\n",
       "   'Where is it raining?',\n",
       "   'It is not mentioned in the given context that it is raining in any of the cities.',\n",
       "   'Where is the weather sunny?',\n",
       "   'Phoenix and Cairo']},\n",
       " 'answer': 'Phoenix and Cairo'}"
      ]
     },
     "execution_count": 36,
     "metadata": {},
     "output_type": "execute_result"
    }
   ],
   "source": [
    "%%time\n",
    "\n",
    "question = \"Where is the weather sunny?\"\n",
    "result = rag_chain_with_source.invoke({\"input\": question, \"chat_history\": chat_history})\n",
    "chat_history += [question, result['answer']]\n",
    "result"
   ]
  },
  {
   "cell_type": "code",
   "execution_count": 37,
   "id": "e587839f-b677-4a08-8600-529f9aead074",
   "metadata": {},
   "outputs": [
    {
     "name": "stdout",
     "output_type": "stream",
     "text": [
      "CPU times: user 91.2 ms, sys: 3.72 ms, total: 94.9 ms\n",
      "Wall time: 4.09 s\n"
     ]
    },
    {
     "data": {
      "text/plain": [
       "{'context': [Document(metadata={'city': 'Mumbai', 'temperature': '30°C', 'weather': 'humid', 'climate': 'tropical monsoon'}, page_content='Weather is humid and Climate is tropical monsoon')],\n",
       " 'input': {'input': 'How about the weather in Mumbai?',\n",
       "  'chat_history': ['Which cities have temperate climate?',\n",
       "   'All three cities, Paris, New York, and Warsaw, have a temperate climate.',\n",
       "   'Where is it hottest?',\n",
       "   'New York',\n",
       "   'Where is it raining?',\n",
       "   'It is not mentioned in the given context that it is raining in any of the cities.',\n",
       "   'Where is the weather sunny?',\n",
       "   'Phoenix and Cairo',\n",
       "   'How about the weather in Mumbai?',\n",
       "   'The weather in Mumbai is humid.']},\n",
       " 'answer': 'The weather in Mumbai is humid.'}"
      ]
     },
     "execution_count": 37,
     "metadata": {},
     "output_type": "execute_result"
    }
   ],
   "source": [
    "%%time\n",
    "\n",
    "question = \"How about the weather in Mumbai?\"\n",
    "result = rag_chain_with_source.invoke({\"input\": question, \"chat_history\": chat_history})\n",
    "chat_history += [question, result['answer']]\n",
    "result"
   ]
  },
  {
   "cell_type": "code",
   "execution_count": null,
   "id": "097bc015-af2e-4f78-919a-b7537f312790",
   "metadata": {},
   "outputs": [],
   "source": []
  },
  {
   "cell_type": "code",
   "execution_count": null,
   "id": "d74ca2b7-6fdc-4d2f-ad99-17c10b880c48",
   "metadata": {},
   "outputs": [],
   "source": []
  },
  {
   "cell_type": "code",
   "execution_count": null,
   "id": "3deb239d-8d1a-4343-9cc6-f5d9790fdad8",
   "metadata": {},
   "outputs": [],
   "source": []
  },
  {
   "cell_type": "markdown",
   "id": "6c353b26-6de3-4c26-ba9b-35103102fc0f",
   "metadata": {},
   "source": [
    "## current"
   ]
  },
  {
   "cell_type": "code",
   "execution_count": 26,
   "id": "8cd1b43f-8aa6-4370-a2d5-56a9f798201d",
   "metadata": {},
   "outputs": [
    {
     "name": "stdout",
     "output_type": "stream",
     "text": [
      "prompt=PromptTemplate(input_variables=['context', 'input'], input_types={}, partial_variables={}, template=\"Answer the question based only on the following context. Don't try to make up an answer.\\n{context}\\n\\nQuestion: {input}\\n\") additional_kwargs={}\n"
     ]
    }
   ],
   "source": [
    "template = \"\"\"Answer the question based only on the following context. Don't try to make up an answer.\n",
    "{context}\n",
    "\n",
    "Question: {input}\n",
    "\"\"\"\n",
    "\n",
    "prompt = ChatPromptTemplate(messages=[template])\n",
    "print(prompt.messages[0])"
   ]
  },
  {
   "cell_type": "code",
   "execution_count": 27,
   "id": "ea1c3282-7b8c-42a8-8f1f-c73d3ac7515f",
   "metadata": {},
   "outputs": [],
   "source": [
    "def format_docs(docs):\n",
    "    formatted_docs = []\n",
    "    for i, doc in enumerate(docs):\n",
    "        content = doc.page_content\n",
    "        if doc.metadata.get(\"temperature\"):\n",
    "            doc.metadata.update({\"temperature\": f\"{doc.metadata[\"temperature\"]}°C\"})\n",
    "        metadata = \"\\n\".join([f\"{key}: {value}\" for key, value in doc.metadata.items()])\n",
    "        formatted_docs.append(f\"Context {i+1}:-\\nContent: {content}\\nMetadata: {metadata}\")\n",
    "        \n",
    "    res = \"\\n\\n\".join(doc for doc in formatted_docs)\n",
    "    return res"
   ]
  },
  {
   "cell_type": "code",
   "execution_count": 28,
   "id": "31af3cb3-3e64-4f48-ba95-e749afd80c7b",
   "metadata": {},
   "outputs": [],
   "source": [
    "rag_chain = (RunnablePassthrough.assign(context=(lambda x: format_docs(x[\"context\"]))) \n",
    "             | prompt | llm | StrOutputParser())"
   ]
  },
  {
   "cell_type": "code",
   "execution_count": 29,
   "id": "a5d09a8b-f44f-473a-a5b4-917fdf457138",
   "metadata": {},
   "outputs": [],
   "source": [
    "question = \"What's the temperature in London?\""
   ]
  },
  {
   "cell_type": "code",
   "execution_count": 30,
   "id": "f05f662d-12ed-489b-a376-a1b80f3ddea2",
   "metadata": {},
   "outputs": [
    {
     "data": {
      "text/plain": [
       "[Document(metadata={'city': 'London', 'temperature': 18, 'weather': 'drizzle', 'climate': 'temperate maritime'}, page_content='Weather is drizzle and Climate is temperate maritime')]"
      ]
     },
     "execution_count": 30,
     "metadata": {},
     "output_type": "execute_result"
    }
   ],
   "source": [
    "documents = retriever.get_relevant_documents(question)\n",
    "documents"
   ]
  },
  {
   "cell_type": "code",
   "execution_count": 31,
   "id": "ba4e5f11-32e3-4eea-b5c7-4360829064fd",
   "metadata": {},
   "outputs": [
    {
     "data": {
      "text/plain": [
       "'The temperature in London is 18°C.'"
      ]
     },
     "execution_count": 31,
     "metadata": {},
     "output_type": "execute_result"
    }
   ],
   "source": [
    "generation = rag_chain.invoke({\"context\": documents, \"input\": question})\n",
    "generation"
   ]
  },
  {
   "cell_type": "code",
   "execution_count": 32,
   "id": "dcb0726f-1d2c-40a8-8dd9-b62ac6c06ba5",
   "metadata": {},
   "outputs": [],
   "source": [
    "def retrieve(state):\n",
    "    print(\"---RETRIEVE---\")\n",
    "    inp = state[\"input\"]\n",
    "\n",
    "    # Retrieval\n",
    "    documents = retriever.get_relevant_documents(inp)\n",
    "    # documents = history_aware_retriever.get_relevant_documents(question)\n",
    "    return {\"documents\": documents, \"input\": inp}"
   ]
  },
  {
   "cell_type": "code",
   "execution_count": 33,
   "id": "dcdffa5c-0c7a-4bdf-a861-41fdf4c14a5c",
   "metadata": {},
   "outputs": [],
   "source": [
    "def generate(state):\n",
    "    print(\"---GENERATE---\")\n",
    "    inp = state[\"input\"]\n",
    "    documents = state[\"documents\"]\n",
    "\n",
    "    # RAG generation\n",
    "    generation = rag_chain.invoke({\"context\": documents, \"input\": inp})\n",
    "    return {\"documents\": documents, \"input\": inp, \"generation\": generation}"
   ]
  },
  {
   "cell_type": "code",
   "execution_count": 34,
   "id": "7eb03e49-8a90-4fff-b661-3cd37c65ec98",
   "metadata": {},
   "outputs": [],
   "source": [
    "def grade_documents(state):\n",
    "    print(\"---CHECK DOCUMENT RELEVANCE TO QUESTION---\")\n",
    "    inp = state[\"input\"]\n",
    "    documents = state[\"documents\"]\n",
    "\n",
    "    # Score each doc\n",
    "    filtered_docs = []\n",
    "    for doc in documents:\n",
    "        score = retrieval_grader.invoke({\"input\": inp, \"document\": format_docs([doc])})\n",
    "        grade = score.binary_score\n",
    "        if grade == \"yes\":\n",
    "            print(\"---GRADE: DOCUMENT RELEVANT---\")\n",
    "            filtered_docs.append(doc)\n",
    "        else:\n",
    "            print(\"---GRADE: DOCUMENT NOT RELEVANT---\")\n",
    "\n",
    "    web_search = \"No\" if filtered_docs else \"Yes\"\n",
    "    return {\"documents\": filtered_docs, \"input\": inp, \"web_search\": web_search}"
   ]
  },
  {
   "cell_type": "code",
   "execution_count": 35,
   "id": "0b752197-37f5-43e2-bd9d-3e66ff1c90b5",
   "metadata": {},
   "outputs": [],
   "source": [
    "def rewrite_query(state):\n",
    "    print(\"---REWRITE QUERY---\")\n",
    "    inp = state[\"input\"]\n",
    "    documents = state[\"documents\"]\n",
    "\n",
    "    # Re-write question\n",
    "    query_rewritten = query_rewriter.invoke({\"input\": inp})\n",
    "    print(f\"---modified_query: {query_rewritten}---\")\n",
    "    return {\"documents\": documents, \"input\": query_rewritten}"
   ]
  },
  {
   "cell_type": "code",
   "execution_count": 36,
   "id": "81fea61d-8d41-4dda-af35-3938cb2de1a6",
   "metadata": {},
   "outputs": [],
   "source": [
    "def web_search(state):\n",
    "    print(\"---WEB SEARCH---\")\n",
    "    inp = state[\"input\"]\n",
    "    documents = state[\"documents\"]\n",
    "\n",
    "    # Web search\n",
    "    docs = web_search_tool.invoke({\"query\": inp})\n",
    "    web_results = \"\\n\".join([d[\"content\"] for d in docs])\n",
    "    web_results = Document(page_content=web_results)\n",
    "    documents.append(web_results)\n",
    "\n",
    "    return {\"documents\": documents, \"input\": inp}"
   ]
  },
  {
   "cell_type": "code",
   "execution_count": 37,
   "id": "0d7f89a0-b6c9-4397-9007-20d8d389a45b",
   "metadata": {},
   "outputs": [],
   "source": [
    "def decide_to_generate(state):\n",
    "    print(\"---ASSESS GRADED DOCUMENTS---\")\n",
    "    web_search = state[\"web_search\"]\n",
    "\n",
    "    if web_search == \"Yes\":\n",
    "        print(\"---DECISION: NONE OF THE DOCUMENTS ARE RELEVANT TO QUERY, REWRITE QUERY---\")\n",
    "        return \"rewrite_query\"\n",
    "    else:\n",
    "        print(\"---DECISION: GENERATE---\")\n",
    "        return \"generate\""
   ]
  },
  {
   "cell_type": "code",
   "execution_count": 61,
   "id": "99319588-3a46-491b-8ad4-fc0b3d0b9940",
   "metadata": {},
   "outputs": [],
   "source": [
    "def grade_generation_if_answers_question(state):\n",
    "    print(\"---CHECK WHETHER GENERATION ANSWERS QUESTION---\")\n",
    "    inp = state[\"input\"]\n",
    "    generation = state[\"generation\"]\n",
    "\n",
    "    score = answer_grader.invoke({\"input\": inp, \"generation\": generation})\n",
    "    grade = score.binary_score\n",
    "    if grade == \"yes\":\n",
    "        print(\"---DECISION: GENERATION ANSWERS QUESTION---\")\n",
    "        return \"useful\"\n",
    "    else:\n",
    "        print(\"---DECISION: GENERATION DOES NOT ANSWERS QUESTION---\")\n",
    "        return \"not_useful\""
   ]
  },
  {
   "cell_type": "code",
   "execution_count": null,
   "id": "4fd55213-605c-401d-81da-f0f441dc6dcd",
   "metadata": {},
   "outputs": [],
   "source": []
  },
  {
   "cell_type": "code",
   "execution_count": 62,
   "id": "307ce31b-c92b-4f4c-b826-7d150830d1e2",
   "metadata": {},
   "outputs": [],
   "source": [
    "class GraphState(TypedDict):\n",
    "    \"\"\" Represents the state of our graph. \"\"\"\n",
    "    input: str\n",
    "    generation: str\n",
    "    web_search: str\n",
    "    documents: List[str]\n",
    "\n",
    "workflow = StateGraph(GraphState)"
   ]
  },
  {
   "cell_type": "code",
   "execution_count": 63,
   "id": "37cf2d59-22e6-42d7-93a4-88f03dd903de",
   "metadata": {},
   "outputs": [],
   "source": [
    "# Define the nodes\n",
    "workflow.add_node(\"retrieve\", retrieve)  # retrieve\n",
    "workflow.add_node(\"grade_documents\", grade_documents)  # grade documents\n",
    "workflow.add_node(\"generate\", generate)  # generatae\n",
    "workflow.add_node(\"rewrite_query\", rewrite_query)  # transform_query\n",
    "workflow.add_node(\"web_search_node\", web_search)  # web search\n",
    "\n",
    "# Build graph\n",
    "workflow.add_edge(START, \"retrieve\")\n",
    "workflow.add_edge(\"retrieve\", \"grade_documents\")\n",
    "workflow.add_conditional_edges(\n",
    "    \"grade_documents\", decide_to_generate,\n",
    "    {\"rewrite_query\": \"rewrite_query\",\n",
    "     \"generate\": \"generate\"})\n",
    "workflow.add_edge(\"rewrite_query\", \"web_search_node\")\n",
    "workflow.add_edge(\"web_search_node\", \"generate\")\n",
    "workflow.add_conditional_edges(\n",
    "    \"generate\", grade_generation_if_answers_question,\n",
    "    {\"useful\": END,\n",
    "     \"not_useful\": \"rewrite_query\"})\n",
    "\n",
    "# Compile\n",
    "app = workflow.compile()"
   ]
  },
  {
   "cell_type": "code",
   "execution_count": 64,
   "id": "55433162-8bdb-44d7-8ede-6a3950e24ada",
   "metadata": {},
   "outputs": [
    {
     "data": {
      "image/jpeg": "[encoded data removed]",
      "text/plain": [
       "<IPython.core.display.Image object>"
      ]
     },
     "metadata": {},
     "output_type": "display_data"
    }
   ],
   "source": [
    "display(\n",
    "    Image(\n",
    "        app.get_graph().draw_mermaid_png(\n",
    "            draw_method=MermaidDrawMethod.API,\n",
    "        )\n",
    "    )\n",
    ")"
   ]
  },
  {
   "cell_type": "code",
   "execution_count": 53,
   "id": "2727b4c2-36fe-4068-86bd-650cd103f465",
   "metadata": {},
   "outputs": [
    {
     "name": "stdout",
     "output_type": "stream",
     "text": [
      "---RETRIEVE---\n",
      "---CHECK DOCUMENT RELEVANCE TO QUESTION---\n",
      "---GRADE: DOCUMENT RELEVANT---\n",
      "---ASSESS GRADED DOCUMENTS---\n",
      "---DECISION: GENERATE---\n",
      "---GENERATE---\n",
      "---CHECK WHETHER GENERATION ANSWERS QUESTION---\n",
      "---DECISION: GENERATION ANSWERS QUESTION---\n",
      "CPU times: user 207 ms, sys: 8.84 ms, total: 216 ms\n",
      "Wall time: 4.68 s\n"
     ]
    },
    {
     "data": {
      "text/plain": [
       "{'input': \"What's the temperature in London?\",\n",
       " 'generation': 'The temperature in London is 18°C.',\n",
       " 'web_search': 'No',\n",
       " 'documents': [Document(metadata={'city': 'London', 'temperature': '18°C°C', 'weather': 'drizzle', 'climate': 'temperate maritime'}, page_content='Weather is drizzle and Climate is temperate maritime')]}"
      ]
     },
     "execution_count": 53,
     "metadata": {},
     "output_type": "execute_result"
    }
   ],
   "source": [
    "%%time\n",
    "res = app.invoke({\"input\": \"What's the temperature in London?\"})\n",
    "res"
   ]
  },
  {
   "cell_type": "code",
   "execution_count": 54,
   "id": "79318f81-004f-41a7-bbc0-7403c5cd28a6",
   "metadata": {},
   "outputs": [
    {
     "name": "stdout",
     "output_type": "stream",
     "text": [
      "---RETRIEVE---\n",
      "---CHECK DOCUMENT RELEVANCE TO QUESTION---\n",
      "---ASSESS GRADED DOCUMENTS---\n",
      "---DECISION: NONE OF THE DOCUMENTS ARE RELEVANT TO QUERY, REWRITE QUERY---\n",
      "---REWRITE QUERY---\n",
      "---modified_query: Current temperature in Fort Worth, Texas---\n",
      "---WEB SEARCH---\n",
      "---GENERATE---\n",
      "---CHECK WHETHER GENERATION ANSWERS QUESTION---\n",
      "---DECISION: GENERATION DOES NOT ANSWERS QUESTION---\n",
      "---REWRITE QUERY---\n",
      "---modified_query: \"Fort Worth Texas current weather temperature\"---\n",
      "---WEB SEARCH---\n",
      "---GENERATE---\n",
      "---CHECK WHETHER GENERATION ANSWERS QUESTION---\n",
      "---DECISION: GENERATION ANSWERS QUESTION---\n",
      "CPU times: user 265 ms, sys: 7.65 ms, total: 273 ms\n",
      "Wall time: 15.7 s\n"
     ]
    },
    {
     "data": {
      "text/plain": [
       "{'input': '\"Fort Worth Texas current weather temperature\"',\n",
       " 'generation': 'According to the provided context, the current weather temperature in Fort Worth, Texas is 69.1°F (20.6°C).',\n",
       " 'web_search': 'Yes',\n",
       " 'documents': [Document(metadata={}, page_content='Slight ChanceT-storms thenT-stormsLikely\\nHigh: 79 °F\\nThursdayNight\\nT-stormsLikely thenShowersLikely\\nLow: 59 °F\\nFriday\\nShowersLikely\\nHigh: 67 °F\\nFridayNight\\nChanceT-storms\\nLow: 54 °F\\nSaturday\\nSlight ChanceT-storms thenChanceShowers\\nHigh: 67 °F\\nSaturdayNight\\nChanceShowers\\nLow: 54 °F\\nSunday\\n Partly Cloudy\\n79°F\\n26°C\\nMore Information:\\nLocal Forecast OfficeMore Local Wx3 Day HistoryMobile WeatherHourly Weather Forecast\\nDallas / Fort Worth International Airport TX\\nThisAfternoon\\nMostly Sunny\\nHigh: 81 °F\\nTonight\\n Slight ChanceShowers\\nHigh: 68 °F\\nDetailed Forecast\\nAdditional Forecasts and Information\\nZone Area Forecast for Dallas County, TX\\nAdditional Resources\\nHigh Temperature\\nChance of Precipitation NWS\\nAll NOAA\\nYour local forecast office is\\nWinter Storm Developing in the Central U.S. with Areas of Heavy Snow, Severe Thunderstorms, and Fire Weather\\nA winter storm developing across the central Rockies today will spread heavy snow across the area, including the Denver Metro, through Friday, with heavy snow expanding into the southern Rockies beginning Thursday. Slight ChanceT-storms\\nLow: 67 °F\\nThursday\\n\\nFort Worth Weather Forecasts. Weather Underground provides local & long-range weather forecasts, weatherreports, maps & tropical weather conditions for the Fort Worth area. ... Current Weather for\\nCurrent weather in Fort Worth, TX. Check current conditions in Fort Worth, TX with radar, hourly, and more.'),\n",
       "  Document(metadata={}, page_content=\"{'location': {'name': 'Fort Worth', 'region': 'Texas', 'country': 'United States of America', 'lat': 32.7253, 'lon': -97.3206, 'tz_id': 'America/Chicago', 'localtime_epoch': 1730558692, 'localtime': '2024-11-02 09:44'}, 'current': {'last_updated_epoch': 1730557800, 'last_updated': '2024-11-02 09:30', 'temp_c': 20.6, 'temp_f': 69.1, 'is_day': 1, 'condition': {'text': 'Overcast', 'icon': '//cdn.weatherapi.com/weather/64x64/day/122.png', 'code': 1009}, 'wind_mph': 8.3, 'wind_kph': 13.3, 'wind_degree': 128, 'wind_dir': 'SE', 'pressure_mb': 1018.0, 'pressure_in': 30.07, 'precip_mm': 0.0, 'precip_in': 0.0, 'humidity': 87, 'cloud': 100, 'feelslike_c': 20.6, 'feelslike_f': 69.1, 'windchill_c': 19.7, 'windchill_f': 67.5, 'heatindex_c': 19.7, 'heatindex_f': 67.5, 'dewpoint_c': 18.3, 'dewpoint_f': 65.0, 'vis_km': 16.0, 'vis_miles': 9.0, 'uv': 0.2, 'gust_mph': 11.4, 'gust_kph': 18.4}}\\n2024 Weather History in Fort Worth Texas, ... See all nearby weather stations. Latest Report — 9:53 PM. Tue, Oct 29, 2024 41 min ago UTC 02:53 Call Sign KDFW. Temp. 79.0 °F. warm. Dew Pt. 59.0°F comfortable Rel. Humidity: ... It features all historical weather data series we have available, including the Fort Worth temperature history for\\nCurrent conditions at Fort Worth, Meacham International Airport (KFTW) Lat: 32.83°NLon: 97.36°WElev: 709ft. Fair. ... 2024-6pm CST Nov 6, 2024 . Forecast Discussion . Additional Resources. ... National Weather Service; Fort Worth/Dallas, TX; 3401 Northern Cross Blvd. Fort Worth, TX 76137; Comments? Questions? Please Contact Us.\")]}"
      ]
     },
     "execution_count": 54,
     "metadata": {},
     "output_type": "execute_result"
    }
   ],
   "source": [
    "%%time\n",
    "res = app.invoke({\"input\": \"What's the temperature in Fort Worth?\"})\n",
    "res"
   ]
  },
  {
   "cell_type": "code",
   "execution_count": 55,
   "id": "c0940f14-855b-4870-90ca-a8761c5c985d",
   "metadata": {},
   "outputs": [
    {
     "name": "stdout",
     "output_type": "stream",
     "text": [
      "Slight ChanceT-storms thenT-stormsLikely\n",
      "High: 79 °F\n",
      "ThursdayNight\n",
      "T-stormsLikely thenShowersLikely\n",
      "Low: 59 °F\n",
      "Friday\n",
      "ShowersLikely\n",
      "High: 67 °F\n",
      "FridayNight\n",
      "ChanceT-storms\n",
      "Low: 54 °F\n",
      "Saturday\n",
      "Slight ChanceT-storms thenChanceShowers\n",
      "High: 67 °F\n",
      "SaturdayNight\n",
      "ChanceShowers\n",
      "Low: 54 °F\n",
      "Sunday\n",
      " Partly Cloudy\n",
      "79°F\n",
      "26°C\n",
      "More Information:\n",
      "Local Forecast OfficeMore Local Wx3 Day HistoryMobile WeatherHourly Weather Forecast\n",
      "Dallas / Fort Worth International Airport TX\n",
      "ThisAfternoon\n",
      "Mostly Sunny\n",
      "High: 81 °F\n",
      "Tonight\n",
      " Slight ChanceShowers\n",
      "High: 68 °F\n",
      "Detailed Forecast\n",
      "Additional Forecasts and Information\n",
      "Zone Area Forecast for Dallas County, TX\n",
      "Additional Resources\n",
      "High Temperature\n",
      "Chance of Precipitation NWS\n",
      "All NOAA\n",
      "Your local forecast office is\n",
      "Winter Storm Developing in the Central U.S. with Areas of Heavy Snow, Severe Thunderstorms, and Fire Weather\n",
      "A winter storm developing across the central Rockies today will spread heavy snow across the area, including the Denver Metro, through Friday, with heavy snow expanding into the southern Rockies beginning Thursday. Slight ChanceT-storms\n",
      "Low: 67 °F\n",
      "Thursday\n",
      "\n",
      "Fort Worth Weather Forecasts. Weather Underground provides local & long-range weather forecasts, weatherreports, maps & tropical weather conditions for the Fort Worth area. ... Current Weather for\n",
      "Current weather in Fort Worth, TX. Check current conditions in Fort Worth, TX with radar, hourly, and more.\n"
     ]
    }
   ],
   "source": [
    "print(res['documents'][0].page_content)"
   ]
  },
  {
   "cell_type": "code",
   "execution_count": null,
   "id": "817c9b7d-587f-4ef8-88c1-0a8e69dbd873",
   "metadata": {},
   "outputs": [],
   "source": []
  },
  {
   "cell_type": "code",
   "execution_count": null,
   "id": "e1d85a3c-70ac-4f73-adec-565318ee464f",
   "metadata": {},
   "outputs": [],
   "source": []
  },
  {
   "cell_type": "code",
   "execution_count": null,
   "id": "df94273f-d331-4adb-8a60-acea1ec62d97",
   "metadata": {},
   "outputs": [],
   "source": []
  },
  {
   "cell_type": "code",
   "execution_count": null,
   "id": "998e113e-bdb9-4c7d-a2fa-4e377e2f7339",
   "metadata": {},
   "outputs": [],
   "source": []
  },
  {
   "cell_type": "code",
   "execution_count": null,
   "id": "8d388938-1ea4-4162-bc9e-41fe00ce2f53",
   "metadata": {},
   "outputs": [],
   "source": []
  },
  {
   "cell_type": "code",
   "execution_count": null,
   "id": "2bc55ba8-ae27-41ae-aaf7-aca11e3c00d8",
   "metadata": {},
   "outputs": [],
   "source": []
  },
  {
   "cell_type": "code",
   "execution_count": null,
   "id": "f9b1feca-8f30-4242-8343-b0ae82af4507",
   "metadata": {},
   "outputs": [],
   "source": []
  },
  {
   "cell_type": "code",
   "execution_count": 29,
   "id": "415785b5-1cb7-4b20-b8fa-b48d13582dde",
   "metadata": {},
   "outputs": [],
   "source": [
    "qa_system_prompt = \"\"\"You are an assistant for question-answering tasks. \\\n",
    "Use the following pieces of retrieved context to answer the question. \\\n",
    "If you don't know the answer, just say that you don't know. \\\n",
    "Use three sentences maximum and keep the answer concise.\\\n",
    "\n",
    "{context}\"\"\"\n",
    "\n",
    "qa_prompt = ChatPromptTemplate.from_messages([(\"system\", qa_system_prompt), MessagesPlaceholder(\"chat_history\"),\n",
    "                                              (\"human\", \"{input}\")])\n",
    "\n",
    "question_answer_chain = create_stuff_documents_chain(llm, qa_prompt)\n",
    "\n",
    "rag_chain = create_retrieval_chain(history_aware_retriever, question_answer_chain)"
   ]
  },
  {
   "cell_type": "code",
   "execution_count": 54,
   "id": "18320bb9-b231-4013-8211-f4a3f0f30c03",
   "metadata": {},
   "outputs": [],
   "source": [
    "chat_history = []"
   ]
  },
  {
   "cell_type": "code",
   "execution_count": 55,
   "id": "cc4ebb12-62b2-47bd-b492-4667d751047f",
   "metadata": {
    "scrolled": true
   },
   "outputs": [],
   "source": [
    "question = \"Which cities have temperate climate?\"\n",
    "ai_msg_1 = rag_chain.invoke({\"input\": question, \"chat_history\": chat_history})\n",
    "chat_history += [HumanMessage(content=question), ai_msg_1[\"answer\"]]"
   ]
  },
  {
   "cell_type": "code",
   "execution_count": 56,
   "id": "8620f6ff-b4b1-4315-8c95-ebc01a202857",
   "metadata": {},
   "outputs": [
    {
     "data": {
      "text/plain": [
       "{'input': 'Which cities have temperate climate?',\n",
       " 'chat_history': [HumanMessage(content='Which cities have temperate climate?', additional_kwargs={}, response_metadata={}),\n",
       "  'The cities with a temperate climate are Warsaw, New York, and Paris. All three cities have a temperate climate.'],\n",
       " 'context': [Document(metadata={'city': 'Warsaw', 'temperature': 16, 'weather': 'overcast', 'climate': 'temperate'}, page_content='For city Warsaw, Temperature is 16°C, Weather is overcast and Climate is temperate'),\n",
       "  Document(metadata={'city': 'New York', 'temperature': 22, 'weather': 'sunny', 'climate': 'temperate'}, page_content='For city New York, Temperature is 22°C, Weather is sunny and Climate is temperate'),\n",
       "  Document(metadata={'city': 'Paris', 'temperature': 21, 'weather': 'partly sunny', 'climate': 'temperate'}, page_content='For city Paris, Temperature is 21°C, Weather is partly sunny and Climate is temperate')],\n",
       " 'answer': 'The cities with a temperate climate are Warsaw, New York, and Paris. All three cities have a temperate climate.'}"
      ]
     },
     "execution_count": 56,
     "metadata": {},
     "output_type": "execute_result"
    }
   ],
   "source": [
    "ai_msg_1"
   ]
  },
  {
   "cell_type": "code",
   "execution_count": 57,
   "id": "b8ef64dd-6552-49f1-9052-c7d00828440b",
   "metadata": {},
   "outputs": [
    {
     "data": {
      "text/plain": [
       "[HumanMessage(content='Which cities have temperate climate?', additional_kwargs={}, response_metadata={}),\n",
       " 'The cities with a temperate climate are Warsaw, New York, and Paris. All three cities have a temperate climate.']"
      ]
     },
     "execution_count": 57,
     "metadata": {},
     "output_type": "execute_result"
    }
   ],
   "source": [
    "chat_history"
   ]
  },
  {
   "cell_type": "code",
   "execution_count": 59,
   "id": "b4ca6a4d-e339-4a38-934c-d0e7125fad42",
   "metadata": {
    "scrolled": true
   },
   "outputs": [],
   "source": [
    "second_question = \"Where is it hottest?\"\n",
    "ai_msg_2 = rag_chain.invoke({\"input\": second_question, \"chat_history\": chat_history})\n",
    "chat_history += [HumanMessage(content=second_question), ai_msg_2[\"answer\"]]"
   ]
  },
  {
   "cell_type": "code",
   "execution_count": 60,
   "id": "1bed5e75-5111-4a25-9a0b-13c1f30e8dc7",
   "metadata": {},
   "outputs": [
    {
     "data": {
      "text/plain": [
       "{'input': 'Where is it hottest?',\n",
       " 'chat_history': [HumanMessage(content='Which cities have temperate climate?', additional_kwargs={}, response_metadata={}),\n",
       "  'The cities with a temperate climate are Warsaw, New York, and Paris. All three cities have a temperate climate.',\n",
       "  HumanMessage(content='Where is it hottest?', additional_kwargs={}, response_metadata={}),\n",
       "  \"I don't know, as there is no information provided about temperature comparisons between the cities.\"],\n",
       " 'context': [],\n",
       " 'answer': \"I don't know, as there is no information provided about temperature comparisons between the cities.\"}"
      ]
     },
     "execution_count": 60,
     "metadata": {},
     "output_type": "execute_result"
    }
   ],
   "source": [
    "ai_msg_2"
   ]
  },
  {
   "cell_type": "code",
   "execution_count": 61,
   "id": "d5c3b00a-e0d8-4263-b3a0-61382147e754",
   "metadata": {},
   "outputs": [
    {
     "data": {
      "text/plain": [
       "[HumanMessage(content='Which cities have temperate climate?', additional_kwargs={}, response_metadata={}),\n",
       " 'The cities with a temperate climate are Warsaw, New York, and Paris. All three cities have a temperate climate.',\n",
       " HumanMessage(content='Where is it hottest?', additional_kwargs={}, response_metadata={}),\n",
       " \"I don't know, as there is no information provided about temperature comparisons between the cities.\"]"
      ]
     },
     "execution_count": 61,
     "metadata": {},
     "output_type": "execute_result"
    }
   ],
   "source": [
    "chat_history"
   ]
  },
  {
   "cell_type": "code",
   "execution_count": null,
   "id": "68bfbe34-f10e-401e-80b2-ccafda298529",
   "metadata": {},
   "outputs": [],
   "source": []
  },
  {
   "cell_type": "code",
   "execution_count": null,
   "id": "17f351dd-0fed-4737-bb52-051cb19794bd",
   "metadata": {},
   "outputs": [],
   "source": []
  },
  {
   "cell_type": "code",
   "execution_count": null,
   "id": "ce037d87-19f8-4e16-bcc0-3ea1bfdef5c7",
   "metadata": {},
   "outputs": [],
   "source": []
  },
  {
   "cell_type": "code",
   "execution_count": null,
   "id": "5f20b561-1d46-4f02-8c33-a329d4d3e60e",
   "metadata": {},
   "outputs": [],
   "source": []
  },
  {
   "cell_type": "code",
   "execution_count": null,
   "id": "e581df4f-464e-42a1-ab44-a367bf173e5f",
   "metadata": {},
   "outputs": [],
   "source": []
  },
  {
   "cell_type": "code",
   "execution_count": null,
   "id": "8c5aef59-93b1-4f24-956d-8a005102250c",
   "metadata": {},
   "outputs": [],
   "source": []
  },
  {
   "cell_type": "code",
   "execution_count": null,
   "id": "007e8048-709f-4587-88ec-8748d8db52f3",
   "metadata": {},
   "outputs": [],
   "source": []
  },
  {
   "cell_type": "code",
   "execution_count": null,
   "id": "eb18057a-8e45-4661-972e-859def87a5e0",
   "metadata": {},
   "outputs": [],
   "source": []
  },
  {
   "cell_type": "code",
   "execution_count": null,
   "id": "9d04b736-c480-4635-ae0a-e504f4a1c315",
   "metadata": {},
   "outputs": [],
   "source": []
  },
  {
   "cell_type": "code",
   "execution_count": null,
   "id": "bc8847b6-88f2-4f8a-8667-9f3bea8b3773",
   "metadata": {},
   "outputs": [],
   "source": []
  },
  {
   "cell_type": "code",
   "execution_count": null,
   "id": "8689b3e6-f18b-4448-bb41-295351222556",
   "metadata": {},
   "outputs": [],
   "source": []
  },
  {
   "cell_type": "code",
   "execution_count": null,
   "id": "dbf6b882-c0d5-4934-8ad3-0aae2a3f3dab",
   "metadata": {},
   "outputs": [],
   "source": []
  }
 ],
 "metadata": {
  "kernelspec": {
   "display_name": "Python 3 (ipykernel)",
   "language": "python",
   "name": "python3"
  },
  "language_info": {
   "codemirror_mode": {
    "name": "ipython",
    "version": 3
   },
   "file_extension": ".py",
   "mimetype": "text/x-python",
   "name": "python",
   "nbconvert_exporter": "python",
   "pygments_lexer": "ipython3",
   "version": "3.12.3"
  }
 },
 "nbformat": 4,
 "nbformat_minor": 5
}
