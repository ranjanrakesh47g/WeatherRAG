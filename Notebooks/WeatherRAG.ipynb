{
 "cells": [
  {
   "cell_type": "markdown",
   "id": "93298850-dc7c-42cc-bee3-ff4019c8f240",
   "metadata": {},
   "source": [
    "## Indexing"
   ]
  },
  {
   "cell_type": "code",
   "execution_count": 1,
   "id": "895cdbd5-15a1-419e-8c3d-040631926465",
   "metadata": {},
   "outputs": [
    {
     "name": "stdout",
     "output_type": "stream",
     "text": [
      "/home/rakesh/Downloads/Evertz/WeatherRAG\n"
     ]
    },
    {
     "name": "stderr",
     "output_type": "stream",
     "text": [
      "/home/rakesh/Downloads/Evertz/WeatherRAG/venv/lib/python3.12/site-packages/IPython/core/magics/osm.py:417: UserWarning: This is now an optional IPython functionality, setting dhist requires you to install the `pickleshare` library.\n",
      "  self.shell.db['dhist'] = compress_dhist(dhist)[-100:]\n"
     ]
    }
   ],
   "source": [
    "cd /home/rakesh/Downloads/Evertz/WeatherRAG"
   ]
  },
  {
   "cell_type": "code",
   "execution_count": 2,
   "id": "4f619a33-eeb1-4a37-a016-d36bfd11cc26",
   "metadata": {},
   "outputs": [
    {
     "name": "stderr",
     "output_type": "stream",
     "text": [
      "/home/rakesh/Downloads/Evertz/WeatherRAG/venv/lib/python3.12/site-packages/tqdm/auto.py:21: TqdmWarning: IProgress not found. Please update jupyter and ipywidgets. See https://ipywidgets.readthedocs.io/en/stable/user_install.html\n",
      "  from .autonotebook import tqdm as notebook_tqdm\n",
      "/home/rakesh/Downloads/Evertz/WeatherRAG/venv/lib/python3.12/site-packages/IPython/core/interactiveshell.py:3577: LangChainDeprecationWarning: As of langchain-core 0.3.0, LangChain uses pydantic v2 internally. The langchain_core.pydantic_v1 module was a compatibility shim for pydantic v1, and should no longer be used. Please update the code to import from Pydantic directly.\n",
      "\n",
      "For example, replace imports like: `from langchain_core.pydantic_v1 import BaseModel`\n",
      "with: `from pydantic import BaseModel`\n",
      "or the v1 compatibility namespace if you are working in a code base that has not been fully upgraded to pydantic 2 yet. \tfrom pydantic.v1 import BaseModel\n",
      "\n",
      "  exec(code_obj, self.user_global_ns, self.user_ns)\n"
     ]
    }
   ],
   "source": [
    "import pandas as pd\n",
    "import torch\n",
    "import time\n",
    "import os\n",
    "from api_keys import GROQ_API_KEY, TAVILY_API_KEY\n",
    "from transformers import AutoTokenizer, AutoModel\n",
    "from langchain_core.documents import Document\n",
    "from langchain_elasticsearch import ElasticsearchStore\n",
    "from langchain_groq import ChatGroq\n",
    "from langchain.chains.query_constructor.base import AttributeInfo\n",
    "from langchain.retrievers.self_query.base import SelfQueryRetriever\n",
    "from langchain_core.prompts import ChatPromptTemplate, MessagesPlaceholder\n",
    "from langchain_core.runnables import RunnablePassthrough, RunnableParallel\n",
    "from langchain_core.output_parsers import StrOutputParser\n",
    "from langchain_core.messages import HumanMessage, AIMessage\n",
    "from langchain.chains import create_history_aware_retriever, create_retrieval_chain\n",
    "from langchain.chains.combine_documents import create_stuff_documents_chain\n",
    "from langchain_core.pydantic_v1 import BaseModel, Field\n",
    "from langchain_community.tools import TavilySearchResults\n",
    "from typing import List\n",
    "from typing_extensions import TypedDict\n",
    "from langgraph.graph import END, StateGraph, START\n",
    "from IPython.display import Image, display\n",
    "from langchain_core.runnables.graph import CurveStyle, MermaidDrawMethod, NodeStyles"
   ]
  },
  {
   "cell_type": "code",
   "execution_count": 3,
   "id": "109d4fdf-8986-4a44-afb4-d280776541cc",
   "metadata": {},
   "outputs": [],
   "source": [
    "os.environ[\"GROQ_API_KEY\"] = GROQ_API_KEY\n",
    "os.environ[\"TAVILY_API_KEY\"] = TAVILY_API_KEY"
   ]
  },
  {
   "cell_type": "code",
   "execution_count": null,
   "id": "3b1646c9-4c32-4c7c-874e-918fbbc01b08",
   "metadata": {},
   "outputs": [],
   "source": []
  },
  {
   "cell_type": "code",
   "execution_count": null,
   "id": "8aa43dbe-f0d8-41e8-aaa2-1b45007a92b3",
   "metadata": {},
   "outputs": [],
   "source": []
  },
  {
   "cell_type": "code",
   "execution_count": null,
   "id": "f6c57fb9-c544-450f-a3ba-1d8d1b63e022",
   "metadata": {},
   "outputs": [],
   "source": []
  },
  {
   "cell_type": "code",
   "execution_count": 4,
   "id": "c560ce3f-6faf-4782-94a3-719b6fdd9414",
   "metadata": {
    "scrolled": true
   },
   "outputs": [
    {
     "data": {
      "text/html": [
       "<div>\n",
       "<style scoped>\n",
       "    .dataframe tbody tr th:only-of-type {\n",
       "        vertical-align: middle;\n",
       "    }\n",
       "\n",
       "    .dataframe tbody tr th {\n",
       "        vertical-align: top;\n",
       "    }\n",
       "\n",
       "    .dataframe thead th {\n",
       "        text-align: right;\n",
       "    }\n",
       "</style>\n",
       "<table border=\"1\" class=\"dataframe\">\n",
       "  <thead>\n",
       "    <tr style=\"text-align: right;\">\n",
       "      <th></th>\n",
       "      <th>city</th>\n",
       "      <th>temperature</th>\n",
       "      <th>weather</th>\n",
       "      <th>climate</th>\n",
       "    </tr>\n",
       "  </thead>\n",
       "  <tbody>\n",
       "    <tr>\n",
       "      <th>0</th>\n",
       "      <td>New York</td>\n",
       "      <td>22</td>\n",
       "      <td>sunny</td>\n",
       "      <td>temperate</td>\n",
       "    </tr>\n",
       "    <tr>\n",
       "      <th>1</th>\n",
       "      <td>Los Angeles</td>\n",
       "      <td>25</td>\n",
       "      <td>partly cloudy</td>\n",
       "      <td>mediterranean</td>\n",
       "    </tr>\n",
       "    <tr>\n",
       "      <th>2</th>\n",
       "      <td>Chicago</td>\n",
       "      <td>18</td>\n",
       "      <td>cloudy</td>\n",
       "      <td>continental</td>\n",
       "    </tr>\n",
       "    <tr>\n",
       "      <th>3</th>\n",
       "      <td>Houston</td>\n",
       "      <td>30</td>\n",
       "      <td>thunderstorms</td>\n",
       "      <td>humid subtropical</td>\n",
       "    </tr>\n",
       "    <tr>\n",
       "      <th>4</th>\n",
       "      <td>Phoenix</td>\n",
       "      <td>35</td>\n",
       "      <td>sunny</td>\n",
       "      <td>desert</td>\n",
       "    </tr>\n",
       "    <tr>\n",
       "      <th>5</th>\n",
       "      <td>Toronto</td>\n",
       "      <td>20</td>\n",
       "      <td>partly cloudy</td>\n",
       "      <td>continental</td>\n",
       "    </tr>\n",
       "    <tr>\n",
       "      <th>6</th>\n",
       "      <td>Warsaw</td>\n",
       "      <td>16</td>\n",
       "      <td>overcast</td>\n",
       "      <td>temperate</td>\n",
       "    </tr>\n",
       "    <tr>\n",
       "      <th>7</th>\n",
       "      <td>Bangalore</td>\n",
       "      <td>28</td>\n",
       "      <td>rainy</td>\n",
       "      <td>tropical savanna</td>\n",
       "    </tr>\n",
       "    <tr>\n",
       "      <th>8</th>\n",
       "      <td>London</td>\n",
       "      <td>18</td>\n",
       "      <td>drizzle</td>\n",
       "      <td>temperate maritime</td>\n",
       "    </tr>\n",
       "    <tr>\n",
       "      <th>9</th>\n",
       "      <td>Paris</td>\n",
       "      <td>21</td>\n",
       "      <td>partly sunny</td>\n",
       "      <td>temperate</td>\n",
       "    </tr>\n",
       "    <tr>\n",
       "      <th>10</th>\n",
       "      <td>Tokyo</td>\n",
       "      <td>26</td>\n",
       "      <td>clear</td>\n",
       "      <td>humid subtropical</td>\n",
       "    </tr>\n",
       "    <tr>\n",
       "      <th>11</th>\n",
       "      <td>Sydney</td>\n",
       "      <td>22</td>\n",
       "      <td>windy</td>\n",
       "      <td>humid subtropical</td>\n",
       "    </tr>\n",
       "    <tr>\n",
       "      <th>12</th>\n",
       "      <td>Cape Town</td>\n",
       "      <td>19</td>\n",
       "      <td>partly cloudy</td>\n",
       "      <td>mediterranean</td>\n",
       "    </tr>\n",
       "    <tr>\n",
       "      <th>13</th>\n",
       "      <td>Moscow</td>\n",
       "      <td>15</td>\n",
       "      <td>cloudy</td>\n",
       "      <td>continental</td>\n",
       "    </tr>\n",
       "    <tr>\n",
       "      <th>14</th>\n",
       "      <td>Rio de Janeiro</td>\n",
       "      <td>29</td>\n",
       "      <td>scattered showers</td>\n",
       "      <td>tropical</td>\n",
       "    </tr>\n",
       "    <tr>\n",
       "      <th>15</th>\n",
       "      <td>Beijing</td>\n",
       "      <td>24</td>\n",
       "      <td>smoggy</td>\n",
       "      <td>continental</td>\n",
       "    </tr>\n",
       "    <tr>\n",
       "      <th>16</th>\n",
       "      <td>Mumbai</td>\n",
       "      <td>30</td>\n",
       "      <td>humid</td>\n",
       "      <td>tropical monsoon</td>\n",
       "    </tr>\n",
       "    <tr>\n",
       "      <th>17</th>\n",
       "      <td>Cairo</td>\n",
       "      <td>32</td>\n",
       "      <td>sunny</td>\n",
       "      <td>desert</td>\n",
       "    </tr>\n",
       "    <tr>\n",
       "      <th>18</th>\n",
       "      <td>Buenos Aires</td>\n",
       "      <td>23</td>\n",
       "      <td>clear</td>\n",
       "      <td>humid subtropical</td>\n",
       "    </tr>\n",
       "    <tr>\n",
       "      <th>19</th>\n",
       "      <td>Johannesburg</td>\n",
       "      <td>20</td>\n",
       "      <td>partly sunny</td>\n",
       "      <td>subtropical highland</td>\n",
       "    </tr>\n",
       "  </tbody>\n",
       "</table>\n",
       "</div>"
      ],
      "text/plain": [
       "              city  temperature            weather               climate\n",
       "0         New York           22              sunny             temperate\n",
       "1      Los Angeles           25      partly cloudy         mediterranean\n",
       "2          Chicago           18             cloudy           continental\n",
       "3          Houston           30      thunderstorms     humid subtropical\n",
       "4          Phoenix           35              sunny                desert\n",
       "5          Toronto           20      partly cloudy           continental\n",
       "6           Warsaw           16           overcast             temperate\n",
       "7        Bangalore           28              rainy      tropical savanna\n",
       "8           London           18            drizzle    temperate maritime\n",
       "9            Paris           21       partly sunny             temperate\n",
       "10           Tokyo           26              clear     humid subtropical\n",
       "11          Sydney           22              windy     humid subtropical\n",
       "12       Cape Town           19      partly cloudy         mediterranean\n",
       "13          Moscow           15             cloudy           continental\n",
       "14  Rio de Janeiro           29  scattered showers              tropical\n",
       "15         Beijing           24             smoggy           continental\n",
       "16          Mumbai           30              humid      tropical monsoon\n",
       "17           Cairo           32              sunny                desert\n",
       "18    Buenos Aires           23              clear     humid subtropical\n",
       "19    Johannesburg           20       partly sunny  subtropical highland"
      ]
     },
     "execution_count": 4,
     "metadata": {},
     "output_type": "execute_result"
    }
   ],
   "source": [
    "data = pd.read_excel('data/data.xlsx')\n",
    "data"
   ]
  },
  {
   "cell_type": "code",
   "execution_count": 5,
   "id": "16612b61-97a7-4d16-b5f6-08d8ee4f0b2d",
   "metadata": {
    "scrolled": true
   },
   "outputs": [
    {
     "data": {
      "text/html": [
       "<div>\n",
       "<style scoped>\n",
       "    .dataframe tbody tr th:only-of-type {\n",
       "        vertical-align: middle;\n",
       "    }\n",
       "\n",
       "    .dataframe tbody tr th {\n",
       "        vertical-align: top;\n",
       "    }\n",
       "\n",
       "    .dataframe thead th {\n",
       "        text-align: right;\n",
       "    }\n",
       "</style>\n",
       "<table border=\"1\" class=\"dataframe\">\n",
       "  <thead>\n",
       "    <tr style=\"text-align: right;\">\n",
       "      <th></th>\n",
       "      <th>city</th>\n",
       "      <th>temperature</th>\n",
       "      <th>weather</th>\n",
       "      <th>climate</th>\n",
       "      <th>weather_climate_desc</th>\n",
       "    </tr>\n",
       "  </thead>\n",
       "  <tbody>\n",
       "    <tr>\n",
       "      <th>0</th>\n",
       "      <td>New York</td>\n",
       "      <td>22</td>\n",
       "      <td>sunny</td>\n",
       "      <td>temperate</td>\n",
       "      <td>Weather is sunny and Climate is temperate</td>\n",
       "    </tr>\n",
       "    <tr>\n",
       "      <th>1</th>\n",
       "      <td>Los Angeles</td>\n",
       "      <td>25</td>\n",
       "      <td>partly cloudy</td>\n",
       "      <td>mediterranean</td>\n",
       "      <td>Weather is partly cloudy and Climate is medite...</td>\n",
       "    </tr>\n",
       "    <tr>\n",
       "      <th>2</th>\n",
       "      <td>Chicago</td>\n",
       "      <td>18</td>\n",
       "      <td>cloudy</td>\n",
       "      <td>continental</td>\n",
       "      <td>Weather is cloudy and Climate is continental</td>\n",
       "    </tr>\n",
       "    <tr>\n",
       "      <th>3</th>\n",
       "      <td>Houston</td>\n",
       "      <td>30</td>\n",
       "      <td>thunderstorms</td>\n",
       "      <td>humid subtropical</td>\n",
       "      <td>Weather is thunderstorms and Climate is humid ...</td>\n",
       "    </tr>\n",
       "    <tr>\n",
       "      <th>4</th>\n",
       "      <td>Phoenix</td>\n",
       "      <td>35</td>\n",
       "      <td>sunny</td>\n",
       "      <td>desert</td>\n",
       "      <td>Weather is sunny and Climate is desert</td>\n",
       "    </tr>\n",
       "    <tr>\n",
       "      <th>5</th>\n",
       "      <td>Toronto</td>\n",
       "      <td>20</td>\n",
       "      <td>partly cloudy</td>\n",
       "      <td>continental</td>\n",
       "      <td>Weather is partly cloudy and Climate is contin...</td>\n",
       "    </tr>\n",
       "    <tr>\n",
       "      <th>6</th>\n",
       "      <td>Warsaw</td>\n",
       "      <td>16</td>\n",
       "      <td>overcast</td>\n",
       "      <td>temperate</td>\n",
       "      <td>Weather is overcast and Climate is temperate</td>\n",
       "    </tr>\n",
       "    <tr>\n",
       "      <th>7</th>\n",
       "      <td>Bangalore</td>\n",
       "      <td>28</td>\n",
       "      <td>rainy</td>\n",
       "      <td>tropical savanna</td>\n",
       "      <td>Weather is rainy and Climate is tropical savanna</td>\n",
       "    </tr>\n",
       "    <tr>\n",
       "      <th>8</th>\n",
       "      <td>London</td>\n",
       "      <td>18</td>\n",
       "      <td>drizzle</td>\n",
       "      <td>temperate maritime</td>\n",
       "      <td>Weather is drizzle and Climate is temperate ma...</td>\n",
       "    </tr>\n",
       "    <tr>\n",
       "      <th>9</th>\n",
       "      <td>Paris</td>\n",
       "      <td>21</td>\n",
       "      <td>partly sunny</td>\n",
       "      <td>temperate</td>\n",
       "      <td>Weather is partly sunny and Climate is temperate</td>\n",
       "    </tr>\n",
       "    <tr>\n",
       "      <th>10</th>\n",
       "      <td>Tokyo</td>\n",
       "      <td>26</td>\n",
       "      <td>clear</td>\n",
       "      <td>humid subtropical</td>\n",
       "      <td>Weather is clear and Climate is humid subtropical</td>\n",
       "    </tr>\n",
       "    <tr>\n",
       "      <th>11</th>\n",
       "      <td>Sydney</td>\n",
       "      <td>22</td>\n",
       "      <td>windy</td>\n",
       "      <td>humid subtropical</td>\n",
       "      <td>Weather is windy and Climate is humid subtropical</td>\n",
       "    </tr>\n",
       "    <tr>\n",
       "      <th>12</th>\n",
       "      <td>Cape Town</td>\n",
       "      <td>19</td>\n",
       "      <td>partly cloudy</td>\n",
       "      <td>mediterranean</td>\n",
       "      <td>Weather is partly cloudy and Climate is medite...</td>\n",
       "    </tr>\n",
       "    <tr>\n",
       "      <th>13</th>\n",
       "      <td>Moscow</td>\n",
       "      <td>15</td>\n",
       "      <td>cloudy</td>\n",
       "      <td>continental</td>\n",
       "      <td>Weather is cloudy and Climate is continental</td>\n",
       "    </tr>\n",
       "    <tr>\n",
       "      <th>14</th>\n",
       "      <td>Rio de Janeiro</td>\n",
       "      <td>29</td>\n",
       "      <td>scattered showers</td>\n",
       "      <td>tropical</td>\n",
       "      <td>Weather is scattered showers and Climate is tr...</td>\n",
       "    </tr>\n",
       "    <tr>\n",
       "      <th>15</th>\n",
       "      <td>Beijing</td>\n",
       "      <td>24</td>\n",
       "      <td>smoggy</td>\n",
       "      <td>continental</td>\n",
       "      <td>Weather is smoggy and Climate is continental</td>\n",
       "    </tr>\n",
       "    <tr>\n",
       "      <th>16</th>\n",
       "      <td>Mumbai</td>\n",
       "      <td>30</td>\n",
       "      <td>humid</td>\n",
       "      <td>tropical monsoon</td>\n",
       "      <td>Weather is humid and Climate is tropical monsoon</td>\n",
       "    </tr>\n",
       "    <tr>\n",
       "      <th>17</th>\n",
       "      <td>Cairo</td>\n",
       "      <td>32</td>\n",
       "      <td>sunny</td>\n",
       "      <td>desert</td>\n",
       "      <td>Weather is sunny and Climate is desert</td>\n",
       "    </tr>\n",
       "    <tr>\n",
       "      <th>18</th>\n",
       "      <td>Buenos Aires</td>\n",
       "      <td>23</td>\n",
       "      <td>clear</td>\n",
       "      <td>humid subtropical</td>\n",
       "      <td>Weather is clear and Climate is humid subtropical</td>\n",
       "    </tr>\n",
       "    <tr>\n",
       "      <th>19</th>\n",
       "      <td>Johannesburg</td>\n",
       "      <td>20</td>\n",
       "      <td>partly sunny</td>\n",
       "      <td>subtropical highland</td>\n",
       "      <td>Weather is partly sunny and Climate is subtrop...</td>\n",
       "    </tr>\n",
       "  </tbody>\n",
       "</table>\n",
       "</div>"
      ],
      "text/plain": [
       "              city  temperature            weather               climate  \\\n",
       "0         New York           22              sunny             temperate   \n",
       "1      Los Angeles           25      partly cloudy         mediterranean   \n",
       "2          Chicago           18             cloudy           continental   \n",
       "3          Houston           30      thunderstorms     humid subtropical   \n",
       "4          Phoenix           35              sunny                desert   \n",
       "5          Toronto           20      partly cloudy           continental   \n",
       "6           Warsaw           16           overcast             temperate   \n",
       "7        Bangalore           28              rainy      tropical savanna   \n",
       "8           London           18            drizzle    temperate maritime   \n",
       "9            Paris           21       partly sunny             temperate   \n",
       "10           Tokyo           26              clear     humid subtropical   \n",
       "11          Sydney           22              windy     humid subtropical   \n",
       "12       Cape Town           19      partly cloudy         mediterranean   \n",
       "13          Moscow           15             cloudy           continental   \n",
       "14  Rio de Janeiro           29  scattered showers              tropical   \n",
       "15         Beijing           24             smoggy           continental   \n",
       "16          Mumbai           30              humid      tropical monsoon   \n",
       "17           Cairo           32              sunny                desert   \n",
       "18    Buenos Aires           23              clear     humid subtropical   \n",
       "19    Johannesburg           20       partly sunny  subtropical highland   \n",
       "\n",
       "                                 weather_climate_desc  \n",
       "0           Weather is sunny and Climate is temperate  \n",
       "1   Weather is partly cloudy and Climate is medite...  \n",
       "2        Weather is cloudy and Climate is continental  \n",
       "3   Weather is thunderstorms and Climate is humid ...  \n",
       "4              Weather is sunny and Climate is desert  \n",
       "5   Weather is partly cloudy and Climate is contin...  \n",
       "6        Weather is overcast and Climate is temperate  \n",
       "7    Weather is rainy and Climate is tropical savanna  \n",
       "8   Weather is drizzle and Climate is temperate ma...  \n",
       "9    Weather is partly sunny and Climate is temperate  \n",
       "10  Weather is clear and Climate is humid subtropical  \n",
       "11  Weather is windy and Climate is humid subtropical  \n",
       "12  Weather is partly cloudy and Climate is medite...  \n",
       "13       Weather is cloudy and Climate is continental  \n",
       "14  Weather is scattered showers and Climate is tr...  \n",
       "15       Weather is smoggy and Climate is continental  \n",
       "16   Weather is humid and Climate is tropical monsoon  \n",
       "17             Weather is sunny and Climate is desert  \n",
       "18  Weather is clear and Climate is humid subtropical  \n",
       "19  Weather is partly sunny and Climate is subtrop...  "
      ]
     },
     "execution_count": 5,
     "metadata": {},
     "output_type": "execute_result"
    }
   ],
   "source": [
    "data['weather_climate_desc'] = data.apply(lambda row: f\"Weather is {row['weather']} and Climate is {row['climate']}\", axis=1)\n",
    "data"
   ]
  },
  {
   "cell_type": "code",
   "execution_count": null,
   "id": "b30023e6-c46f-4432-9eb9-6c062c741e33",
   "metadata": {},
   "outputs": [],
   "source": []
  },
  {
   "cell_type": "code",
   "execution_count": null,
   "id": "25118723-28b4-445f-980c-80dc97ed6d18",
   "metadata": {},
   "outputs": [],
   "source": []
  },
  {
   "cell_type": "code",
   "execution_count": null,
   "id": "db0572dd-14ad-4595-b726-4a8ed1f2a40f",
   "metadata": {},
   "outputs": [],
   "source": []
  },
  {
   "cell_type": "code",
   "execution_count": 6,
   "id": "912bddaa-2e07-45ec-866d-2eb86230f1e8",
   "metadata": {},
   "outputs": [],
   "source": [
    "docs = []\n",
    "for i, row in data.iterrows():\n",
    "    doc = Document(page_content=row['weather_climate_desc'], metadata={'city': row['city'], 'temperature': row['temperature'],\n",
    "                                                                       'weather': row['weather'], 'climate': row['climate']})\n",
    "    docs.append(doc)"
   ]
  },
  {
   "cell_type": "code",
   "execution_count": 7,
   "id": "27c35e60-7f55-4341-8077-fb83101eff9d",
   "metadata": {},
   "outputs": [
    {
     "data": {
      "text/plain": [
       "[Document(metadata={'city': 'New York', 'temperature': 22, 'weather': 'sunny', 'climate': 'temperate'}, page_content='Weather is sunny and Climate is temperate'),\n",
       " Document(metadata={'city': 'Los Angeles', 'temperature': 25, 'weather': 'partly cloudy', 'climate': 'mediterranean'}, page_content='Weather is partly cloudy and Climate is mediterranean'),\n",
       " Document(metadata={'city': 'Chicago', 'temperature': 18, 'weather': 'cloudy', 'climate': 'continental'}, page_content='Weather is cloudy and Climate is continental'),\n",
       " Document(metadata={'city': 'Houston', 'temperature': 30, 'weather': 'thunderstorms', 'climate': 'humid subtropical'}, page_content='Weather is thunderstorms and Climate is humid subtropical'),\n",
       " Document(metadata={'city': 'Phoenix', 'temperature': 35, 'weather': 'sunny', 'climate': 'desert'}, page_content='Weather is sunny and Climate is desert'),\n",
       " Document(metadata={'city': 'Toronto', 'temperature': 20, 'weather': 'partly cloudy', 'climate': 'continental'}, page_content='Weather is partly cloudy and Climate is continental'),\n",
       " Document(metadata={'city': 'Warsaw', 'temperature': 16, 'weather': 'overcast', 'climate': 'temperate'}, page_content='Weather is overcast and Climate is temperate'),\n",
       " Document(metadata={'city': 'Bangalore', 'temperature': 28, 'weather': 'rainy', 'climate': 'tropical savanna'}, page_content='Weather is rainy and Climate is tropical savanna'),\n",
       " Document(metadata={'city': 'London', 'temperature': 18, 'weather': 'drizzle', 'climate': 'temperate maritime'}, page_content='Weather is drizzle and Climate is temperate maritime'),\n",
       " Document(metadata={'city': 'Paris', 'temperature': 21, 'weather': 'partly sunny', 'climate': 'temperate'}, page_content='Weather is partly sunny and Climate is temperate'),\n",
       " Document(metadata={'city': 'Tokyo', 'temperature': 26, 'weather': 'clear', 'climate': 'humid subtropical'}, page_content='Weather is clear and Climate is humid subtropical'),\n",
       " Document(metadata={'city': 'Sydney', 'temperature': 22, 'weather': 'windy', 'climate': 'humid subtropical'}, page_content='Weather is windy and Climate is humid subtropical'),\n",
       " Document(metadata={'city': 'Cape Town', 'temperature': 19, 'weather': 'partly cloudy', 'climate': 'mediterranean'}, page_content='Weather is partly cloudy and Climate is mediterranean'),\n",
       " Document(metadata={'city': 'Moscow', 'temperature': 15, 'weather': 'cloudy', 'climate': 'continental'}, page_content='Weather is cloudy and Climate is continental'),\n",
       " Document(metadata={'city': 'Rio de Janeiro', 'temperature': 29, 'weather': 'scattered showers', 'climate': 'tropical'}, page_content='Weather is scattered showers and Climate is tropical'),\n",
       " Document(metadata={'city': 'Beijing', 'temperature': 24, 'weather': 'smoggy', 'climate': 'continental'}, page_content='Weather is smoggy and Climate is continental'),\n",
       " Document(metadata={'city': 'Mumbai', 'temperature': 30, 'weather': 'humid', 'climate': 'tropical monsoon'}, page_content='Weather is humid and Climate is tropical monsoon'),\n",
       " Document(metadata={'city': 'Cairo', 'temperature': 32, 'weather': 'sunny', 'climate': 'desert'}, page_content='Weather is sunny and Climate is desert'),\n",
       " Document(metadata={'city': 'Buenos Aires', 'temperature': 23, 'weather': 'clear', 'climate': 'humid subtropical'}, page_content='Weather is clear and Climate is humid subtropical'),\n",
       " Document(metadata={'city': 'Johannesburg', 'temperature': 20, 'weather': 'partly sunny', 'climate': 'subtropical highland'}, page_content='Weather is partly sunny and Climate is subtropical highland')]"
      ]
     },
     "execution_count": 7,
     "metadata": {},
     "output_type": "execute_result"
    }
   ],
   "source": [
    "docs"
   ]
  },
  {
   "cell_type": "code",
   "execution_count": null,
   "id": "1b6068f7-9425-4720-bf93-fa8287e3d31c",
   "metadata": {},
   "outputs": [],
   "source": []
  },
  {
   "cell_type": "code",
   "execution_count": null,
   "id": "9e1f6513-bb7f-4ca1-93c5-c48562a96426",
   "metadata": {},
   "outputs": [],
   "source": []
  },
  {
   "cell_type": "code",
   "execution_count": null,
   "id": "c7605c72-4586-4355-9036-118a453df7c0",
   "metadata": {},
   "outputs": [],
   "source": []
  },
  {
   "cell_type": "code",
   "execution_count": 8,
   "id": "528468fe-82cd-48a3-bb52-01c22f1203b1",
   "metadata": {},
   "outputs": [],
   "source": [
    "class CustomEmbeddingModel:\n",
    "    \n",
    "    def __init__(self, model_name='sentence-transformers/all-MiniLM-L6-v2'):\n",
    "        self.tokenizer = AutoTokenizer.from_pretrained(model_name)\n",
    "        self.model = AutoModel.from_pretrained(model_name)\n",
    "\n",
    "    def embed_text(self, text):\n",
    "        inputs = self.tokenizer(text, return_tensors='pt', padding=True, truncation=True)\n",
    "        with torch.no_grad():\n",
    "            outputs = self.model(**inputs)\n",
    "        return outputs.last_hidden_state.mean(dim=1).squeeze().tolist()\n",
    "    \n",
    "    def embed_query(self, query):\n",
    "        return self.embed_text(query)\n",
    "\n",
    "    def embed_documents(self, documents):\n",
    "        return [self.embed_text(doc) for doc in documents]\n",
    "    \n",
    "embedding_model = CustomEmbeddingModel()"
   ]
  },
  {
   "cell_type": "code",
   "execution_count": 10,
   "id": "d511600a-8e09-48df-80b5-9acbb45f47cf",
   "metadata": {},
   "outputs": [
    {
     "name": "stdout",
     "output_type": "stream",
     "text": [
      "CPU times: user 796 ms, sys: 4.18 ms, total: 801 ms\n",
      "Wall time: 332 ms\n"
     ]
    },
    {
     "data": {
      "text/plain": [
       "<langchain_elasticsearch.vectorstores.ElasticsearchStore at 0x7748ce266e10>"
      ]
     },
     "execution_count": 10,
     "metadata": {},
     "output_type": "execute_result"
    }
   ],
   "source": [
    "%%time\n",
    "\n",
    "ElasticsearchStore.from_documents(docs, embedding_model,\n",
    "                                  index_name=\"weather_rag\", es_url=\"http://localhost:9200\")"
   ]
  },
  {
   "cell_type": "code",
   "execution_count": null,
   "id": "11893a4d-31e0-4102-81f2-30d2d530ab47",
   "metadata": {},
   "outputs": [],
   "source": []
  },
  {
   "cell_type": "code",
   "execution_count": null,
   "id": "98a1d4e1-a406-4fce-aa2b-98600024aa3d",
   "metadata": {},
   "outputs": [],
   "source": []
  },
  {
   "cell_type": "code",
   "execution_count": null,
   "id": "52c2e951-e609-4eec-b2c1-65de4623127d",
   "metadata": {},
   "outputs": [],
   "source": []
  },
  {
   "cell_type": "code",
   "execution_count": null,
   "id": "0547f08b-2d40-491c-8660-42010a7facc3",
   "metadata": {},
   "outputs": [],
   "source": []
  },
  {
   "cell_type": "code",
   "execution_count": null,
   "id": "e5c17a09-cd5e-4354-b54a-bb4b35693330",
   "metadata": {},
   "outputs": [],
   "source": []
  },
  {
   "cell_type": "markdown",
   "id": "3606eee9-330c-4e25-a2dc-09b864c9084e",
   "metadata": {},
   "source": [
    "## Retrieval"
   ]
  },
  {
   "cell_type": "code",
   "execution_count": 9,
   "id": "42c47ca0-0c24-4e95-8ec2-761c5509d0ab",
   "metadata": {
    "scrolled": true
   },
   "outputs": [],
   "source": [
    "# llm = ChatGroq(model=\"llama-3.1-70b-versatile\", temperature=0)\n",
    "llm = ChatGroq(model=\"llama-3.2-90b-text-preview\", temperature=0)\n",
    "# llm = ChatGroq(model=\"llama-3.2-90b-vision-preview\", temperature=0)"
   ]
  },
  {
   "cell_type": "code",
   "execution_count": 10,
   "id": "b1016fb3-dca5-4313-bf8f-33882e34437f",
   "metadata": {},
   "outputs": [],
   "source": [
    "doc_content_info = \"Weather and climate of the city\"\n",
    "\n",
    "metadata_field_info = [\n",
    "    AttributeInfo(name=\"city\", description=\"The name of the city\", type=\"string\"),\n",
    "    AttributeInfo(name=\"temperature\", description=\"The temperature of the city\", type=\"integer\"),\n",
    "    AttributeInfo(name=\"weather\", description=\"The weather of the city\", type=\"string\"),\n",
    "    AttributeInfo(name=\"climate\", description=\"The climate of the city\", type=\"string\")\n",
    "]"
   ]
  },
  {
   "cell_type": "code",
   "execution_count": 11,
   "id": "9d24e9fe-0eda-40f5-b812-cc20d03d42e3",
   "metadata": {},
   "outputs": [],
   "source": [
    "vectorstore = ElasticsearchStore.from_documents([], embedding_model,\n",
    "                                                index_name=\"weather_rag\", es_url=\"http://localhost:9200\")"
   ]
  },
  {
   "cell_type": "code",
   "execution_count": 12,
   "id": "6df884a5-d035-4dfc-bb35-25cefc5b414a",
   "metadata": {
    "scrolled": true
   },
   "outputs": [],
   "source": [
    "retriever = SelfQueryRetriever.from_llm(llm, vectorstore, doc_content_info,\n",
    "                                        metadata_field_info, verbose=True)"
   ]
  },
  {
   "cell_type": "code",
   "execution_count": 13,
   "id": "26cc8316-1e47-4a17-ac7d-ec80989ff745",
   "metadata": {},
   "outputs": [
    {
     "name": "stdout",
     "output_type": "stream",
     "text": [
      "CPU times: user 142 ms, sys: 22.7 ms, total: 165 ms\n",
      "Wall time: 1.67 s\n"
     ]
    },
    {
     "data": {
      "text/plain": [
       "[Document(metadata={'city': 'London', 'temperature': 18, 'weather': 'drizzle', 'climate': 'temperate maritime'}, page_content='Weather is drizzle and Climate is temperate maritime')]"
      ]
     },
     "execution_count": 13,
     "metadata": {},
     "output_type": "execute_result"
    }
   ],
   "source": [
    "%%time\n",
    "response = retriever.invoke(\"What's the temperature in London?\")\n",
    "response"
   ]
  },
  {
   "cell_type": "code",
   "execution_count": 14,
   "id": "a3d3234d-d819-42be-9b0f-2c964c4d77b6",
   "metadata": {
    "scrolled": true
   },
   "outputs": [
    {
     "name": "stdout",
     "output_type": "stream",
     "text": [
      "\n",
      "New York\n",
      "[Document(metadata={'city': 'New York', 'temperature': 22, 'weather': 'sunny', 'climate': 'temperate'}, page_content='Weather is sunny and Climate is temperate')]\n",
      "Time taken: 0.79 sec\n",
      "\n",
      "Los Angeles\n",
      "[Document(metadata={'city': 'Los Angeles', 'temperature': 25, 'weather': 'partly cloudy', 'climate': 'mediterranean'}, page_content='Weather is partly cloudy and Climate is mediterranean')]\n",
      "Time taken: 0.83 sec\n",
      "\n",
      "Chicago\n",
      "[Document(metadata={'city': 'Chicago', 'temperature': 18, 'weather': 'cloudy', 'climate': 'continental'}, page_content='Weather is cloudy and Climate is continental')]\n",
      "Time taken: 0.92 sec\n",
      "\n",
      "Houston\n",
      "[Document(metadata={'city': 'Houston', 'temperature': 30, 'weather': 'thunderstorms', 'climate': 'humid subtropical'}, page_content='Weather is thunderstorms and Climate is humid subtropical')]\n",
      "Time taken: 0.92 sec\n",
      "\n",
      "Phoenix\n",
      "[Document(metadata={'city': 'Phoenix', 'temperature': 35, 'weather': 'sunny', 'climate': 'desert'}, page_content='Weather is sunny and Climate is desert')]\n",
      "Time taken: 0.91 sec\n",
      "\n",
      "Toronto\n",
      "[Document(metadata={'city': 'Toronto', 'temperature': 20, 'weather': 'partly cloudy', 'climate': 'continental'}, page_content='Weather is partly cloudy and Climate is continental')]\n",
      "Time taken: 1.03 sec\n",
      "\n",
      "Warsaw\n",
      "[Document(metadata={'city': 'Warsaw', 'temperature': 16, 'weather': 'overcast', 'climate': 'temperate'}, page_content='Weather is overcast and Climate is temperate')]\n",
      "Time taken: 0.92 sec\n",
      "\n",
      "Bangalore\n",
      "[Document(metadata={'city': 'Bangalore', 'temperature': 28, 'weather': 'rainy', 'climate': 'tropical savanna'}, page_content='Weather is rainy and Climate is tropical savanna')]\n",
      "Time taken: 8.61 sec\n",
      "\n",
      "London\n",
      "[Document(metadata={'city': 'London', 'temperature': 18, 'weather': 'drizzle', 'climate': 'temperate maritime'}, page_content='Weather is drizzle and Climate is temperate maritime')]\n",
      "Time taken: 8.39 sec\n",
      "\n",
      "Paris\n",
      "[Document(metadata={'city': 'Paris', 'temperature': 21, 'weather': 'partly sunny', 'climate': 'temperate'}, page_content='Weather is partly sunny and Climate is temperate')]\n",
      "Time taken: 8.41 sec\n",
      "\n",
      "Tokyo\n",
      "[Document(metadata={'city': 'Tokyo', 'temperature': 26, 'weather': 'clear', 'climate': 'humid subtropical'}, page_content='Weather is clear and Climate is humid subtropical')]\n",
      "Time taken: 8.14 sec\n",
      "\n",
      "Sydney\n",
      "[Document(metadata={'city': 'Sydney', 'temperature': 22, 'weather': 'windy', 'climate': 'humid subtropical'}, page_content='Weather is windy and Climate is humid subtropical')]\n",
      "Time taken: 7.42 sec\n",
      "\n",
      "Cape Town\n",
      "[Document(metadata={'city': 'Cape Town', 'temperature': 19, 'weather': 'partly cloudy', 'climate': 'mediterranean'}, page_content='Weather is partly cloudy and Climate is mediterranean')]\n",
      "Time taken: 8.4 sec\n",
      "\n",
      "Moscow\n",
      "[Document(metadata={'city': 'Moscow', 'temperature': 15, 'weather': 'cloudy', 'climate': 'continental'}, page_content='Weather is cloudy and Climate is continental')]\n",
      "Time taken: 8.9 sec\n",
      "\n",
      "Rio de Janeiro\n",
      "[Document(metadata={'city': 'Rio de Janeiro', 'temperature': 29, 'weather': 'scattered showers', 'climate': 'tropical'}, page_content='Weather is scattered showers and Climate is tropical')]\n",
      "Time taken: 7.38 sec\n",
      "\n",
      "Beijing\n",
      "[Document(metadata={'city': 'Beijing', 'temperature': 24, 'weather': 'smoggy', 'climate': 'continental'}, page_content='Weather is smoggy and Climate is continental')]\n",
      "Time taken: 8.47 sec\n",
      "\n",
      "Mumbai\n",
      "[Document(metadata={'city': 'Mumbai', 'temperature': 30, 'weather': 'humid', 'climate': 'tropical monsoon'}, page_content='Weather is humid and Climate is tropical monsoon')]\n",
      "Time taken: 8.39 sec\n",
      "\n",
      "Cairo\n",
      "[Document(metadata={'city': 'Cairo', 'temperature': 32, 'weather': 'sunny', 'climate': 'desert'}, page_content='Weather is sunny and Climate is desert')]\n",
      "Time taken: 8.17 sec\n",
      "\n",
      "Buenos Aires\n",
      "[Document(metadata={'city': 'Buenos Aires', 'temperature': 23, 'weather': 'clear', 'climate': 'humid subtropical'}, page_content='Weather is clear and Climate is humid subtropical')]\n",
      "Time taken: 8.56 sec\n",
      "\n",
      "Johannesburg\n",
      "[Document(metadata={'city': 'Johannesburg', 'temperature': 20, 'weather': 'partly sunny', 'climate': 'subtropical highland'}, page_content='Weather is partly sunny and Climate is subtropical highland')]\n",
      "Time taken: 7.68 sec\n",
      "CPU times: user 3.15 s, sys: 38.3 ms, total: 3.19 s\n",
      "Wall time: 1min 53s\n"
     ]
    }
   ],
   "source": [
    "%%time\n",
    "\n",
    "for city in data['city']:\n",
    "    print()\n",
    "    print(city)\n",
    "    t1 = time.time()\n",
    "    q = f\"What's the temperature in {city}?\"\n",
    "    response = retriever.invoke(q)\n",
    "    t2 = time.time()\n",
    "    print(response)\n",
    "    print('Time taken:', round(t2-t1, 2), 'sec')"
   ]
  },
  {
   "cell_type": "code",
   "execution_count": 15,
   "id": "68513622-7b9b-490e-805f-c4518d6e6f13",
   "metadata": {},
   "outputs": [
    {
     "name": "stdout",
     "output_type": "stream",
     "text": [
      "CPU times: user 139 ms, sys: 347 μs, total: 139 ms\n",
      "Wall time: 2.57 s\n"
     ]
    },
    {
     "data": {
      "text/plain": [
       "[Document(metadata={'city': 'Johannesburg', 'temperature': 20, 'weather': 'partly sunny', 'climate': 'subtropical highland'}, page_content='Weather is partly sunny and Climate is subtropical highland')]"
      ]
     },
     "execution_count": 15,
     "metadata": {},
     "output_type": "execute_result"
    }
   ],
   "source": [
    "%%time\n",
    "response = retriever.invoke(\"What's the temperature in Johannesburg?\")\n",
    "response"
   ]
  },
  {
   "cell_type": "code",
   "execution_count": 16,
   "id": "fc9150f0-8628-48c5-bbed-89fad5e3b455",
   "metadata": {},
   "outputs": [
    {
     "name": "stdout",
     "output_type": "stream",
     "text": [
      "CPU times: user 136 ms, sys: 1.87 ms, total: 138 ms\n",
      "Wall time: 1.28 s\n"
     ]
    },
    {
     "data": {
      "text/plain": [
       "[]"
      ]
     },
     "execution_count": 16,
     "metadata": {},
     "output_type": "execute_result"
    }
   ],
   "source": [
    "%%time\n",
    "response = retriever.invoke(\"What's the temperature in Fort Worth?\")\n",
    "response"
   ]
  },
  {
   "cell_type": "code",
   "execution_count": null,
   "id": "37dbf838-2288-4b95-8988-3e5f4df2bd3d",
   "metadata": {},
   "outputs": [],
   "source": []
  },
  {
   "cell_type": "code",
   "execution_count": null,
   "id": "33bba4a9-a67e-4875-9a62-e14ef99b9dc6",
   "metadata": {},
   "outputs": [],
   "source": []
  },
  {
   "cell_type": "code",
   "execution_count": null,
   "id": "9e6bbc98-4ad5-4ca9-8464-a6443a505eb7",
   "metadata": {},
   "outputs": [],
   "source": []
  },
  {
   "cell_type": "code",
   "execution_count": null,
   "id": "3ac1d521-ab93-40f4-9eb4-739f45942dac",
   "metadata": {},
   "outputs": [],
   "source": []
  },
  {
   "cell_type": "code",
   "execution_count": null,
   "id": "eab0aa30-5c38-42cd-8679-7a13688bcff2",
   "metadata": {},
   "outputs": [],
   "source": []
  },
  {
   "cell_type": "markdown",
   "id": "9a395fe1-4561-4671-be34-d3186eb671bd",
   "metadata": {},
   "source": [
    "## RAG-Graph Components"
   ]
  },
  {
   "cell_type": "code",
   "execution_count": 17,
   "id": "ac8704f0-6fca-4ee7-9375-8c851223abea",
   "metadata": {},
   "outputs": [],
   "source": [
    "decomposition_system_prompt = \"\"\"\n",
    "You are a helpful assistant that prepares queries that will be sent to a search component.\n",
    "Sometimes, these queries are very complex.\n",
    "Your job is to simplify complex queries into multiple queries that can be answered\n",
    "in isolation to each other. While outputting, just output the decomposed queries separated by '\\n'.\n",
    "\n",
    "If the query is simple, then keep it as it is.\n",
    "Examples\n",
    "1. Query: Did Microsoft or Google make more money last year?\n",
    "   Decomposed Queries: How much profit did Microsoft make last year?\\nHow much profit did Google make last year?\n",
    "2. Query: What is the capital of France?\n",
    "   Decomposed Queries: What is the capital of France?\n",
    "3. Query: What are the names of the top 10 richest people?\n",
    "   Decomposed Queries: What are the names of the top 10 richest people?\n",
    "4. Query: Which cities have sunny weather?\n",
    "   Decomposed Queries: Which cities have sunny weather?\n",
    "\"\"\"\n",
    "\n",
    "decomposition_prompt = ChatPromptTemplate.from_messages(\n",
    "    [(\"system\", decomposition_system_prompt), \n",
    "     (\"human\", \"Here is the initial query: \\n\\n {input} \\n Formulate the simpler decomposed queries.\")])\n",
    "\n",
    "query_decomposer = (decomposition_prompt | llm | StrOutputParser() | (lambda x: x.split(\"\\n\")) \n",
    "                    | (lambda x: [x_i.strip() for x_i in x]))"
   ]
  },
  {
   "cell_type": "code",
   "execution_count": 18,
   "id": "1b9b731c-6b18-4e9a-989a-c13425d43f7b",
   "metadata": {},
   "outputs": [
    {
     "data": {
      "text/plain": [
       "[\"What's the temperature in London?\"]"
      ]
     },
     "execution_count": 18,
     "metadata": {},
     "output_type": "execute_result"
    }
   ],
   "source": [
    "question = \"What's the temperature in London?\"\n",
    "queries = query_decomposer.invoke({\"input\": question})\n",
    "queries"
   ]
  },
  {
   "cell_type": "code",
   "execution_count": 19,
   "id": "309382dd-2af6-4220-9f01-4352cc0e84cf",
   "metadata": {},
   "outputs": [
    {
     "data": {
      "text/plain": [
       "['What is the average temperature in Paris?',\n",
       " 'What is the average temperature in New York?',\n",
       " 'What is the average temperature in Warsaw?']"
      ]
     },
     "execution_count": 19,
     "metadata": {},
     "output_type": "execute_result"
    }
   ],
   "source": [
    "question = \"Where is it hottest among Paris, New York, and Warsaw?\"\n",
    "queries = query_decomposer.invoke({\"input\": question})\n",
    "queries"
   ]
  },
  {
   "cell_type": "code",
   "execution_count": null,
   "id": "bc5c580c-23e6-4b33-9823-036f6a73b1b1",
   "metadata": {},
   "outputs": [],
   "source": []
  },
  {
   "cell_type": "code",
   "execution_count": null,
   "id": "3cb3e50e-6894-4992-8722-e066cc37120e",
   "metadata": {},
   "outputs": [],
   "source": []
  },
  {
   "cell_type": "code",
   "execution_count": null,
   "id": "87579184-2a28-4b49-9053-8de24e5133d0",
   "metadata": {},
   "outputs": [],
   "source": []
  },
  {
   "cell_type": "code",
   "execution_count": 20,
   "id": "75ec87ee-a2db-4efc-b2c3-8f09876aacb5",
   "metadata": {},
   "outputs": [],
   "source": [
    "def format_docs(docs):\n",
    "    formatted_docs = []\n",
    "    for i, doc in enumerate(docs):\n",
    "        content = doc.page_content\n",
    "        if doc.metadata.get(\"temperature\"):\n",
    "            doc.metadata.update({\"temperature\": f\"{doc.metadata[\"temperature\"]}°C\"})\n",
    "        metadata = \"\\n\".join([f\"{key}: {value}\" for key, value in doc.metadata.items()])\n",
    "        formatted_docs.append(f\"Context {i+1}:-\\nContent: {content}\\nMetadata: {metadata}\")\n",
    "        \n",
    "    res = \"\\n\\n\".join(doc for doc in formatted_docs)\n",
    "    return res"
   ]
  },
  {
   "cell_type": "code",
   "execution_count": 21,
   "id": "45a697ff-e941-4d0e-ac6d-11e845ea191c",
   "metadata": {},
   "outputs": [],
   "source": [
    "# Data model\n",
    "class GradeDocuments(BaseModel):\n",
    "    \"\"\"Binary score for relevance check on retrieved documents.\"\"\"\n",
    "    binary_score: str = Field(description=\"Documents are relevant to the question - 'yes' or 'no'\")\n",
    "\n",
    "structured_llm_grader = llm.with_structured_output(GradeDocuments)"
   ]
  },
  {
   "cell_type": "code",
   "execution_count": 22,
   "id": "bddd6be8-e43f-4829-932c-d71068d9f27a",
   "metadata": {},
   "outputs": [],
   "source": [
    "grader_system_prompt = \"\"\"You are a grader assessing relevance of a retrieved document to a user question. \\n \n",
    "    If the document contains keyword(s) or semantic meaning related to the question, grade it as relevant. \\n\n",
    "    Be slightly generous. Give a binary score 'yes' or 'no' score to indicate whether the document is relevant to the question.\"\"\"\n",
    "\n",
    "grade_prompt = ChatPromptTemplate.from_messages(\n",
    "    [(\"system\", grader_system_prompt),\n",
    "     (\"human\", \"Retrieved document: \\n\\n {document} \\n\\n User question: {input}\")])\n",
    "\n",
    "retrieval_grader = grade_prompt | structured_llm_grader"
   ]
  },
  {
   "cell_type": "code",
   "execution_count": 23,
   "id": "87ee200c-3385-45f4-b2d9-0bb507c4a1a2",
   "metadata": {},
   "outputs": [
    {
     "name": "stderr",
     "output_type": "stream",
     "text": [
      "/tmp/ipykernel_35333/635362467.py:2: LangChainDeprecationWarning: The method `BaseRetriever.get_relevant_documents` was deprecated in langchain-core 0.1.46 and will be removed in 1.0. Use :meth:`~invoke` instead.\n",
      "  docs = retriever.get_relevant_documents(question)\n"
     ]
    },
    {
     "name": "stdout",
     "output_type": "stream",
     "text": [
      "binary_score='yes'\n"
     ]
    }
   ],
   "source": [
    "question = \"What's the temperature in Johannesburg?\"\n",
    "docs = retriever.get_relevant_documents(question)\n",
    "print(retrieval_grader.invoke({\"input\": question, \"document\": format_docs(docs)}))"
   ]
  },
  {
   "cell_type": "code",
   "execution_count": 24,
   "id": "49e15edd-7f07-4547-8ce1-13f6f9b67466",
   "metadata": {},
   "outputs": [
    {
     "name": "stdout",
     "output_type": "stream",
     "text": [
      "binary_score='no'\n"
     ]
    }
   ],
   "source": [
    "question = \"What's the temperature in Fort Worth?\"\n",
    "docs = retriever.get_relevant_documents(question)\n",
    "print(retrieval_grader.invoke({\"input\": question, \"document\": format_docs(docs)}))"
   ]
  },
  {
   "cell_type": "code",
   "execution_count": null,
   "id": "0c99cb5c-d972-424b-b4e7-8a92ec8cf1e7",
   "metadata": {},
   "outputs": [],
   "source": []
  },
  {
   "cell_type": "code",
   "execution_count": null,
   "id": "b8a9bc18-aeca-4ab7-b802-b1b46a7060c7",
   "metadata": {},
   "outputs": [],
   "source": []
  },
  {
   "cell_type": "code",
   "execution_count": null,
   "id": "bff03a62-66b0-4775-ab1f-46fe0182fc63",
   "metadata": {},
   "outputs": [],
   "source": []
  },
  {
   "cell_type": "code",
   "execution_count": 25,
   "id": "dc684a71-9552-454f-86d8-8e3d835e4dba",
   "metadata": {
    "scrolled": true
   },
   "outputs": [],
   "source": [
    "web_search_tool = TavilySearchResults(max_results=5, include_answer=True)"
   ]
  },
  {
   "cell_type": "code",
   "execution_count": 26,
   "id": "22d14d16-b145-41aa-a440-c9828ff72bd9",
   "metadata": {},
   "outputs": [
    {
     "name": "stdout",
     "output_type": "stream",
     "text": [
      "Current temperature in Fort Worth, Texas today\n"
     ]
    }
   ],
   "source": [
    "rewrite_system_prompt = \"\"\"You are a question re-writer that converts an input question to a better version that is optimized \\n \n",
    "     for web search. Look at the input and try to reason about the underlying semantic intent / meaning. While outputting, just output the improved query\"\"\"\n",
    "\n",
    "rewrite_prompt = ChatPromptTemplate.from_messages(\n",
    "    [(\"system\", rewrite_system_prompt),\n",
    "     (\"human\", \"Here is the initial question: \\n\\n {input} \\n Formulate an improved question.\")])\n",
    "\n",
    "query_rewriter_for_search = rewrite_prompt | llm | StrOutputParser()\n",
    "\n",
    "question = \"What's the temperature in Fort Worth?\"\n",
    "question_modified = query_rewriter_for_search.invoke({\"input\": question})\n",
    "print(question_modified)"
   ]
  },
  {
   "cell_type": "code",
   "execution_count": 27,
   "id": "bcbc029b-60c1-474e-af7b-6cc2945a172c",
   "metadata": {},
   "outputs": [],
   "source": [
    "docs = web_search_tool.invoke({\"query\": question})\n",
    "web_results = \"\\n\".join([d[\"content\"] for d in docs])\n",
    "web_results = Document(page_content=web_results)\n",
    "# documents.append(web_results)"
   ]
  },
  {
   "cell_type": "code",
   "execution_count": 28,
   "id": "55ba2909-ce22-4648-b0a9-df7c8ddc70d2",
   "metadata": {},
   "outputs": [
    {
     "data": {
      "text/plain": [
       "Document(metadata={}, page_content=\"NWS Fort Worth/Dallas. Hot and Dry October! A Flood Watch is in effect through 12 pm Sunday for a few of our Red River counties. A complex of thunderstorms will bring heavy rainfall tonight through Sunday morning. Average rainfall totals will be between 2 to 3 inches, with isolated amounts near 4 to 5 inches in the watch area.\\nToday's and tonight's Fort Worth, TX weather forecast, weather conditions and Doppler radar from The Weather Channel and Weather.com\\nCurrent weather in Fort Worth, TX. Check current conditions in Fort Worth, TX with radar, hourly, and more.\\nWeather Today for Fort Worth, TX | AccuWeather ### Hurricane Tracker### Severe Weather### Radar & Maps### News### Video### Winter Center 1 hour ago Severe Weather Severe storms to rattle central US this weekend through Election Day 1 hour ago Astronomy November touts 3 meteor showers, final supermoon of 2024 1 day ago Weather News When will daylight saving time end for good? 20 hours ago Astronomy Rover captures peculiar ‘googly eye’ in the Martian sky 21 hours ago Weather News Spain hit by deadliest floods in decades 1 day ago Weather News CDC confirms onions caused McDonald's E. AccuWeather Ready Business Health Hurricane Leisure and Recreation Severe Weather Space and Astronomy Sports Travel Weather News Winter Center AccuWeather Ready Business Health Hurricane Leisure and Recreation Severe Weather Space and Astronomy Sports Travel Weather News Winter Center\\nFort Worth, TX Weather Forecast, with current conditions, wind, air quality, and what to expect for the next 3 days.\")"
      ]
     },
     "execution_count": 28,
     "metadata": {},
     "output_type": "execute_result"
    }
   ],
   "source": [
    "web_results"
   ]
  },
  {
   "cell_type": "code",
   "execution_count": null,
   "id": "000ec037-b53f-429e-96c1-de4d4d113787",
   "metadata": {},
   "outputs": [],
   "source": []
  },
  {
   "cell_type": "code",
   "execution_count": null,
   "id": "ff11e2c3-6f64-4e08-a67f-d9bd0f2657fc",
   "metadata": {},
   "outputs": [],
   "source": []
  },
  {
   "cell_type": "code",
   "execution_count": null,
   "id": "533f2e7d-be43-4026-9d40-373ed834bf46",
   "metadata": {},
   "outputs": [],
   "source": []
  },
  {
   "cell_type": "code",
   "execution_count": 29,
   "id": "d4804bdb-8830-4a56-afb1-86bd7bf15f80",
   "metadata": {},
   "outputs": [],
   "source": [
    "### Answer Grader\n",
    "# Data model\n",
    "class GradeAnswer(BaseModel):\n",
    "    \"\"\"Binary score to assess answer addresses question.\"\"\"\n",
    "    binary_score: str = Field(description=\"Answer addresses the question - 'yes' or 'no'\")\n",
    "\n",
    "structured_llm_grader = llm.with_structured_output(GradeAnswer)"
   ]
  },
  {
   "cell_type": "code",
   "execution_count": 30,
   "id": "6c05b22c-3327-43e8-a2a3-dd927fa9e304",
   "metadata": {},
   "outputs": [],
   "source": [
    "answer_grader_system_prompt = \"\"\"You are a grader assessing whether an answer addresses / resolves a question \\n \n",
    "     Be a generous grader. Give a binary score 'yes' or 'no'. Yes' means that the answer resolves the question.\"\"\"\n",
    "\n",
    "answer_prompt = ChatPromptTemplate.from_messages(\n",
    "    [(\"system\", answer_grader_system_prompt),\n",
    "     (\"human\", \"User question: \\n\\n {input} \\n\\n LLM generation: {generation}\")])\n",
    "\n",
    "answer_grader = answer_prompt | structured_llm_grader"
   ]
  },
  {
   "cell_type": "code",
   "execution_count": 31,
   "id": "9c225681-7296-42df-9a0c-328334f5301c",
   "metadata": {},
   "outputs": [
    {
     "name": "stdout",
     "output_type": "stream",
     "text": [
      "binary_score='yes'\n"
     ]
    }
   ],
   "source": [
    "question = \"What's the temperature in Fort Worth?\"\n",
    "generation = \"The current temperature in Fort Worth, Texas is not provided in the given context. However,\\\n",
    "it does provide the low and high temperatures for the day. The low temperature overnight is 61°F and the high temperature for Thursday is 76°F.\"\n",
    "print(answer_grader.invoke({\"input\": question, \"generation\": generation}))"
   ]
  },
  {
   "cell_type": "code",
   "execution_count": 32,
   "id": "93213675-4f53-4bdd-a387-41e45c2e1e01",
   "metadata": {},
   "outputs": [
    {
     "name": "stdout",
     "output_type": "stream",
     "text": [
      "binary_score='no'\n"
     ]
    }
   ],
   "source": [
    "question = \"What's the temperature in Fort Worth?\"\n",
    "generation = \"The current temperature in Fort Worth, Texas is not provided in the given context.\"\n",
    "print(answer_grader.invoke({\"input\": question, \"generation\": generation}))"
   ]
  },
  {
   "cell_type": "code",
   "execution_count": null,
   "id": "bd7ac84c-14e6-4ed0-8e70-31bdedce79cb",
   "metadata": {},
   "outputs": [],
   "source": []
  },
  {
   "cell_type": "code",
   "execution_count": null,
   "id": "acdbdf91-c22a-481b-978f-b9e308e03e0a",
   "metadata": {},
   "outputs": [],
   "source": []
  },
  {
   "cell_type": "code",
   "execution_count": null,
   "id": "7afd53d4-8c18-47a4-8d71-7ec96a8701ec",
   "metadata": {},
   "outputs": [],
   "source": []
  },
  {
   "cell_type": "code",
   "execution_count": 33,
   "id": "a97a175d-957a-4454-ac8f-7929e16bd58c",
   "metadata": {},
   "outputs": [],
   "source": [
    "rewrite_system_prompt = \"\"\"You are a question re-writer that converts an input question to a better version that is optimized \\n \n",
    "     for vectorstore retrieval and highly context-rich. Look at the input and try to reason about the underlying semantic intent / meaning. \\n\n",
    "     While outputting, just output the improved query\"\"\"\n",
    "\n",
    "rewrite_prompt = ChatPromptTemplate.from_messages(\n",
    "    [(\"system\", rewrite_system_prompt),\n",
    "     (\"human\", \"Here is the initial question: \\n\\n {input} \\n Formulate an improved question.\")])\n",
    "\n",
    "query_rewriter = rewrite_prompt | llm | StrOutputParser()"
   ]
  },
  {
   "cell_type": "code",
   "execution_count": 34,
   "id": "a8867330-d639-4031-9650-1d80187dbc65",
   "metadata": {},
   "outputs": [
    {
     "name": "stdout",
     "output_type": "stream",
     "text": [
      "What is the current temperature in Fort Worth, Texas, USA?\n"
     ]
    }
   ],
   "source": [
    "question = \"What's the temperature in Fort Worth?\"\n",
    "question_modified = query_rewriter.invoke({\"input\": question})\n",
    "print(question_modified)"
   ]
  },
  {
   "cell_type": "code",
   "execution_count": null,
   "id": "06e08cf0-e26d-43ab-b43a-5099bab0992e",
   "metadata": {},
   "outputs": [],
   "source": []
  },
  {
   "cell_type": "code",
   "execution_count": null,
   "id": "3d1d005e-73f5-4956-b955-f149a6b673b4",
   "metadata": {},
   "outputs": [],
   "source": []
  },
  {
   "cell_type": "code",
   "execution_count": null,
   "id": "7c0c1e08-7ff3-442d-8b21-236e1c13985a",
   "metadata": {},
   "outputs": [],
   "source": []
  },
  {
   "cell_type": "code",
   "execution_count": 35,
   "id": "57cc3882-de77-4336-881e-558ea4139b71",
   "metadata": {},
   "outputs": [],
   "source": [
    "conversational_flow_prompt = \"\"\"You are an AI coversational assistant. Given chat_history, \\\n",
    "user query and candidate answer, check if the candidate answer is able to maintain the conversational flow. \\\n",
    "If YES, return the answer as it is. \\\n",
    "If NO, rephrase the candidate answer to more suit the query and the chat_history such that the conversation \\\n",
    "seems more fluid and natural. Also, ensure that the rephrased answer is more independent \\\n",
    "and does not include references to the past history. \\\n",
    "DO NOT add anything new in the answer, just return it as it is or rephrase it to align \\\n",
    "more with the conversation if needed. While outputting, just output the actual/rephrased answer.\n",
    "\n",
    "Chat History: {chat_history}\n",
    "User Query: {input}\n",
    "Candidate Answer: {candidate_answer}\n",
    "Answer:\n",
    "\"\"\"\n",
    "\n",
    "conversational_flow_prompt = ChatPromptTemplate.from_template(conversational_flow_prompt)\n",
    "\n",
    "conversation_aligner = conversational_flow_prompt | llm | StrOutputParser()"
   ]
  },
  {
   "cell_type": "code",
   "execution_count": 36,
   "id": "6f591ddb-c13e-4080-a9a2-058f72cd791f",
   "metadata": {},
   "outputs": [
    {
     "data": {
      "text/plain": [
       "'New York is the hottest among the given options with an average temperature of 22°C.'"
      ]
     },
     "execution_count": 36,
     "metadata": {},
     "output_type": "execute_result"
    }
   ],
   "source": [
    "chat_history = [\"What's the temperature in London?\",\n",
    "                'The temperature in London is 18°C.',\n",
    "                \"What's the temperature in Fort Worth?\",\n",
    "                'The temperature in Fort Worth is 75.0°F (23.9°C).',\n",
    "                'Which cities have temperate climate?',\n",
    "                'Cities with a temperate climate include Paris, New York, and Warsaw.']\n",
    "\n",
    "input = 'Where is it hottest?',\n",
    "candidate_answer = 'Based on the given context, the hottest place among the given options is New York with an average temperature of 22°C.'\n",
    "\n",
    "conversation_aligner.invoke({\"input\": input, \"chat_history\": chat_history, \"candidate_answer\": candidate_answer})"
   ]
  },
  {
   "cell_type": "code",
   "execution_count": null,
   "id": "3b2d0258-99b4-4b31-a1af-54500cb76c75",
   "metadata": {},
   "outputs": [],
   "source": []
  },
  {
   "cell_type": "code",
   "execution_count": null,
   "id": "e71a1eec-c83b-4ee3-a20b-6c6c1b0fccc2",
   "metadata": {},
   "outputs": [],
   "source": []
  },
  {
   "cell_type": "code",
   "execution_count": null,
   "id": "c0646fbd-04c6-4196-be28-2958f2a33a64",
   "metadata": {},
   "outputs": [],
   "source": []
  },
  {
   "cell_type": "code",
   "execution_count": 37,
   "id": "2d03650d-e37a-4c1b-a91d-69156d2f2772",
   "metadata": {},
   "outputs": [],
   "source": [
    "contextualize_q_prompt = \"\"\"You are a query reformulator who, given a chat history and \\\n",
    "the latest user query, first thinks and checks \\\n",
    "if the user query doen't contain any references to past history and hence can be answered as an independent query. \\\n",
    "If YES, just return it as it is. \\\n",
    "If NO, reformulate it into a standalone query with the coreferences \\\n",
    "resolved, such that it can be understood without the chat history. \\\n",
    "DO NOT answer the query, just return it as is or reformulate it into standalone query if needed. \\\n",
    "While outputting, just output the actual/reformulated query.\n",
    "\n",
    "Chat History: {chat_history}\n",
    "User Query: {input}\n",
    "Reformulated Query:\n",
    "\"\"\"\n",
    "\n",
    "contextualize_q_prompt = ChatPromptTemplate.from_template(contextualize_q_prompt)\n",
    "\n",
    "history_aware_query_reformulator = contextualize_q_prompt | llm | StrOutputParser()"
   ]
  },
  {
   "cell_type": "code",
   "execution_count": 38,
   "id": "f2e7e3ff-ddc8-4417-b813-105ca3c74acb",
   "metadata": {},
   "outputs": [
    {
     "data": {
      "text/plain": [
       "'Where is it raining?'"
      ]
     },
     "execution_count": 38,
     "metadata": {},
     "output_type": "execute_result"
    }
   ],
   "source": [
    "chat_history = [\"What's the temperature in London?\",\n",
    "                'The temperature in London is 18°C.',\n",
    "                \"What's the temperature in Fort Worth?\",\n",
    "                'The temperature in Fort Worth is 75.0°F (23.9°C).',\n",
    "                'Which cities have temperate climate?',\n",
    "                'Cities with a temperate climate include Paris, New York, and Warsaw.',\n",
    "                'Where is it hottest?',\n",
    "                'New York is the hottest among the mentioned cities, with a current temperature of 22°C.']\n",
    "\n",
    "query = \"Where is it raining?\"\n",
    "history_aware_query_reformulator.invoke({\"input\": query, \"chat_history\": chat_history})"
   ]
  },
  {
   "cell_type": "code",
   "execution_count": null,
   "id": "e74663dc-3ef9-42fa-a0ba-3208bcc9dd33",
   "metadata": {},
   "outputs": [],
   "source": []
  },
  {
   "cell_type": "code",
   "execution_count": null,
   "id": "b2b33c15-d009-40f0-a07d-f4fd5856465b",
   "metadata": {},
   "outputs": [],
   "source": []
  },
  {
   "cell_type": "code",
   "execution_count": null,
   "id": "b007017c-5fa6-4a6d-92e1-aa340d01cf8e",
   "metadata": {},
   "outputs": [],
   "source": []
  },
  {
   "cell_type": "code",
   "execution_count": null,
   "id": "d9529169-581d-4c23-b39e-1d1d4ffa8dbc",
   "metadata": {},
   "outputs": [],
   "source": []
  },
  {
   "cell_type": "code",
   "execution_count": null,
   "id": "8826b633-e4fe-4180-9fe0-45b356ed5543",
   "metadata": {},
   "outputs": [],
   "source": []
  },
  {
   "cell_type": "markdown",
   "id": "7054bd71-a0e9-4158-9192-8143f5f191e8",
   "metadata": {},
   "source": [
    "## Generation"
   ]
  },
  {
   "cell_type": "code",
   "execution_count": 39,
   "id": "70c26b3c-d74e-4e88-8de9-a7d33f6c65c3",
   "metadata": {},
   "outputs": [
    {
     "name": "stdout",
     "output_type": "stream",
     "text": [
      "prompt=PromptTemplate(input_variables=['context', 'question'], input_types={}, partial_variables={}, template=\"Answer the question based only on the following context. Don't try to make up an answer.\\n{context}\\n\\nQuestion: {question}\\n\") additional_kwargs={}\n"
     ]
    }
   ],
   "source": [
    "template = \"\"\"Answer the question based only on the following context. Don't try to make up an answer.\n",
    "{context}\n",
    "\n",
    "Question: {question}\n",
    "\"\"\"\n",
    "\n",
    "prompt = ChatPromptTemplate(messages=[template])\n",
    "print(prompt.messages[0])"
   ]
  },
  {
   "cell_type": "code",
   "execution_count": 40,
   "id": "3b2708fa-0fb9-45fc-87c4-81b6f03e5843",
   "metadata": {},
   "outputs": [],
   "source": [
    "def format_docs(docs):\n",
    "    formatted_docs = []\n",
    "    for i, doc in enumerate(docs):\n",
    "        content = doc.page_content\n",
    "        doc.metadata.update({\"temperature\": f\"{doc.metadata[\"temperature\"]}°C\"})\n",
    "        metadata = \"\\n\".join([f\"{key}: {value}\" for key, value in doc.metadata.items()])\n",
    "        formatted_docs.append(f\"Context {i+1}:-\\nContent: {content}\\nMetadata: {metadata}\")\n",
    "        \n",
    "    res = \"\\n\\n\".join(doc for doc in formatted_docs)\n",
    "    return res"
   ]
  },
  {
   "cell_type": "code",
   "execution_count": 41,
   "id": "ba03d581-c4c7-47e9-a104-a107e2eac785",
   "metadata": {},
   "outputs": [],
   "source": [
    "rag_chain = (\n",
    "    {\"context\": retriever | format_docs, \"question\": RunnablePassthrough()}\n",
    "    | prompt\n",
    "    | llm\n",
    "    | StrOutputParser()\n",
    ")"
   ]
  },
  {
   "cell_type": "code",
   "execution_count": 42,
   "id": "6874d804-90f0-4ac5-97ad-9ac88ed727d1",
   "metadata": {},
   "outputs": [
    {
     "name": "stdout",
     "output_type": "stream",
     "text": [
      "CPU times: user 105 ms, sys: 2.18 ms, total: 107 ms\n",
      "Wall time: 1.7 s\n"
     ]
    },
    {
     "data": {
      "text/plain": [
       "'The temperature in London is 18°C.'"
      ]
     },
     "execution_count": 42,
     "metadata": {},
     "output_type": "execute_result"
    }
   ],
   "source": [
    "%%time\n",
    "\n",
    "result = rag_chain.invoke(\"What's the temperature in London?\")\n",
    "result"
   ]
  },
  {
   "cell_type": "code",
   "execution_count": null,
   "id": "ebb771e2-055e-40d3-afea-3450c9fc6dd3",
   "metadata": {},
   "outputs": [],
   "source": []
  },
  {
   "cell_type": "code",
   "execution_count": null,
   "id": "92fecd4e-3ec5-415e-b8be-1c2ab488142d",
   "metadata": {},
   "outputs": [],
   "source": []
  },
  {
   "cell_type": "code",
   "execution_count": null,
   "id": "9d5c4ea6-fc6c-483b-a090-1f586c5bbb0d",
   "metadata": {},
   "outputs": [],
   "source": []
  },
  {
   "cell_type": "code",
   "execution_count": 43,
   "id": "0ce85c9e-1f8d-4641-a24f-04b41209f2e0",
   "metadata": {},
   "outputs": [],
   "source": [
    "rag_chain_from_docs = (\n",
    "    RunnablePassthrough.assign(context=(lambda x: format_docs(x[\"context\"])))\n",
    "    | prompt\n",
    "    | llm\n",
    "    | StrOutputParser()\n",
    ")\n",
    "\n",
    "rag_chain_with_source = RunnableParallel({\"context\": retriever,\n",
    "                                          \"question\": RunnablePassthrough()}\n",
    "                                        ).assign(answer=rag_chain_from_docs)"
   ]
  },
  {
   "cell_type": "code",
   "execution_count": 44,
   "id": "67905756-2f89-48db-940f-1563dd35856c",
   "metadata": {},
   "outputs": [
    {
     "name": "stdout",
     "output_type": "stream",
     "text": [
      "CPU times: user 91.3 ms, sys: 2.15 ms, total: 93.5 ms\n",
      "Wall time: 1.52 s\n"
     ]
    },
    {
     "data": {
      "text/plain": [
       "{'context': [Document(metadata={'city': 'London', 'temperature': '18°C', 'weather': 'drizzle', 'climate': 'temperate maritime'}, page_content='Weather is drizzle and Climate is temperate maritime')],\n",
       " 'question': \"What's the temperature in London?\",\n",
       " 'answer': 'The temperature in London is 18°C.'}"
      ]
     },
     "execution_count": 44,
     "metadata": {},
     "output_type": "execute_result"
    }
   ],
   "source": [
    "%%time\n",
    "\n",
    "result = rag_chain_with_source.invoke(\"What's the temperature in London?\")\n",
    "result"
   ]
  },
  {
   "cell_type": "code",
   "execution_count": 45,
   "id": "add63f2c-4db7-41d7-a773-1cc85292256e",
   "metadata": {},
   "outputs": [
    {
     "name": "stdout",
     "output_type": "stream",
     "text": [
      "CPU times: user 110 ms, sys: 1.95 ms, total: 112 ms\n",
      "Wall time: 1.94 s\n"
     ]
    },
    {
     "data": {
      "text/plain": [
       "{'context': [],\n",
       " 'question': \"What's the temperature in Fort Worth?\",\n",
       " 'answer': \"I don't have any information about the temperature in Fort Worth.\"}"
      ]
     },
     "execution_count": 45,
     "metadata": {},
     "output_type": "execute_result"
    }
   ],
   "source": [
    "%%time\n",
    "\n",
    "result = rag_chain_with_source.invoke(\"What's the temperature in Fort Worth?\")\n",
    "result"
   ]
  },
  {
   "cell_type": "code",
   "execution_count": 46,
   "id": "f9f3243d-0233-420d-bb05-5dc5c307d481",
   "metadata": {},
   "outputs": [
    {
     "name": "stdout",
     "output_type": "stream",
     "text": [
      "CPU times: user 89.6 ms, sys: 5.02 ms, total: 94.7 ms\n",
      "Wall time: 1.53 s\n"
     ]
    },
    {
     "data": {
      "text/plain": [
       "{'context': [Document(metadata={'city': 'Paris', 'temperature': '21°C', 'weather': 'partly sunny', 'climate': 'temperate'}, page_content='Weather is partly sunny and Climate is temperate'),\n",
       "  Document(metadata={'city': 'New York', 'temperature': '22°C', 'weather': 'sunny', 'climate': 'temperate'}, page_content='Weather is sunny and Climate is temperate'),\n",
       "  Document(metadata={'city': 'Warsaw', 'temperature': '16°C', 'weather': 'overcast', 'climate': 'temperate'}, page_content='Weather is overcast and Climate is temperate')],\n",
       " 'question': 'Which cities have temperate climate?',\n",
       " 'answer': 'Based on the given context, the cities with a temperate climate are:\\n\\n1. Paris\\n2. New York\\n3. Warsaw'}"
      ]
     },
     "execution_count": 46,
     "metadata": {},
     "output_type": "execute_result"
    }
   ],
   "source": [
    "%%time\n",
    "\n",
    "result = rag_chain_with_source.invoke(\"Which cities have temperate climate?\")\n",
    "result"
   ]
  },
  {
   "cell_type": "code",
   "execution_count": 47,
   "id": "d7330050-93aa-4ad1-bcfe-64d20ec6ec4c",
   "metadata": {},
   "outputs": [
    {
     "name": "stdout",
     "output_type": "stream",
     "text": [
      "Based on the given context, the cities with a temperate climate are:\n",
      "\n",
      "1. Paris\n",
      "2. New York\n",
      "3. Warsaw\n"
     ]
    }
   ],
   "source": [
    "print(result['answer'])"
   ]
  },
  {
   "cell_type": "code",
   "execution_count": 48,
   "id": "915fb8b8-dd5a-470c-aa8a-6db6a17bb31a",
   "metadata": {},
   "outputs": [
    {
     "name": "stdout",
     "output_type": "stream",
     "text": [
      "CPU times: user 98.8 ms, sys: 1.36 ms, total: 100 ms\n",
      "Wall time: 1.62 s\n"
     ]
    },
    {
     "data": {
      "text/plain": [
       "{'context': [Document(metadata={'city': 'Beijing', 'temperature': '24°C', 'weather': 'smoggy', 'climate': 'continental'}, page_content='Weather is smoggy and Climate is continental'),\n",
       "  Document(metadata={'city': 'Rio de Janeiro', 'temperature': '29°C', 'weather': 'scattered showers', 'climate': 'tropical'}, page_content='Weather is scattered showers and Climate is tropical'),\n",
       "  Document(metadata={'city': 'Johannesburg', 'temperature': '20°C', 'weather': 'partly sunny', 'climate': 'subtropical highland'}, page_content='Weather is partly sunny and Climate is subtropical highland'),\n",
       "  Document(metadata={'city': 'Bangalore', 'temperature': '28°C', 'weather': 'rainy', 'climate': 'tropical savanna'}, page_content='Weather is rainy and Climate is tropical savanna')],\n",
       " 'question': 'Where is it hottest?',\n",
       " 'answer': 'Based on the given context, it is hottest in Rio de Janeiro with a temperature of 29°C.'}"
      ]
     },
     "execution_count": 48,
     "metadata": {},
     "output_type": "execute_result"
    }
   ],
   "source": [
    "%%time\n",
    "\n",
    "result = rag_chain_with_source.invoke(\"Where is it hottest?\")\n",
    "result"
   ]
  },
  {
   "cell_type": "code",
   "execution_count": null,
   "id": "3401197e-1c8e-46e1-aef6-b1c128441a09",
   "metadata": {},
   "outputs": [],
   "source": []
  },
  {
   "cell_type": "code",
   "execution_count": null,
   "id": "8734121b-9061-4276-be88-3289ae674dab",
   "metadata": {},
   "outputs": [],
   "source": []
  },
  {
   "cell_type": "code",
   "execution_count": null,
   "id": "2f2d5a08-4909-482a-85b1-d89bf8b61798",
   "metadata": {},
   "outputs": [],
   "source": []
  },
  {
   "cell_type": "code",
   "execution_count": null,
   "id": "d74ca2b7-6fdc-4d2f-ad99-17c10b880c48",
   "metadata": {},
   "outputs": [],
   "source": []
  },
  {
   "cell_type": "code",
   "execution_count": null,
   "id": "3deb239d-8d1a-4343-9cc6-f5d9790fdad8",
   "metadata": {},
   "outputs": [],
   "source": []
  },
  {
   "cell_type": "markdown",
   "id": "6c353b26-6de3-4c26-ba9b-35103102fc0f",
   "metadata": {},
   "source": [
    "## RAG-Graph"
   ]
  },
  {
   "cell_type": "code",
   "execution_count": 49,
   "id": "8cd1b43f-8aa6-4370-a2d5-56a9f798201d",
   "metadata": {},
   "outputs": [
    {
     "name": "stdout",
     "output_type": "stream",
     "text": [
      "prompt=PromptTemplate(input_variables=['context', 'input'], input_types={}, partial_variables={}, template=\"Answer the question based only on the following context. Don't try to make up an answer.\\n{context}\\n\\nQuestion: {input}\\n\") additional_kwargs={}\n"
     ]
    }
   ],
   "source": [
    "template = \"\"\"Answer the question based only on the following context. Don't try to make up an answer.\n",
    "{context}\n",
    "\n",
    "Question: {input}\n",
    "\"\"\"\n",
    "\n",
    "prompt = ChatPromptTemplate(messages=[template])\n",
    "print(prompt.messages[0])"
   ]
  },
  {
   "cell_type": "code",
   "execution_count": 50,
   "id": "ea1c3282-7b8c-42a8-8f1f-c73d3ac7515f",
   "metadata": {},
   "outputs": [],
   "source": [
    "def format_docs(docs):\n",
    "    formatted_docs = []\n",
    "    for i, doc in enumerate(docs):\n",
    "        content = doc.page_content\n",
    "        if doc.metadata.get(\"temperature\"):\n",
    "            doc.metadata.update({\"temperature\": f\"{doc.metadata[\"temperature\"]}°C\"})\n",
    "        metadata = \"\\n\".join([f\"{key}: {value}\" for key, value in doc.metadata.items()])\n",
    "        formatted_docs.append(f\"Context {i+1}:-\\nContent: {content}\\nMetadata: {metadata}\")\n",
    "        \n",
    "    res = \"\\n\\n\".join(doc for doc in formatted_docs)\n",
    "    return res"
   ]
  },
  {
   "cell_type": "code",
   "execution_count": 51,
   "id": "31af3cb3-3e64-4f48-ba95-e749afd80c7b",
   "metadata": {},
   "outputs": [],
   "source": [
    "rag_chain = (RunnablePassthrough.assign(context=(lambda x: format_docs(x[\"context\"]))) \n",
    "             | prompt | llm | StrOutputParser())"
   ]
  },
  {
   "cell_type": "code",
   "execution_count": 52,
   "id": "a5d09a8b-f44f-473a-a5b4-917fdf457138",
   "metadata": {},
   "outputs": [],
   "source": [
    "question = \"What's the temperature in London?\""
   ]
  },
  {
   "cell_type": "code",
   "execution_count": 53,
   "id": "f05f662d-12ed-489b-a376-a1b80f3ddea2",
   "metadata": {},
   "outputs": [
    {
     "data": {
      "text/plain": [
       "[Document(metadata={'city': 'London', 'temperature': 18, 'weather': 'drizzle', 'climate': 'temperate maritime'}, page_content='Weather is drizzle and Climate is temperate maritime')]"
      ]
     },
     "execution_count": 53,
     "metadata": {},
     "output_type": "execute_result"
    }
   ],
   "source": [
    "documents = retriever.get_relevant_documents(question)\n",
    "documents"
   ]
  },
  {
   "cell_type": "code",
   "execution_count": 54,
   "id": "ba4e5f11-32e3-4eea-b5c7-4360829064fd",
   "metadata": {},
   "outputs": [
    {
     "data": {
      "text/plain": [
       "'The temperature in London is 18°C.'"
      ]
     },
     "execution_count": 54,
     "metadata": {},
     "output_type": "execute_result"
    }
   ],
   "source": [
    "generation = rag_chain.invoke({\"context\": documents, \"input\": question})\n",
    "generation"
   ]
  },
  {
   "cell_type": "code",
   "execution_count": null,
   "id": "3e6c6eb9-e2e5-4336-894d-db66154c060f",
   "metadata": {},
   "outputs": [],
   "source": []
  },
  {
   "cell_type": "code",
   "execution_count": 55,
   "id": "dcb0726f-1d2c-40a8-8dd9-b62ac6c06ba5",
   "metadata": {},
   "outputs": [],
   "source": [
    "def retrieve(state):\n",
    "    print(\"---RETRIEVE---\")\n",
    "    inp = state[\"input\"]\n",
    "\n",
    "    try:\n",
    "        documents = retriever.get_relevant_documents(inp)\n",
    "        return {\"documents\": documents, \"input\": inp, \"retriever_exception\": False}\n",
    "    except:\n",
    "        return {\"documents\": [], \"input\": inp, \"retriever_exception\": True}"
   ]
  },
  {
   "cell_type": "code",
   "execution_count": 56,
   "id": "a4a887d7-2061-43dd-99c5-a16a4c10c02f",
   "metadata": {},
   "outputs": [],
   "source": [
    "def decide_to_rewrite(state):\n",
    "    print(\"---CHECK RETRIEVER FOR EXCEPTION---\")\n",
    "    retriever_exception = state[\"retriever_exception\"]\n",
    "\n",
    "    if retriever_exception:\n",
    "        print(\"---DECISION: EXCEPTION OCCURRED! REWRITE QUERY---\")\n",
    "        return \"exception\"\n",
    "    else:\n",
    "        print(\"---DECISION: NO EXCEPTION! GRADE DOCUMENTS---\")\n",
    "        return \"grade_documents\""
   ]
  },
  {
   "cell_type": "code",
   "execution_count": 57,
   "id": "ffccac65-5845-41a8-90a6-a8542cdfb1fc",
   "metadata": {},
   "outputs": [],
   "source": [
    "def rewrite_query(state):\n",
    "    print(\"---REWRITE QUERY---\")\n",
    "    inp = state[\"input\"]\n",
    "    documents = state[\"documents\"]\n",
    "\n",
    "    query_rewritten = query_rewriter.invoke({\"input\": inp})\n",
    "    print(f\"---modified_query: {query_rewritten}---\")\n",
    "    return {\"documents\": documents, \"input\": query_rewritten}"
   ]
  },
  {
   "cell_type": "code",
   "execution_count": 58,
   "id": "dcdffa5c-0c7a-4bdf-a861-41fdf4c14a5c",
   "metadata": {},
   "outputs": [],
   "source": [
    "def generate(state):\n",
    "    print(\"---GENERATE---\")\n",
    "    inp = state[\"input\"]\n",
    "    documents = state[\"documents\"]\n",
    "\n",
    "    generation = rag_chain.invoke({\"context\": documents, \"input\": inp})\n",
    "    return {\"documents\": documents, \"input\": inp, \"generation\": generation}"
   ]
  },
  {
   "cell_type": "code",
   "execution_count": 59,
   "id": "7eb03e49-8a90-4fff-b661-3cd37c65ec98",
   "metadata": {},
   "outputs": [],
   "source": [
    "def grade_documents(state):\n",
    "    print(\"---CHECK DOCUMENT RELEVANCE TO QUESTION---\")\n",
    "    inp = state[\"input\"]\n",
    "    documents = state[\"documents\"]\n",
    "\n",
    "    # Score each doc\n",
    "    filtered_docs = []\n",
    "    for doc in documents:\n",
    "        score = retrieval_grader.invoke({\"input\": inp, \"document\": format_docs([doc])})\n",
    "        grade = score.binary_score\n",
    "        if grade == \"yes\":\n",
    "            print(\"---GRADE: DOCUMENT RELEVANT---\")\n",
    "            filtered_docs.append(doc)\n",
    "        else:\n",
    "            print(\"---GRADE: DOCUMENT NOT RELEVANT---\")\n",
    "\n",
    "    web_search = \"No\" if filtered_docs else \"Yes\"\n",
    "    return {\"documents\": filtered_docs, \"input\": inp, \"web_search\": web_search}"
   ]
  },
  {
   "cell_type": "code",
   "execution_count": 60,
   "id": "81fea61d-8d41-4dda-af35-3938cb2de1a6",
   "metadata": {},
   "outputs": [],
   "source": [
    "def web_search(state):\n",
    "    print(\"---WEB SEARCH---\")\n",
    "    inp = state[\"input\"]\n",
    "    documents = state[\"documents\"]\n",
    "\n",
    "    # Re-write query\n",
    "    query_rewritten = query_rewriter_for_search.invoke({\"input\": inp})\n",
    "    print(f\"---modified_query: {query_rewritten}---\")\n",
    "\n",
    "    # Web search\n",
    "    docs = web_search_tool.invoke({\"query\": query_rewritten})\n",
    "    web_results = \"\\n\".join([d[\"content\"] for d in docs])\n",
    "    web_results = Document(page_content=web_results)\n",
    "    documents.append(web_results)\n",
    "\n",
    "    return {\"documents\": documents, \"input\": query_rewritten}"
   ]
  },
  {
   "cell_type": "code",
   "execution_count": 61,
   "id": "0d7f89a0-b6c9-4397-9007-20d8d389a45b",
   "metadata": {},
   "outputs": [],
   "source": [
    "def decide_to_generate(state):\n",
    "    print(\"---ASSESS GRADED DOCUMENTS---\")\n",
    "    web_search = state[\"web_search\"]\n",
    "\n",
    "    if web_search == \"Yes\":\n",
    "        print(\"---DECISION: NONE OF THE DOCUMENTS ARE RELEVANT TO QUERY, WEB SEARCH---\")\n",
    "        return \"web_search\"\n",
    "    else:\n",
    "        print(\"---DECISION: GENERATE---\")\n",
    "        return \"generate\""
   ]
  },
  {
   "cell_type": "code",
   "execution_count": 62,
   "id": "99319588-3a46-491b-8ad4-fc0b3d0b9940",
   "metadata": {},
   "outputs": [],
   "source": [
    "def grade_generation_if_answers_question(state):\n",
    "    print(\"---CHECK WHETHER GENERATION ANSWERS QUESTION---\")\n",
    "    inp = state[\"input\"]\n",
    "    generation = state[\"generation\"]\n",
    "\n",
    "    score = answer_grader.invoke({\"input\": inp, \"generation\": generation})\n",
    "    grade = score.binary_score\n",
    "    if grade == \"yes\":\n",
    "        print(\"---DECISION: GENERATION ANSWERS QUESTION---\")\n",
    "        return \"useful\"\n",
    "    else:\n",
    "        print(\"---DECISION: GENERATION DOES NOT ANSWERS QUESTION---\")\n",
    "        return \"not_useful\""
   ]
  },
  {
   "cell_type": "code",
   "execution_count": null,
   "id": "4fd55213-605c-401d-81da-f0f441dc6dcd",
   "metadata": {},
   "outputs": [],
   "source": []
  },
  {
   "cell_type": "code",
   "execution_count": 63,
   "id": "307ce31b-c92b-4f4c-b826-7d150830d1e2",
   "metadata": {},
   "outputs": [],
   "source": [
    "class GraphState(TypedDict):\n",
    "    \"\"\" Represents the state of our graph. \"\"\"\n",
    "    input: str\n",
    "    retriever_exception: bool\n",
    "    generation: str\n",
    "    web_search: str\n",
    "    documents: List[str]\n",
    "\n",
    "workflow = StateGraph(GraphState)"
   ]
  },
  {
   "cell_type": "code",
   "execution_count": 64,
   "id": "37cf2d59-22e6-42d7-93a4-88f03dd903de",
   "metadata": {},
   "outputs": [],
   "source": [
    "# Define the nodes\n",
    "workflow.add_node(\"retrieve\", retrieve)  # retrieve\n",
    "workflow.add_node(\"rewrite_query\", rewrite_query)  # rewrite_query\n",
    "workflow.add_node(\"grade_documents\", grade_documents)  # grade documents\n",
    "workflow.add_node(\"web_search_node\", web_search)  # web search\n",
    "workflow.add_node(\"generate\", generate)  # generate\n",
    "\n",
    "# Build graph\n",
    "workflow.add_edge(START, \"retrieve\")\n",
    "workflow.add_conditional_edges(\n",
    "    \"retrieve\", decide_to_rewrite,\n",
    "    {\"exception\": \"rewrite_query\", \"grade_documents\": \"grade_documents\"})\n",
    "workflow.add_conditional_edges(\n",
    "    \"grade_documents\", decide_to_generate,\n",
    "    {\"web_search\": \"web_search_node\", \"generate\": \"generate\"})\n",
    "workflow.add_edge(\"web_search_node\", \"generate\")\n",
    "workflow.add_conditional_edges(\n",
    "    \"generate\", grade_generation_if_answers_question,\n",
    "    {\"useful\": END, \"not_useful\": \"rewrite_query\"})\n",
    "workflow.add_edge(\"rewrite_query\", \"retrieve\")\n",
    "\n",
    "# Compile\n",
    "app = workflow.compile()"
   ]
  },
  {
   "cell_type": "code",
   "execution_count": 65,
   "id": "55433162-8bdb-44d7-8ede-6a3950e24ada",
   "metadata": {},
   "outputs": [
    {
     "data": {
      "image/jpeg": "[encoded data removed]",
      "text/plain": [
       "<IPython.core.display.Image object>"
      ]
     },
     "metadata": {},
     "output_type": "display_data"
    }
   ],
   "source": [
    "display(\n",
    "    Image(\n",
    "        app.get_graph().draw_mermaid_png(\n",
    "            draw_method=MermaidDrawMethod.API,\n",
    "        )\n",
    "    )\n",
    ")"
   ]
  },
  {
   "cell_type": "code",
   "execution_count": null,
   "id": "1954c0c4-8b0e-4c3d-b96d-c0a398ba809d",
   "metadata": {},
   "outputs": [],
   "source": []
  },
  {
   "cell_type": "code",
   "execution_count": null,
   "id": "4eb7905e-d2cb-4656-9783-d8f6dad5dd0e",
   "metadata": {},
   "outputs": [],
   "source": []
  },
  {
   "cell_type": "code",
   "execution_count": null,
   "id": "ef381ccc-4e2c-485b-91df-118f53968e58",
   "metadata": {},
   "outputs": [],
   "source": []
  },
  {
   "cell_type": "code",
   "execution_count": 66,
   "id": "0feb65fe-67fd-43a2-a3a3-fe1f64c1128f",
   "metadata": {},
   "outputs": [],
   "source": [
    "rag_chain_main = prompt | llm | StrOutputParser()"
   ]
  },
  {
   "cell_type": "code",
   "execution_count": 67,
   "id": "e5055845-78b9-4be5-9a54-2d346f93ff8c",
   "metadata": {},
   "outputs": [],
   "source": [
    "def reformulate_query_using_history(state):\n",
    "    print(\"---REFORMULATE QUERY USING HISTORY---\")\n",
    "    inp = state[\"input\"]\n",
    "    chat_history = state[\"chat_history\"]\n",
    "\n",
    "    if chat_history:\n",
    "        reformulated_query = history_aware_query_reformulator.invoke({\"input\": inp, \"chat_history\": chat_history})\n",
    "    else:\n",
    "        reformulated_query = inp\n",
    "        \n",
    "    print(f\"---reformulated_query: {reformulated_query}--\")\n",
    "    return {\"input\": inp, \"chat_history\": chat_history, \"reformulated_query\": reformulated_query}"
   ]
  },
  {
   "cell_type": "code",
   "execution_count": 68,
   "id": "d77d30e6-57dc-4555-8625-5a3cc1ed5f3e",
   "metadata": {},
   "outputs": [],
   "source": [
    "def decompose_query(state):\n",
    "    print(\"---DECOMPOSE QUERY---\")\n",
    "    reformulated_query = state[\"reformulated_query\"]\n",
    "\n",
    "    sub_queries = query_decomposer.invoke({\"input\": reformulated_query})\n",
    "    print(f\"---decomposed_queries: {sub_queries}--\")\n",
    "    return {\"input\": reformulated_query, \"sub_queries\": sub_queries}"
   ]
  },
  {
   "cell_type": "code",
   "execution_count": 69,
   "id": "179a041e-47b1-431d-aac8-5cef9de28a0e",
   "metadata": {},
   "outputs": [],
   "source": [
    "def answer_sub_queries(state):\n",
    "    print(\"---ANSWER SUB-QUERIES---\")\n",
    "    sub_queries = state[\"sub_queries\"]\n",
    "\n",
    "    sub_answers = []\n",
    "    for sub_query in sub_queries:\n",
    "        sub_answer = app.invoke({\"input\": sub_query})\n",
    "        sub_answers.append(sub_answer)\n",
    "\n",
    "    return {\"sub_queries\": sub_queries, \"sub_answers\": sub_answers}"
   ]
  },
  {
   "cell_type": "code",
   "execution_count": 70,
   "id": "21ae5ce6-4ada-404a-bc31-15819d605655",
   "metadata": {},
   "outputs": [],
   "source": [
    "def answer_query(state):\n",
    "    print(\"---ANSWER QUERY---\")\n",
    "    reformulated_query = state[\"reformulated_query\"]\n",
    "    sub_answers = state[\"sub_answers\"]\n",
    "\n",
    "    answer = rag_chain_main.invoke({\"context\": sub_answers, \"input\": reformulated_query})\n",
    "    return {\"input\": reformulated_query, \"sub_answers\": sub_answers, \"candidate_answer\": answer}"
   ]
  },
  {
   "cell_type": "code",
   "execution_count": 71,
   "id": "b4c24d88-d8a2-4e5a-a426-0802bbf5351c",
   "metadata": {},
   "outputs": [],
   "source": [
    "def maintain_conversational_flow(state):\n",
    "    print(\"---MAINTAIN CONVERSATIONAL FLOW---\")\n",
    "    chat_history = state[\"chat_history\"]\n",
    "    inp = state[\"input\"]\n",
    "    candidate_answer = state[\"candidate_answer\"]\n",
    "\n",
    "    answer = conversation_aligner.invoke({\"chat_history\": chat_history, \"input\": inp, \"candidate_answer\": candidate_answer})\n",
    "    return {\"input\": inp, \"chat_history\": chat_history, \"candidate_answer\": candidate_answer, \"answer\": answer}"
   ]
  },
  {
   "cell_type": "code",
   "execution_count": 72,
   "id": "adbd761e-8352-4484-9af3-74cce73f1a8f",
   "metadata": {},
   "outputs": [],
   "source": [
    "class GraphStateMain(TypedDict):\n",
    "    \"\"\" Represents the state of our graph. \"\"\"\n",
    "    input: str\n",
    "    chat_history: List[str]\n",
    "    reformulated_query: str\n",
    "    sub_queries: List[str]\n",
    "    sub_answers: List[str]\n",
    "    candidate_answer: str\n",
    "    answer: str\n",
    "\n",
    "workflow_main = StateGraph(GraphStateMain)"
   ]
  },
  {
   "cell_type": "code",
   "execution_count": 73,
   "id": "09c32f6a-7fd2-48fe-82ca-805a5d2c6385",
   "metadata": {},
   "outputs": [],
   "source": [
    "# Define the nodes\n",
    "workflow_main.add_node(\"reformulate_query_using_history\", reformulate_query_using_history)  # reformulate query using history\n",
    "workflow_main.add_node(\"decompose_query\", decompose_query)  # decompose query\n",
    "workflow_main.add_node(\"answer_sub_queries\", answer_sub_queries)  # answer sub-queries\n",
    "workflow_main.add_node(\"answer_query\", answer_query)  # answer query\n",
    "workflow_main.add_node(\"maintain_conversational_flow\", maintain_conversational_flow)  # maintain conversational flow\n",
    "\n",
    "# Build graph\n",
    "workflow_main.add_edge(START, \"reformulate_query_using_history\")\n",
    "workflow_main.add_edge(\"reformulate_query_using_history\", \"decompose_query\")\n",
    "workflow_main.add_edge(\"decompose_query\", \"answer_sub_queries\")\n",
    "workflow_main.add_edge(\"answer_sub_queries\", \"answer_query\")\n",
    "workflow_main.add_edge(\"answer_query\", \"maintain_conversational_flow\")\n",
    "workflow_main.add_edge(\"maintain_conversational_flow\", END)\n",
    "\n",
    "# Compile\n",
    "app_main = workflow_main.compile()"
   ]
  },
  {
   "cell_type": "code",
   "execution_count": 74,
   "id": "3cd09e03-92d7-4008-b53d-6e8f8ac6ae5d",
   "metadata": {},
   "outputs": [
    {
     "data": {
      "image/jpeg": "[encoded data removed]",
      "text/plain": [
       "<IPython.core.display.Image object>"
      ]
     },
     "metadata": {},
     "output_type": "display_data"
    }
   ],
   "source": [
    "display(\n",
    "    Image(\n",
    "        app_main.get_graph().draw_mermaid_png(\n",
    "            draw_method=MermaidDrawMethod.API,\n",
    "        )\n",
    "    )\n",
    ")"
   ]
  },
  {
   "cell_type": "code",
   "execution_count": null,
   "id": "95088efb-5dfe-403d-a6a4-ed05e9e4fe48",
   "metadata": {},
   "outputs": [],
   "source": []
  },
  {
   "cell_type": "code",
   "execution_count": null,
   "id": "3b562f07-19a6-47b0-afd7-73b2519cc9a9",
   "metadata": {},
   "outputs": [],
   "source": []
  },
  {
   "cell_type": "code",
   "execution_count": null,
   "id": "cf931481-6bb0-40f0-954c-c94f7597f317",
   "metadata": {},
   "outputs": [],
   "source": []
  },
  {
   "cell_type": "code",
   "execution_count": 75,
   "id": "e348b84e-d1da-4ac9-845a-6974d4cd4dd1",
   "metadata": {},
   "outputs": [],
   "source": [
    "chat_history = []"
   ]
  },
  {
   "cell_type": "code",
   "execution_count": 76,
   "id": "2727b4c2-36fe-4068-86bd-650cd103f465",
   "metadata": {
    "scrolled": true
   },
   "outputs": [
    {
     "name": "stdout",
     "output_type": "stream",
     "text": [
      "---REFORMULATE QUERY USING HISTORY---\n",
      "---reformulated_query: What's the temperature in London?--\n",
      "---DECOMPOSE QUERY---\n",
      "---decomposed_queries: [\"What's the temperature in London?\"]--\n",
      "---ANSWER SUB-QUERIES---\n",
      "---RETRIEVE---\n",
      "---CHECK RETRIEVER FOR EXCEPTION---\n",
      "---DECISION: NO EXCEPTION! GRADE DOCUMENTS---\n",
      "---CHECK DOCUMENT RELEVANCE TO QUESTION---\n",
      "---GRADE: DOCUMENT RELEVANT---\n",
      "---ASSESS GRADED DOCUMENTS---\n",
      "---DECISION: GENERATE---\n",
      "---GENERATE---\n",
      "---CHECK WHETHER GENERATION ANSWERS QUESTION---\n",
      "---DECISION: GENERATION ANSWERS QUESTION---\n",
      "---ANSWER QUERY---\n",
      "---MAINTAIN CONVERSATIONAL FLOW---\n",
      "CPU times: user 239 ms, sys: 6.75 ms, total: 245 ms\n",
      "Wall time: 4.6 s\n"
     ]
    },
    {
     "data": {
      "text/plain": [
       "{'input': \"What's the temperature in London?\",\n",
       " 'chat_history': [\"What's the temperature in London?\",\n",
       "  'The temperature in London is 18°C.'],\n",
       " 'reformulated_query': \"What's the temperature in London?\",\n",
       " 'sub_queries': [\"What's the temperature in London?\"],\n",
       " 'sub_answers': [{'input': \"What's the temperature in London?\",\n",
       "   'retriever_exception': False,\n",
       "   'generation': 'The temperature in London is 18°C.',\n",
       "   'web_search': 'No',\n",
       "   'documents': [Document(metadata={'city': 'London', 'temperature': '18°C°C', 'weather': 'drizzle', 'climate': 'temperate maritime'}, page_content='Weather is drizzle and Climate is temperate maritime')]}],\n",
       " 'candidate_answer': 'The temperature in London is 18°C.',\n",
       " 'answer': 'The temperature in London is 18°C.'}"
      ]
     },
     "execution_count": 76,
     "metadata": {},
     "output_type": "execute_result"
    }
   ],
   "source": [
    "%%time\n",
    "query = \"What's the temperature in London?\"\n",
    "res = app_main.invoke({\"input\": query, \"chat_history\": chat_history})\n",
    "chat_history += [query, res['answer']]\n",
    "res"
   ]
  },
  {
   "cell_type": "code",
   "execution_count": 77,
   "id": "d6517e4c-5d6d-4ec2-b4fd-84ced89663c0",
   "metadata": {},
   "outputs": [
    {
     "data": {
      "text/plain": [
       "[\"What's the temperature in London?\", 'The temperature in London is 18°C.']"
      ]
     },
     "execution_count": 77,
     "metadata": {},
     "output_type": "execute_result"
    }
   ],
   "source": [
    "chat_history"
   ]
  },
  {
   "cell_type": "code",
   "execution_count": 78,
   "id": "79318f81-004f-41a7-bbc0-7403c5cd28a6",
   "metadata": {
    "scrolled": true
   },
   "outputs": [
    {
     "name": "stdout",
     "output_type": "stream",
     "text": [
      "---REFORMULATE QUERY USING HISTORY---\n",
      "---reformulated_query: What's the temperature in Fort Worth?--\n",
      "---DECOMPOSE QUERY---\n",
      "---decomposed_queries: [\"What's the temperature in Fort Worth?\"]--\n",
      "---ANSWER SUB-QUERIES---\n",
      "---RETRIEVE---\n",
      "---CHECK RETRIEVER FOR EXCEPTION---\n",
      "---DECISION: NO EXCEPTION! GRADE DOCUMENTS---\n",
      "---CHECK DOCUMENT RELEVANCE TO QUESTION---\n",
      "---ASSESS GRADED DOCUMENTS---\n",
      "---DECISION: NONE OF THE DOCUMENTS ARE RELEVANT TO QUERY, WEB SEARCH---\n",
      "---WEB SEARCH---\n",
      "---modified_query: Current temperature in Fort Worth, Texas---\n",
      "---GENERATE---\n",
      "---CHECK WHETHER GENERATION ANSWERS QUESTION---\n",
      "---DECISION: GENERATION DOES NOT ANSWERS QUESTION---\n",
      "---REWRITE QUERY---\n",
      "---modified_query: What is the current weather temperature in Fort Worth, Texas, USA?---\n",
      "---RETRIEVE---\n",
      "---CHECK RETRIEVER FOR EXCEPTION---\n",
      "---DECISION: NO EXCEPTION! GRADE DOCUMENTS---\n",
      "---CHECK DOCUMENT RELEVANCE TO QUESTION---\n",
      "---ASSESS GRADED DOCUMENTS---\n",
      "---DECISION: NONE OF THE DOCUMENTS ARE RELEVANT TO QUERY, WEB SEARCH---\n",
      "---WEB SEARCH---\n",
      "---modified_query: Fort Worth Texas current weather temperature---\n",
      "---GENERATE---\n",
      "---CHECK WHETHER GENERATION ANSWERS QUESTION---\n",
      "---DECISION: GENERATION ANSWERS QUESTION---\n",
      "---ANSWER QUERY---\n",
      "---MAINTAIN CONVERSATIONAL FLOW---\n",
      "CPU times: user 484 ms, sys: 17.1 ms, total: 501 ms\n",
      "Wall time: 23.7 s\n"
     ]
    },
    {
     "data": {
      "text/plain": [
       "{'input': \"What's the temperature in Fort Worth?\",\n",
       " 'chat_history': [\"What's the temperature in London?\",\n",
       "  'The temperature in London is 18°C.',\n",
       "  \"What's the temperature in Fort Worth?\",\n",
       "  'The temperature in Fort Worth is 75.0°F (23.9°C).'],\n",
       " 'reformulated_query': \"What's the temperature in Fort Worth?\",\n",
       " 'sub_queries': [\"What's the temperature in Fort Worth?\"],\n",
       " 'sub_answers': [{'input': 'Fort Worth Texas current weather temperature',\n",
       "   'retriever_exception': False,\n",
       "   'generation': 'The current weather temperature in Fort Worth, Texas is 75.0°F (23.9°C).',\n",
       "   'web_search': 'Yes',\n",
       "   'documents': [Document(metadata={}, page_content=\"{'location': {'name': 'Fort Worth', 'region': 'Texas', 'country': 'United States of America', 'lat': 32.7253, 'lon': -97.3206, 'tz_id': 'America/Chicago', 'localtime_epoch': 1730703434, 'localtime': '2024-11-04 00:57'}, 'current': {'last_updated_epoch': 1730702700, 'last_updated': '2024-11-04 00:45', 'temp_c': 23.9, 'temp_f': 75.0, 'is_day': 0, 'condition': {'text': 'Clear', 'icon': '//cdn.weatherapi.com/weather/64x64/night/113.png', 'code': 1000}, 'wind_mph': 19.9, 'wind_kph': 32.0, 'wind_degree': 169, 'wind_dir': 'S', 'pressure_mb': 1005.0, 'pressure_in': 29.69, 'precip_mm': 0.0, 'precip_in': 0.0, 'humidity': 74, 'cloud': 0, 'feelslike_c': 25.7, 'feelslike_f': 78.3, 'windchill_c': 24.8, 'windchill_f': 76.6, 'heatindex_c': 26.6, 'heatindex_f': 79.9, 'dewpoint_c': 20.2, 'dewpoint_f': 68.3, 'vis_km': 16.0, 'vis_miles': 9.0, 'uv': 0.0, 'gust_mph': 35.1, 'gust_kph': 56.6}}\\nGet Fort Worth weather conditions in April. We provide day and night temperatures, sunshine hours and precipitations averages for Fort Worth in April ... The highest day temperature during April of 2024 was 84°F. At the same time the lowest night temperature was 50°F. ... The average wind speed value in April is 11.8 mph It makes April one of\\nDetailed ⚡ Fort Worth Weather Forecast for April 2024 - day/night 🌡️ temperatures, precipitations - World-Weather.info ... Archive; Widgets °F. World; United States; Texas; Weather in Fort Worth; Weather in Fort Worth in April 2024. Fort Worth Weather Forecast for April 2024 is based on statistical data. ... world's temperature\\nWeather.com brings you the most accurate monthly weather forecast for Fort Worth, TX with average/record and high/low temperatures, ... 11 76 ° 58 ° 12. 75 ° 55 ° 13\\nThis report shows the past weather for Fort Worth, providing a weather history for 2024. It features all historical weather data series we have available, including the Fort Worth temperature history for 2024. You can drill down from year to month and even day level reports by clicking on the graphs.\")]}],\n",
       " 'candidate_answer': 'The current weather temperature in Fort Worth, Texas is 75.0°F (23.9°C).',\n",
       " 'answer': 'The temperature in Fort Worth is 75.0°F (23.9°C).'}"
      ]
     },
     "execution_count": 78,
     "metadata": {},
     "output_type": "execute_result"
    }
   ],
   "source": [
    "%%time\n",
    "query = \"What's the temperature in Fort Worth?\"\n",
    "res = app_main.invoke({\"input\": query, \"chat_history\": chat_history})\n",
    "chat_history += [query, res['answer']]\n",
    "res"
   ]
  },
  {
   "cell_type": "code",
   "execution_count": 79,
   "id": "0ed044ed-85f6-4665-a2fc-48f5cdc0df12",
   "metadata": {},
   "outputs": [
    {
     "data": {
      "text/plain": [
       "[\"What's the temperature in London?\",\n",
       " 'The temperature in London is 18°C.',\n",
       " \"What's the temperature in Fort Worth?\",\n",
       " 'The temperature in Fort Worth is 75.0°F (23.9°C).']"
      ]
     },
     "execution_count": 79,
     "metadata": {},
     "output_type": "execute_result"
    }
   ],
   "source": [
    "chat_history"
   ]
  },
  {
   "cell_type": "code",
   "execution_count": 80,
   "id": "f2086437-de13-485d-8fb4-7544d5c30055",
   "metadata": {
    "scrolled": true
   },
   "outputs": [
    {
     "name": "stdout",
     "output_type": "stream",
     "text": [
      "---REFORMULATE QUERY USING HISTORY---\n",
      "---reformulated_query: Which cities have temperate climate?--\n",
      "---DECOMPOSE QUERY---\n",
      "---decomposed_queries: ['What cities have a temperate climate?']--\n",
      "---ANSWER SUB-QUERIES---\n",
      "---RETRIEVE---\n",
      "---CHECK RETRIEVER FOR EXCEPTION---\n",
      "---DECISION: NO EXCEPTION! GRADE DOCUMENTS---\n",
      "---CHECK DOCUMENT RELEVANCE TO QUESTION---\n",
      "---GRADE: DOCUMENT RELEVANT---\n",
      "---GRADE: DOCUMENT RELEVANT---\n",
      "---GRADE: DOCUMENT RELEVANT---\n",
      "---ASSESS GRADED DOCUMENTS---\n",
      "---DECISION: GENERATE---\n",
      "---GENERATE---\n",
      "---CHECK WHETHER GENERATION ANSWERS QUESTION---\n",
      "---DECISION: GENERATION ANSWERS QUESTION---\n",
      "---ANSWER QUERY---\n",
      "---MAINTAIN CONVERSATIONAL FLOW---\n",
      "CPU times: user 255 ms, sys: 10.4 ms, total: 265 ms\n",
      "Wall time: 9.53 s\n"
     ]
    },
    {
     "data": {
      "text/plain": [
       "{'input': 'Which cities have temperate climate?',\n",
       " 'chat_history': [\"What's the temperature in London?\",\n",
       "  'The temperature in London is 18°C.',\n",
       "  \"What's the temperature in Fort Worth?\",\n",
       "  'The temperature in Fort Worth is 75.0°F (23.9°C).',\n",
       "  'Which cities have temperate climate?',\n",
       "  'Cities like Paris, New York, and Warsaw have a temperate climate.'],\n",
       " 'reformulated_query': 'Which cities have temperate climate?',\n",
       " 'sub_queries': ['What cities have a temperate climate?'],\n",
       " 'sub_answers': [{'input': 'What cities have a temperate climate?',\n",
       "   'retriever_exception': False,\n",
       "   'generation': 'Based on the provided context, the cities with a temperate climate are:\\n\\n1. Paris\\n2. New York\\n3. Warsaw',\n",
       "   'web_search': 'No',\n",
       "   'documents': [Document(metadata={'city': 'Paris', 'temperature': '21°C°C', 'weather': 'partly sunny', 'climate': 'temperate'}, page_content='Weather is partly sunny and Climate is temperate'),\n",
       "    Document(metadata={'city': 'New York', 'temperature': '22°C°C', 'weather': 'sunny', 'climate': 'temperate'}, page_content='Weather is sunny and Climate is temperate'),\n",
       "    Document(metadata={'city': 'Warsaw', 'temperature': '16°C°C', 'weather': 'overcast', 'climate': 'temperate'}, page_content='Weather is overcast and Climate is temperate')]}],\n",
       " 'candidate_answer': 'The cities with a temperate climate are:\\n\\n1. Paris\\n2. New York\\n3. Warsaw',\n",
       " 'answer': 'Cities like Paris, New York, and Warsaw have a temperate climate.'}"
      ]
     },
     "execution_count": 80,
     "metadata": {},
     "output_type": "execute_result"
    }
   ],
   "source": [
    "%%time\n",
    "query = \"Which cities have temperate climate?\"\n",
    "res = app_main.invoke({\"input\": query, \"chat_history\": chat_history})\n",
    "chat_history += [query, res['answer']]\n",
    "res"
   ]
  },
  {
   "cell_type": "code",
   "execution_count": 81,
   "id": "c429b09a-18f3-409e-8b2e-340e96b26ea5",
   "metadata": {},
   "outputs": [
    {
     "data": {
      "text/plain": [
       "[\"What's the temperature in London?\",\n",
       " 'The temperature in London is 18°C.',\n",
       " \"What's the temperature in Fort Worth?\",\n",
       " 'The temperature in Fort Worth is 75.0°F (23.9°C).',\n",
       " 'Which cities have temperate climate?',\n",
       " 'Cities like Paris, New York, and Warsaw have a temperate climate.']"
      ]
     },
     "execution_count": 81,
     "metadata": {},
     "output_type": "execute_result"
    }
   ],
   "source": [
    "chat_history"
   ]
  },
  {
   "cell_type": "code",
   "execution_count": 82,
   "id": "fc6be714-3fe9-4fc3-ad8d-6961cda4fad1",
   "metadata": {
    "scrolled": true
   },
   "outputs": [
    {
     "name": "stdout",
     "output_type": "stream",
     "text": [
      "---REFORMULATE QUERY USING HISTORY---\n",
      "---reformulated_query: Where is it hottest among London, Fort Worth, Paris, New York, and Warsaw?--\n",
      "---DECOMPOSE QUERY---\n",
      "---decomposed_queries: ['What is the average temperature in London?', 'What is the average temperature in Fort Worth?', 'What is the average temperature in Paris?', 'What is the average temperature in New York?', 'What is the average temperature in Warsaw?']--\n",
      "---ANSWER SUB-QUERIES---\n",
      "---RETRIEVE---\n",
      "---CHECK RETRIEVER FOR EXCEPTION---\n",
      "---DECISION: NO EXCEPTION! GRADE DOCUMENTS---\n",
      "---CHECK DOCUMENT RELEVANCE TO QUESTION---\n",
      "---GRADE: DOCUMENT RELEVANT---\n",
      "---ASSESS GRADED DOCUMENTS---\n",
      "---DECISION: GENERATE---\n",
      "---GENERATE---\n",
      "---CHECK WHETHER GENERATION ANSWERS QUESTION---\n",
      "---DECISION: GENERATION ANSWERS QUESTION---\n",
      "---RETRIEVE---\n",
      "---CHECK RETRIEVER FOR EXCEPTION---\n",
      "---DECISION: NO EXCEPTION! GRADE DOCUMENTS---\n",
      "---CHECK DOCUMENT RELEVANCE TO QUESTION---\n",
      "---ASSESS GRADED DOCUMENTS---\n",
      "---DECISION: NONE OF THE DOCUMENTS ARE RELEVANT TO QUERY, WEB SEARCH---\n",
      "---WEB SEARCH---\n",
      "---modified_query: \"Fort Worth Texas average annual temperature\"---\n",
      "---GENERATE---\n",
      "---CHECK WHETHER GENERATION ANSWERS QUESTION---\n",
      "---DECISION: GENERATION ANSWERS QUESTION---\n",
      "---RETRIEVE---\n",
      "---CHECK RETRIEVER FOR EXCEPTION---\n",
      "---DECISION: NO EXCEPTION! GRADE DOCUMENTS---\n",
      "---CHECK DOCUMENT RELEVANCE TO QUESTION---\n",
      "---GRADE: DOCUMENT RELEVANT---\n",
      "---ASSESS GRADED DOCUMENTS---\n",
      "---DECISION: GENERATE---\n",
      "---GENERATE---\n",
      "---CHECK WHETHER GENERATION ANSWERS QUESTION---\n",
      "---DECISION: GENERATION ANSWERS QUESTION---\n",
      "---RETRIEVE---\n",
      "---CHECK RETRIEVER FOR EXCEPTION---\n",
      "---DECISION: NO EXCEPTION! GRADE DOCUMENTS---\n",
      "---CHECK DOCUMENT RELEVANCE TO QUESTION---\n",
      "---GRADE: DOCUMENT RELEVANT---\n",
      "---ASSESS GRADED DOCUMENTS---\n",
      "---DECISION: GENERATE---\n",
      "---GENERATE---\n",
      "---CHECK WHETHER GENERATION ANSWERS QUESTION---\n",
      "---DECISION: GENERATION ANSWERS QUESTION---\n",
      "---RETRIEVE---\n",
      "---CHECK RETRIEVER FOR EXCEPTION---\n",
      "---DECISION: NO EXCEPTION! GRADE DOCUMENTS---\n",
      "---CHECK DOCUMENT RELEVANCE TO QUESTION---\n",
      "---GRADE: DOCUMENT RELEVANT---\n",
      "---ASSESS GRADED DOCUMENTS---\n",
      "---DECISION: GENERATE---\n",
      "---GENERATE---\n",
      "---CHECK WHETHER GENERATION ANSWERS QUESTION---\n",
      "---DECISION: GENERATION ANSWERS QUESTION---\n",
      "---ANSWER QUERY---\n",
      "---MAINTAIN CONVERSATIONAL FLOW---\n",
      "CPU times: user 1.12 s, sys: 38 ms, total: 1.16 s\n",
      "Wall time: 1min 34s\n"
     ]
    },
    {
     "data": {
      "text/plain": [
       "{'input': 'Where is it hottest among London, Fort Worth, Paris, New York, and Warsaw?',\n",
       " 'chat_history': [\"What's the temperature in London?\",\n",
       "  'The temperature in London is 18°C.',\n",
       "  \"What's the temperature in Fort Worth?\",\n",
       "  'The temperature in Fort Worth is 75.0°F (23.9°C).',\n",
       "  'Which cities have temperate climate?',\n",
       "  'Cities like Paris, New York, and Warsaw have a temperate climate.',\n",
       "  'Where is it hottest?',\n",
       "  'The hottest place among the given options is Fort Worth with a temperature of 75.0°F (23.9°C).'],\n",
       " 'reformulated_query': 'Where is it hottest among London, Fort Worth, Paris, New York, and Warsaw?',\n",
       " 'sub_queries': ['What is the average temperature in London?',\n",
       "  'What is the average temperature in Fort Worth?',\n",
       "  'What is the average temperature in Paris?',\n",
       "  'What is the average temperature in New York?',\n",
       "  'What is the average temperature in Warsaw?'],\n",
       " 'sub_answers': [{'input': 'What is the average temperature in London?',\n",
       "   'retriever_exception': False,\n",
       "   'generation': 'The temperature in London is 18°C.',\n",
       "   'web_search': 'No',\n",
       "   'documents': [Document(metadata={'city': 'London', 'temperature': '18°C°C', 'weather': 'drizzle', 'climate': 'temperate maritime'}, page_content='Weather is drizzle and Climate is temperate maritime')]},\n",
       "  {'input': '\"Fort Worth Texas average annual temperature\"',\n",
       "   'retriever_exception': False,\n",
       "   'generation': 'The average temperature in Fort Worth is 65.25 °F.',\n",
       "   'web_search': 'Yes',\n",
       "   'documents': [Document(metadata={}, page_content=\"The most pleasant months of the year for Fort Worth are October, April and May. In Fort Worth, there are 91.9 days annually when the high temperature is over 90°, which is about average compared to other places in Texas. In Fort Worth, there are 34.8 days annually when the nighttime low temperature falls below freezing, which is about average compared to other places in Texas. In Fort Worth, there are 0.0 days annually when the nighttime low temperature falls below zero°, which is about average compared to other places in Texas. The annual rainfall of 36.7 inches in Fort Worth means that it is about average compared to other places in Texas.\\nFort Worth, Texas Climate - 76101 Weather, Average Rainfall, and Temperatures Average Weather Data for Fort Worth, Texas Monthly Averages | Average Snow/Rain (Precip.) (in inches) | 0 | 0 | 0 | 0 | 0 | 0 | 0 | 0 | 0 | 0 | 0 | 0 | Yearly Averages What's The Average High Temp in Fort Worth?76.7 °FWhat's the Average Low in Fort Worth?53.8 °FWhat's the Average Temperature in Fort Worth?65.25 °FHow Many Inches of Rain per year does Fort Worth get ?N/AHow Many Rainy Days a year are there in Fort Worth?N/AHow Much Sunshine each year is there in Fort Worth (in hours)?N/AHow much, if any, snow falls each year in Fort Worth?N/A Average high in °F Average low in °F Average precipitation in inches\\nDFW - Monthly and Annual Average Temperatures ; 50.3, 49.6, 63.4, 64.6 ; 45.8, 50.2, 55.0, 66.0\\nFort Worth TX Average Temperatures by Month - Current Results Fort Worth Temperatures: Averages by Month The numbers here tell you how hot and cold the weather usually is in Fort Worth, Texas during each month of the year. There are also monthly and yearly counts of days with cold weather. 10-year temperature averages for Fort Worth, 2010 to 2019 30-year temperature averages for Fort Worth, 1991 to 2020 Days of Hot Weather in Fort Worth Only two days a year on average never heat up to over 32 °F. Days per month on average in Fort Worth when the minimum temperature drops to 40, 32 or 20 °F or below Average Temperatures Throughout Texas\\nClimate Fort Worth - Texas and Weather averages Fort Worth Fort Worth Climate Fort Worth - Texas Fort Worth Climate Graph - Texas Climate Chart Daily normals Fort Worth - Texas - January Snow/mo Snow/yr Weather history Fort Worth - December 2019 Snow Past weather Fort Worth | Average high temperature Av. high temp. | Average low temperature Av. low temp. Geo Fort Worth - Texas | City | Fort Worth | \\xa0 | Date and Time Fort Worth - Texas Map of Fort Worth - Texas Fort Worth weather averages | Annual high temperature | 77ºF | | Annual low temperature | 54ºF | Monthly averages Fort Worth Average weather Fort Worth, TX - 76101\")]},\n",
       "  {'input': 'What is the average temperature in Paris?',\n",
       "   'retriever_exception': False,\n",
       "   'generation': 'The temperature in Paris is 21°C.',\n",
       "   'web_search': 'No',\n",
       "   'documents': [Document(metadata={'city': 'Paris', 'temperature': '21°C°C', 'weather': 'partly sunny', 'climate': 'temperate'}, page_content='Weather is partly sunny and Climate is temperate')]},\n",
       "  {'input': 'What is the average temperature in New York?',\n",
       "   'retriever_exception': False,\n",
       "   'generation': 'The average temperature in New York is 22°C.',\n",
       "   'web_search': 'No',\n",
       "   'documents': [Document(metadata={'city': 'New York', 'temperature': '22°C°C', 'weather': 'sunny', 'climate': 'temperate'}, page_content='Weather is sunny and Climate is temperate')]},\n",
       "  {'input': 'What is the average temperature in Warsaw?',\n",
       "   'retriever_exception': False,\n",
       "   'generation': 'The temperature in Warsaw is 16°C.',\n",
       "   'web_search': 'No',\n",
       "   'documents': [Document(metadata={'city': 'Warsaw', 'temperature': '16°C°C', 'weather': 'overcast', 'climate': 'temperate'}, page_content='Weather is overcast and Climate is temperate')]}],\n",
       " 'candidate_answer': 'Based on the provided information, the hottest place among the given options is New York with an average temperature of 22°C.',\n",
       " 'answer': 'The hottest place among the given options is Fort Worth with a temperature of 75.0°F (23.9°C).'}"
      ]
     },
     "execution_count": 82,
     "metadata": {},
     "output_type": "execute_result"
    }
   ],
   "source": [
    "%%time\n",
    "query = \"Where is it hottest?\"\n",
    "res = app_main.invoke({\"input\": query, \"chat_history\": chat_history})\n",
    "chat_history += [query, res['answer']]\n",
    "res"
   ]
  },
  {
   "cell_type": "code",
   "execution_count": 83,
   "id": "fdc4b58a-b109-4219-bab9-0a7e3cd9733d",
   "metadata": {},
   "outputs": [
    {
     "data": {
      "text/plain": [
       "[\"What's the temperature in London?\",\n",
       " 'The temperature in London is 18°C.',\n",
       " \"What's the temperature in Fort Worth?\",\n",
       " 'The temperature in Fort Worth is 75.0°F (23.9°C).',\n",
       " 'Which cities have temperate climate?',\n",
       " 'Cities like Paris, New York, and Warsaw have a temperate climate.',\n",
       " 'Where is it hottest?',\n",
       " 'The hottest place among the given options is Fort Worth with a temperature of 75.0°F (23.9°C).']"
      ]
     },
     "execution_count": 83,
     "metadata": {},
     "output_type": "execute_result"
    }
   ],
   "source": [
    "chat_history"
   ]
  },
  {
   "cell_type": "code",
   "execution_count": 84,
   "id": "35edeeeb-70de-417a-959a-da89197d0f85",
   "metadata": {
    "scrolled": true
   },
   "outputs": [
    {
     "name": "stdout",
     "output_type": "stream",
     "text": [
      "---REFORMULATE QUERY USING HISTORY---\n",
      "---reformulated_query: Where is it raining?--\n",
      "---DECOMPOSE QUERY---\n",
      "---decomposed_queries: ['What cities are currently experiencing rain?']--\n",
      "---ANSWER SUB-QUERIES---\n",
      "---RETRIEVE---\n",
      "---CHECK RETRIEVER FOR EXCEPTION---\n",
      "---DECISION: NO EXCEPTION! GRADE DOCUMENTS---\n",
      "---CHECK DOCUMENT RELEVANCE TO QUESTION---\n",
      "---ASSESS GRADED DOCUMENTS---\n",
      "---DECISION: NONE OF THE DOCUMENTS ARE RELEVANT TO QUERY, WEB SEARCH---\n",
      "---WEB SEARCH---\n",
      "---modified_query: \"Current cities with rain worldwide\"---\n",
      "---GENERATE---\n",
      "---CHECK WHETHER GENERATION ANSWERS QUESTION---\n",
      "---DECISION: GENERATION ANSWERS QUESTION---\n",
      "---ANSWER QUERY---\n",
      "---MAINTAIN CONVERSATIONAL FLOW---\n",
      "CPU times: user 262 ms, sys: 10.5 ms, total: 272 ms\n",
      "Wall time: 16.4 s\n"
     ]
    },
    {
     "data": {
      "text/plain": [
       "{'input': 'Where is it raining?',\n",
       " 'chat_history': [\"What's the temperature in London?\",\n",
       "  'The temperature in London is 18°C.',\n",
       "  \"What's the temperature in Fort Worth?\",\n",
       "  'The temperature in Fort Worth is 75.0°F (23.9°C).',\n",
       "  'Which cities have temperate climate?',\n",
       "  'Cities like Paris, New York, and Warsaw have a temperate climate.',\n",
       "  'Where is it hottest?',\n",
       "  'The hottest place among the given options is Fort Worth with a temperature of 75.0°F (23.9°C).',\n",
       "  'Where is it raining?',\n",
       "  'It is raining in Wichita (Light rain).'],\n",
       " 'reformulated_query': 'Where is it raining?',\n",
       " 'sub_queries': ['What cities are currently experiencing rain?'],\n",
       " 'sub_answers': [{'input': '\"Current cities with rain worldwide\"',\n",
       "   'retriever_exception': False,\n",
       "   'generation': 'Based on the provided context, the following cities are mentioned as having rain:\\n\\n1. Wichita (Light rain)\\n2. Buenaventura (258 days of rain per year)\\n3. Cairns (117 days of rain per year)\\n4. Quibdo (holds the title of the wettest city in the world)\\n5. Cherrapunji (average annual rainfall, exact amount not specified)',\n",
       "   'web_search': 'Yes',\n",
       "   'documents': [Document(metadata={}, page_content=\"Weather forecast & current weather worldwide in ... My Cities (Personal World Clock) ... edit · Wichita ... Light rain. Passing clouds. Mild. 68 °F.\\nThe wettest city in the world is Buenaventura, where it rains 258 days per year. · Australia's rainiest city is Cairns in Queensland, with 117 days of\\nThis is a selected list of cities around the world with their average monthly precipitation in litres per square metre (equivalently millimetres).\\nThe nearby city of Quibdo holds the title of the wettest city in the world. 2. Cherrapunji, Meghalaya State, India. Average annual rainfall:\\nLoading live map: stay up to date with current rainfall! Rain Viewer App Get Rain Viewer · Larger map.\")]}],\n",
       " 'candidate_answer': 'Based on the provided context, it is raining in Wichita (Light rain).',\n",
       " 'answer': 'It is raining in Wichita (Light rain).'}"
      ]
     },
     "execution_count": 84,
     "metadata": {},
     "output_type": "execute_result"
    }
   ],
   "source": [
    "%%time\n",
    "query = \"Where is it raining?\"\n",
    "res = app_main.invoke({\"input\": query, \"chat_history\": chat_history})\n",
    "chat_history += [query, res['answer']]\n",
    "res"
   ]
  },
  {
   "cell_type": "code",
   "execution_count": 85,
   "id": "95a4f94e-03d3-4304-8122-91062099a613",
   "metadata": {},
   "outputs": [
    {
     "data": {
      "text/plain": [
       "[\"What's the temperature in London?\",\n",
       " 'The temperature in London is 18°C.',\n",
       " \"What's the temperature in Fort Worth?\",\n",
       " 'The temperature in Fort Worth is 75.0°F (23.9°C).',\n",
       " 'Which cities have temperate climate?',\n",
       " 'Cities like Paris, New York, and Warsaw have a temperate climate.',\n",
       " 'Where is it hottest?',\n",
       " 'The hottest place among the given options is Fort Worth with a temperature of 75.0°F (23.9°C).',\n",
       " 'Where is it raining?',\n",
       " 'It is raining in Wichita (Light rain).']"
      ]
     },
     "execution_count": 85,
     "metadata": {},
     "output_type": "execute_result"
    }
   ],
   "source": [
    "chat_history"
   ]
  },
  {
   "cell_type": "code",
   "execution_count": null,
   "id": "bad3b35d-329b-4488-aa6e-b09e9a0ee05d",
   "metadata": {},
   "outputs": [],
   "source": []
  },
  {
   "cell_type": "code",
   "execution_count": null,
   "id": "b02673a4-8a57-44ac-b719-08dd531ce3ce",
   "metadata": {},
   "outputs": [],
   "source": []
  },
  {
   "cell_type": "code",
   "execution_count": null,
   "id": "3ffd06f7-eaf7-41fe-a7f2-554258274ae8",
   "metadata": {},
   "outputs": [],
   "source": []
  },
  {
   "cell_type": "code",
   "execution_count": null,
   "id": "e2a9fc01-d15f-40e5-ba8b-c8ed893bcd5a",
   "metadata": {},
   "outputs": [],
   "source": []
  },
  {
   "cell_type": "code",
   "execution_count": null,
   "id": "eb18057a-8e45-4661-972e-859def87a5e0",
   "metadata": {},
   "outputs": [],
   "source": []
  },
  {
   "cell_type": "code",
   "execution_count": null,
   "id": "2d8bbc10-9947-41df-b33e-83ab5912361e",
   "metadata": {},
   "outputs": [],
   "source": []
  },
  {
   "cell_type": "code",
   "execution_count": null,
   "id": "9d04b736-c480-4635-ae0a-e504f4a1c315",
   "metadata": {},
   "outputs": [],
   "source": []
  },
  {
   "cell_type": "code",
   "execution_count": null,
   "id": "bc8847b6-88f2-4f8a-8667-9f3bea8b3773",
   "metadata": {},
   "outputs": [],
   "source": []
  },
  {
   "cell_type": "code",
   "execution_count": null,
   "id": "8689b3e6-f18b-4448-bb41-295351222556",
   "metadata": {},
   "outputs": [],
   "source": []
  },
  {
   "cell_type": "code",
   "execution_count": null,
   "id": "dbf6b882-c0d5-4934-8ad3-0aae2a3f3dab",
   "metadata": {},
   "outputs": [],
   "source": []
  }
 ],
 "metadata": {
  "kernelspec": {
   "display_name": "Python 3 (ipykernel)",
   "language": "python",
   "name": "python3"
  },
  "language_info": {
   "codemirror_mode": {
    "name": "ipython",
    "version": 3
   },
   "file_extension": ".py",
   "mimetype": "text/x-python",
   "name": "python",
   "nbconvert_exporter": "python",
   "pygments_lexer": "ipython3",
   "version": "3.12.3"
  }
 },
 "nbformat": 4,
 "nbformat_minor": 5
}
